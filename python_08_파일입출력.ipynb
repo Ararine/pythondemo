{
  "nbformat": 4,
  "nbformat_minor": 0,
  "metadata": {
    "colab": {
      "provenance": [],
      "authorship_tag": "ABX9TyNIORmypaPL8yylPtHNiWGX",
      "include_colab_link": true
    },
    "kernelspec": {
      "name": "python3",
      "display_name": "Python 3"
    },
    "language_info": {
      "name": "python"
    }
  },
  "cells": [
    {
      "cell_type": "markdown",
      "metadata": {
        "id": "view-in-github",
        "colab_type": "text"
      },
      "source": [
        "<a href=\"https://colab.research.google.com/github/Ararine/pythondemo/blob/main/python_08_%ED%8C%8C%EC%9D%BC%EC%9E%85%EC%B6%9C%EB%A0%A5.ipynb\" target=\"_parent\"><img src=\"https://colab.research.google.com/assets/colab-badge.svg\" alt=\"Open In Colab\"/></a>"
      ]
    },
    {
      "cell_type": "markdown",
      "source": [
        "open('파일경로', '파일열기모드')\n",
        "  - 파일 열기 모드\n",
        "    - w : 쓰기모드 - 파일에 내용을 쓸 때 사용\n",
        "    - r : 읽기모드 - 파일에 내용을 읽을 때 사용\n",
        "    - a : 추가모드 - 파일에 내용을 추가할 때 사용"
      ],
      "metadata": {
        "id": "17XntGiC_MQN"
      }
    },
    {
      "cell_type": "code",
      "execution_count": 4,
      "metadata": {
        "id": "gu14n4Ni_IJJ"
      },
      "outputs": [],
      "source": [
        "# open('파일경로', '모드')\n",
        "fwrite = open('sample.txt', 'w') # 파일 열기\n",
        "for i in range(1, 4):\n",
        "  data = '%d번째 줄입니다.\\n' %i\n",
        "  fwrite.write(data)\n",
        "fwrite.close() # 파일 닫기"
      ]
    },
    {
      "cell_type": "code",
      "source": [
        "fread = open('sample.txt', 'r') # sample.txt 파일에 데이터를 읽어온다.\n",
        "#line = fread.readline() # readline()은 파일에서 한 라인씩 읽어옴\n",
        "line = fread.read() # read()은 파일에서 전체를 읽어와 str로 리턴한다.\n",
        "print(type(line))\n",
        "fread.close()"
      ],
      "metadata": {
        "colab": {
          "base_uri": "https://localhost:8080/"
        },
        "id": "BSsHtMwUBZZb",
        "outputId": "a872ff04-83ef-40cc-9885-ef42cb866c1b"
      },
      "execution_count": 5,
      "outputs": [
        {
          "output_type": "stream",
          "name": "stdout",
          "text": [
            "<class 'str'>\n"
          ]
        }
      ]
    },
    {
      "cell_type": "code",
      "source": [
        "fread = open('sample.txt', 'r') # sample.txt파일에 데이터를 읽어온다.\n",
        "while True:\n",
        "    line = fread.readline() # readline()은 파일에서 한 라인씩 읽어옴\n",
        "    if not line : #파일에서 더 이상 읽어올 내용이 없으면\n",
        "        break\n",
        "    print(line)\n",
        "fread.close()"
      ],
      "metadata": {
        "colab": {
          "base_uri": "https://localhost:8080/"
        },
        "id": "xzLDtMstCX1Y",
        "outputId": "98679775-d180-442c-cb3f-2a387b08491c"
      },
      "execution_count": 7,
      "outputs": [
        {
          "output_type": "stream",
          "name": "stdout",
          "text": [
            "1번째 줄입니다.\n",
            "\n",
            "2번째 줄입니다.\n",
            "\n",
            "3번째 줄입니다.\n",
            "\n"
          ]
        }
      ]
    },
    {
      "cell_type": "markdown",
      "source": [
        "### with문과 함께 사용\n",
        "  - with 문과 함께 파일을 사용하면 읽기, 쓰기할 때 close()을 안해도 된다."
      ],
      "metadata": {
        "id": "Rar_6ITjESNM"
      }
    },
    {
      "cell_type": "code",
      "source": [
        "with open('sample.txt', 'w') as f:\n",
        "  for i in range(5,8):\n",
        "    data = '%d번째 줄 입니다.\\n' %i\n",
        "    f.write(data)"
      ],
      "metadata": {
        "id": "jmMMwRTgEJn1"
      },
      "execution_count": 10,
      "outputs": []
    },
    {
      "cell_type": "code",
      "source": [
        "with open('sample.txt', 'r') as f:\n",
        "  while True:\n",
        "    line = f.readline()\n",
        "    if not line :\n",
        "      break\n",
        "    print(line)"
      ],
      "metadata": {
        "colab": {
          "base_uri": "https://localhost:8080/"
        },
        "id": "ESU3zWPcEyk9",
        "outputId": "062fe405-91ab-47a7-96ee-b5a813436570"
      },
      "execution_count": 11,
      "outputs": [
        {
          "output_type": "stream",
          "name": "stdout",
          "text": [
            "5번째 줄 입니다.\n",
            "\n",
            "6번째 줄 입니다.\n",
            "\n",
            "7번째 줄 입니다.\n",
            "\n"
          ]
        }
      ]
    },
    {
      "cell_type": "code",
      "source": [
        "with open('sample.txt', 'w') as f:\n",
        "  #f.writelines(['apple','banana','lemon'])\n",
        "  f.writelines([True,False,True,False])"
      ],
      "metadata": {
        "colab": {
          "base_uri": "https://localhost:8080/",
          "height": 211
        },
        "id": "ueunT2RsFgLl",
        "outputId": "8690f96b-86ff-425d-8324-71693965602b"
      },
      "execution_count": 17,
      "outputs": [
        {
          "output_type": "error",
          "ename": "TypeError",
          "evalue": "ignored",
          "traceback": [
            "\u001b[0;31m---------------------------------------------------------------------------\u001b[0m",
            "\u001b[0;31mTypeError\u001b[0m                                 Traceback (most recent call last)",
            "\u001b[0;32m<ipython-input-17-76468f7ad6cc>\u001b[0m in \u001b[0;36m<module>\u001b[0;34m\u001b[0m\n\u001b[1;32m      1\u001b[0m \u001b[0;32mwith\u001b[0m \u001b[0mopen\u001b[0m\u001b[0;34m(\u001b[0m\u001b[0;34m'sample.txt'\u001b[0m\u001b[0;34m,\u001b[0m \u001b[0;34m'w'\u001b[0m\u001b[0;34m)\u001b[0m \u001b[0;32mas\u001b[0m \u001b[0mf\u001b[0m\u001b[0;34m:\u001b[0m\u001b[0;34m\u001b[0m\u001b[0;34m\u001b[0m\u001b[0m\n\u001b[1;32m      2\u001b[0m   \u001b[0;31m#f.writelines(['apple','banana','lemon'])\u001b[0m\u001b[0;34m\u001b[0m\u001b[0;34m\u001b[0m\u001b[0;34m\u001b[0m\u001b[0m\n\u001b[0;32m----> 3\u001b[0;31m   \u001b[0mf\u001b[0m\u001b[0;34m.\u001b[0m\u001b[0mwritelines\u001b[0m\u001b[0;34m(\u001b[0m\u001b[0;34m[\u001b[0m\u001b[0;32mTrue\u001b[0m\u001b[0;34m,\u001b[0m\u001b[0;32mFalse\u001b[0m\u001b[0;34m,\u001b[0m\u001b[0;32mTrue\u001b[0m\u001b[0;34m,\u001b[0m\u001b[0;32mFalse\u001b[0m\u001b[0;34m]\u001b[0m\u001b[0;34m)\u001b[0m\u001b[0;34m\u001b[0m\u001b[0;34m\u001b[0m\u001b[0m\n\u001b[0m",
            "\u001b[0;31mTypeError\u001b[0m: write() argument must be str, not bool"
          ]
        }
      ]
    },
    {
      "cell_type": "code",
      "source": [
        "with open('sample.txt', 'r') as f:\n",
        "    print(f.readlines())"
      ],
      "metadata": {
        "colab": {
          "base_uri": "https://localhost:8080/"
        },
        "id": "td7wM2f5F8_W",
        "outputId": "55272e6a-f5b3-4b80-cc35-f627a8fd5ea1"
      },
      "execution_count": 16,
      "outputs": [
        {
          "output_type": "stream",
          "name": "stdout",
          "text": [
            "['TrueFalseTrueFalse']\n"
          ]
        }
      ]
    },
    {
      "cell_type": "code",
      "source": [
        "import random"
      ],
      "metadata": {
        "id": "3ZDTEMVdFmJH"
      },
      "execution_count": 18,
      "outputs": []
    },
    {
      "cell_type": "code",
      "source": [
        "random.choice([1,2,3,4])"
      ],
      "metadata": {
        "colab": {
          "base_uri": "https://localhost:8080/"
        },
        "id": "C6lqBPHSGwuV",
        "outputId": "a3ffc935-bdd0-41f9-e758-d83f8d917dbf"
      },
      "execution_count": 33,
      "outputs": [
        {
          "output_type": "execute_result",
          "data": {
            "text/plain": [
              "4"
            ]
          },
          "metadata": {},
          "execution_count": 33
        }
      ]
    },
    {
      "cell_type": "code",
      "source": [
        "random.randrange(1, 10) # 1부터 10미만 사이의 난수 발생"
      ],
      "metadata": {
        "colab": {
          "base_uri": "https://localhost:8080/"
        },
        "id": "ohPCl1L8G0Ts",
        "outputId": "e507cfdb-ffc0-4081-82fa-a1a645d6feff"
      },
      "execution_count": 54,
      "outputs": [
        {
          "output_type": "execute_result",
          "data": {
            "text/plain": [
              "5"
            ]
          },
          "metadata": {},
          "execution_count": 54
        }
      ]
    },
    {
      "cell_type": "code",
      "source": [
        "with open('number.txt', 'w') as f:\n",
        "  f.write(str(random.randrange(1,10)))"
      ],
      "metadata": {
        "id": "9uYIZWNVHQ5I"
      },
      "execution_count": 57,
      "outputs": []
    },
    {
      "cell_type": "code",
      "source": [
        "with open('number.txt', 'r') as f:\n",
        "  print(f.read())"
      ],
      "metadata": {
        "colab": {
          "base_uri": "https://localhost:8080/"
        },
        "id": "H91jTo4GHlX2",
        "outputId": "e47c592c-d242-4be5-f2ab-7a7af14e47b1"
      },
      "execution_count": 58,
      "outputs": [
        {
          "output_type": "stream",
          "name": "stdout",
          "text": [
            "8\n"
          ]
        }
      ]
    }
  ]
}