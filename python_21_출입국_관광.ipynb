{
  "nbformat": 4,
  "nbformat_minor": 0,
  "metadata": {
    "colab": {
      "provenance": [],
      "authorship_tag": "ABX9TyPLch1Zfadv/PdFcCBw0Qgv",
      "include_colab_link": true
    },
    "kernelspec": {
      "name": "python3",
      "display_name": "Python 3"
    },
    "language_info": {
      "name": "python"
    }
  },
  "cells": [
    {
      "cell_type": "markdown",
      "metadata": {
        "id": "view-in-github",
        "colab_type": "text"
      },
      "source": [
        "<a href=\"https://colab.research.google.com/github/Ararine/pythondemo/blob/main/python_21_%EC%B6%9C%EC%9E%85%EA%B5%AD_%EA%B4%80%EA%B4%91.ipynb\" target=\"_parent\"><img src=\"https://colab.research.google.com/assets/colab-badge.svg\" alt=\"Open In Colab\"/></a>"
      ]
    },
    {
      "cell_type": "markdown",
      "source": [
        "### 구글 드라이브 연동"
      ],
      "metadata": {
        "id": "pgq0UP7-YOUC"
      }
    },
    {
      "cell_type": "code",
      "execution_count": null,
      "metadata": {
        "colab": {
          "base_uri": "https://localhost:8080/"
        },
        "id": "F6oxcex8YIZi",
        "outputId": "7f39934a-e5b4-4a34-eae9-06422718b593"
      },
      "outputs": [
        {
          "output_type": "stream",
          "name": "stdout",
          "text": [
            "Mounted at /content/drive\n",
            "/content/drive/MyDrive/python_demo\n"
          ]
        }
      ],
      "source": [
        "from google.colab import drive\n",
        "drive.mount('/content/drive')\n",
        "%cd /content/drive/MyDrive/python_demo"
      ]
    },
    {
      "cell_type": "code",
      "source": [
        "!pip install xmltodict"
      ],
      "metadata": {
        "id": "pye4ZV4A2TYB",
        "colab": {
          "base_uri": "https://localhost:8080/"
        },
        "outputId": "f78e5d2c-adc2-459e-aa39-d6b20f445158"
      },
      "execution_count": 14,
      "outputs": [
        {
          "output_type": "stream",
          "name": "stdout",
          "text": [
            "Looking in indexes: https://pypi.org/simple, https://us-python.pkg.dev/colab-wheels/public/simple/\n",
            "Collecting xmltodict\n",
            "  Downloading xmltodict-0.13.0-py2.py3-none-any.whl (10.0 kB)\n",
            "Installing collected packages: xmltodict\n",
            "Successfully installed xmltodict-0.13.0\n"
          ]
        }
      ]
    },
    {
      "cell_type": "code",
      "source": [
        "import requests\n",
        "import json\n",
        "import xmltodict\n",
        "\n",
        "ServiceKey = 'u5sNBToZRHpLRGlqy7NWNvgKP/clcelfzp6Pi3Mj/I0dTlk+omjMl9P9aw2JLAwMaeFmuEiDEEgTjqrkN5y6lQ=='# decoding\n",
        "# ServiceKey = 'u5sNBToZRHpLRGlqy7NWNvgKP%2Fclcelfzp6Pi3Mj%2FI0dTlk%2BomjMl9P9aw2JLAwMaeFmuEiDEEgTjqrkN5y6lQ%3D%3D'# encoding\n",
        "\n",
        "\n",
        "def getTourismStatesItem(yyyymm, national_code, ed_cd):\n",
        "  url = 'http://openapi.tour.go.kr/openapi/service/EdrcntTourismStatsService/getEdrcntTourismStatsList'\n",
        "  params ={'serviceKey' : ServiceKey, 'YM' : yyyymm, 'NAT_CD' : national_code, 'ED_CD' : ed_cd }\n",
        "\n",
        "  response = requests.get(url, params=params)\n",
        "  # print(response.content)\n",
        "  # print(response.text)\n",
        "  return response.text\n",
        "\n",
        "jsonResult = []\n",
        "result = []\n",
        "natName = ''\n",
        "print('<<국내 입국한 외군인의 통계를 수집합니다.>>')\n",
        "nat_cd = input('국가 코드를 입력하세요(중국 : 112 / 일본 : 130 / 미국 : 275) : ')\n",
        "nStartYear = int(input('데이터를 몇 년부터 수집할까요?:'))\n",
        "nEndYear = int(input('데이터를 몇 년까지 수집할까요?:'))\n",
        "ed_cd = 'E' # E:방한외래관광객, D:해외 출국\n",
        "\n",
        "dataEND = '{0}{1:0>2}'.format(str(nEndYear), str(12))\n",
        "print(dataEND)\n",
        "isDataEnd = 0 # 데이터 끝 확인용 flat 초기화\n",
        "\n",
        "for year in range(nStartYear, nEndYear +1):\n",
        "  for month in range(1, 13):\n",
        "    if isDataEnd == 1: break # 데이터 끝 flag 설정되어 있으면 작업 중지\n",
        "    yyyymm = '{0}{1:0>2}'.format(str(year), str(month))\n",
        "\n",
        "    jsonData = getTourismStatesItem(yyyymm, nat_cd, ed_cd)\n",
        "    jsonData = xmltodict.parse(jsonData)\n",
        "    # print(jsonData)\n",
        "\n",
        "\n",
        "\n",
        "    if jsonData['response']['header']['resultMsg'] == 'OK':\n",
        "      if jsonData['response']['body']['items'] == '':\n",
        "        isDataEnd = 1 # 데이터 끝 flag 설정\n",
        "        dataEND = '{0}{1:0>2}'.format(str(year), str(month-1))\n",
        "        print('데이터 없음...\\n 제공되는 통계 데이터는 %s년 %월까지입니다.' %str(year), str(month-1))\n",
        "        break\n",
        "\n",
        "      # jsonData를 출력하여 확인...................................................................\n",
        "      natName = jsonData['response']['body']['items']['item']['natKorNm']\n",
        "      natName = natName.replace(' ','')\n",
        "      num = jsonData['response']['body']['items']['item']['num']\n",
        "      ed = jsonData['response']['body']['items']['item']['ed']\n",
        "      ym = jsonData['response']['body']['items']['item']['ym']\n",
        "      print('[%s_%s_%s : %s 명]' %(ym, natName, ed, num))\n",
        "\n",
        "\n"
      ],
      "metadata": {
        "colab": {
          "base_uri": "https://localhost:8080/"
        },
        "id": "Fj-NRUuBY_Ry",
        "outputId": "eaf0df3f-7220-405f-860c-86e101e42830"
      },
      "execution_count": 26,
      "outputs": [
        {
          "output_type": "stream",
          "name": "stdout",
          "text": [
            "<<국내 입국한 외군인의 통계를 수집합니다.>>\n",
            "국가 코드를 입력하세요(중국 : 112 / 일본 : 130 / 미국 : 275) : 130\n",
            "데이터를 몇 년부터 수집할까요?:2012\n",
            "데이터를 몇 년까지 수집할까요?:2013\n",
            "201312\n",
            "[201201_일본_방한외래관광객 : 244370 명]\n",
            "[201202_일본_방한외래관광객 : 294317 명]\n",
            "[201203_일본_방한외래관광객 : 360719 명]\n",
            "[201204_일본_방한외래관광객 : 298656 명]\n",
            "[201205_일본_방한외래관광객 : 316598 명]\n",
            "[201206_일본_방한외래관광객 : 302383 명]\n",
            "[201207_일본_방한외래관광객 : 299477 명]\n",
            "[201208_일본_방한외래관광객 : 346950 명]\n",
            "[201209_일본_방한외래관광객 : 308882 명]\n",
            "[201210_일본_방한외래관광객 : 269732 명]\n",
            "[201211_일본_방한외래관광객 : 249481 명]\n",
            "[201212_일본_방한외래관광객 : 227227 명]\n",
            "[201301_일본_방한외래관광객 : 206474 명]\n",
            "[201302_일본_방한외래관광객 : 217153 명]\n",
            "[201303_일본_방한외래관광객 : 288900 명]\n",
            "[201304_일본_방한외래관광객 : 202529 명]\n",
            "[201305_일본_방한외래관광객 : 222936 명]\n",
            "[201306_일본_방한외래관광객 : 201163 명]\n",
            "[201307_일본_방한외래관광객 : 208219 명]\n",
            "[201308_일본_방한외래관광객 : 270582 명]\n",
            "[201309_일본_방한외래관광객 : 246926 명]\n",
            "[201310_일본_방한외래관광객 : 245021 명]\n",
            "[201311_일본_방한외래관광객 : 222797 명]\n",
            "[201312_일본_방한외래관광객 : 215050 명]\n"
          ]
        }
      ]
    },
    {
      "cell_type": "code",
      "source": [],
      "metadata": {
        "id": "74mUGpWl3aij"
      },
      "execution_count": null,
      "outputs": []
    }
  ]
}