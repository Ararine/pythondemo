{
  "nbformat": 4,
  "nbformat_minor": 0,
  "metadata": {
    "colab": {
      "provenance": [],
      "authorship_tag": "ABX9TyMwieaipnzs3liketcLyB9X",
      "include_colab_link": true
    },
    "kernelspec": {
      "name": "python3",
      "display_name": "Python 3"
    },
    "language_info": {
      "name": "python"
    }
  },
  "cells": [
    {
      "cell_type": "markdown",
      "metadata": {
        "id": "view-in-github",
        "colab_type": "text"
      },
      "source": [
        "<a href=\"https://colab.research.google.com/github/Ararine/pythondemo/blob/main/python_03_statement.ipynb\" target=\"_parent\"><img src=\"https://colab.research.google.com/assets/colab-badge.svg\" alt=\"Open In Colab\"/></a>"
      ]
    },
    {
      "cell_type": "code",
      "execution_count": null,
      "metadata": {
        "colab": {
          "base_uri": "https://localhost:8080/"
        },
        "id": "T5RK-jAtrvq0",
        "outputId": "8468c989-48cf-4e4c-d320-ef617d5b1038"
      },
      "outputs": [
        {
          "output_type": "stream",
          "name": "stdout",
          "text": [
            "No\n"
          ]
        }
      ],
      "source": [
        "a = 1\n",
        "if a>3 :\n",
        "  print('Yes')\n",
        "else:\n",
        "  print('No')"
      ]
    },
    {
      "cell_type": "code",
      "source": [
        "if a>0:\n",
        "  print('Yes')\n",
        "  print('Ok')\n",
        "else :\n",
        "  print('No')"
      ],
      "metadata": {
        "colab": {
          "base_uri": "https://localhost:8080/"
        },
        "id": "jP-XkSU2sbgc",
        "outputId": "4e912e56-be8a-4453-b46b-1b871b6ae68b"
      },
      "execution_count": null,
      "outputs": [
        {
          "output_type": "stream",
          "name": "stdout",
          "text": [
            "Yes\n",
            "Ok\n"
          ]
        }
      ]
    },
    {
      "cell_type": "code",
      "source": [
        "# jumsu가 80이상 '상', 80미만 60이상 '중', 60미만 '하'\n",
        "jumsu =55\n",
        "\n",
        "if jumsu >= 80:\n",
        "  print('상')\n",
        "elif jumsu >= 60:\n",
        "  print('중')\n",
        "else :\n",
        "  print('하')"
      ],
      "metadata": {
        "colab": {
          "base_uri": "https://localhost:8080/"
        },
        "id": "j8sYeMs3sp1x",
        "outputId": "a3177776-1ddd-4687-cb2b-60208719a8d0"
      },
      "execution_count": null,
      "outputs": [
        {
          "output_type": "stream",
          "name": "stdout",
          "text": [
            "하\n"
          ]
        }
      ]
    },
    {
      "cell_type": "markdown",
      "source": [
        "### existance\n",
        "  - python에서 조건은 존재론(existance)적이다. -> truthy, falsy"
      ],
      "metadata": {
        "id": "qF1RlO2qtjJA"
      }
    },
    {
      "cell_type": "markdown",
      "source": [
        "#### 0은 숫자가 없는 것과 같음 -> falsy"
      ],
      "metadata": {
        "id": "y3hsRMSOwIOR"
      }
    },
    {
      "cell_type": "code",
      "source": [
        "a = 0.0\n",
        "if a:\n",
        "  print('Yes')\n",
        "else :\n",
        "  print(\"No\")"
      ],
      "metadata": {
        "colab": {
          "base_uri": "https://localhost:8080/"
        },
        "id": "l3xlbpvgthdr",
        "outputId": "3d45f190-197c-4411-bb02-ffee0de6335d"
      },
      "execution_count": null,
      "outputs": [
        {
          "output_type": "stream",
          "name": "stdout",
          "text": [
            "No\n"
          ]
        }
      ]
    },
    {
      "cell_type": "markdown",
      "source": [
        "#### None은 객체가 없는 것과 같음 -> falsy"
      ],
      "metadata": {
        "id": "woRLxJtvwM0Y"
      }
    },
    {
      "cell_type": "code",
      "source": [
        "a = None\n",
        "if a:\n",
        "  print('Yes')\n",
        "else :\n",
        "  print('No')"
      ],
      "metadata": {
        "colab": {
          "base_uri": "https://localhost:8080/"
        },
        "id": "hQJ8rBahuytv",
        "outputId": "19ad6055-bff4-48ce-9efb-c3c8292756b7"
      },
      "execution_count": null,
      "outputs": [
        {
          "output_type": "stream",
          "name": "stdout",
          "text": [
            "No\n"
          ]
        }
      ]
    },
    {
      "cell_type": "markdown",
      "source": [
        "#### 비어 있는 dict은 없는 것과 같음 -> falsy"
      ],
      "metadata": {
        "id": "ABzRs51OwO9C"
      }
    },
    {
      "cell_type": "code",
      "source": [
        "a = {}\n",
        "if a:\n",
        "  print(\"Yes\")\n",
        "else :\n",
        "  print('No')"
      ],
      "metadata": {
        "colab": {
          "base_uri": "https://localhost:8080/"
        },
        "id": "SOn-GbtovMGd",
        "outputId": "0e2e0c23-ad07-4c17-b486-5ec2a0d7f136"
      },
      "execution_count": null,
      "outputs": [
        {
          "output_type": "stream",
          "name": "stdout",
          "text": [
            "No\n"
          ]
        }
      ]
    },
    {
      "cell_type": "markdown",
      "source": [
        "#### 인스턴스 방식으로 값을 만들 때 괄호 안이 비어 있으면 비어 있는 값을 만든다.\n",
        "#### if에서 모두 false이다."
      ],
      "metadata": {
        "id": "_cSQqoW_wSLI"
      }
    },
    {
      "cell_type": "code",
      "source": [
        "a = int()\n",
        "b = float()\n",
        "c = complex()\n",
        "d = list()"
      ],
      "metadata": {
        "id": "CsY6Df5fvel7"
      },
      "execution_count": null,
      "outputs": []
    },
    {
      "cell_type": "code",
      "source": [
        "a = int()\n",
        "if a :\n",
        "  print('Yes')\n",
        "else :\n",
        "  print('No')"
      ],
      "metadata": {
        "colab": {
          "base_uri": "https://localhost:8080/"
        },
        "id": "2oP9H-Tuvt1m",
        "outputId": "a1799735-e892-4855-ca2b-a7f772e61c7e"
      },
      "execution_count": null,
      "outputs": [
        {
          "output_type": "stream",
          "name": "stdout",
          "text": [
            "No\n"
          ]
        }
      ]
    },
    {
      "cell_type": "code",
      "source": [
        "b = float()\n",
        "if b :\n",
        "  print('Yes')\n",
        "else :\n",
        "  print('No')"
      ],
      "metadata": {
        "colab": {
          "base_uri": "https://localhost:8080/"
        },
        "id": "u1Uw6kUqv0BK",
        "outputId": "04f3cf0a-daba-435d-aeaf-e0ecee71cc19"
      },
      "execution_count": null,
      "outputs": [
        {
          "output_type": "stream",
          "name": "stdout",
          "text": [
            "No\n"
          ]
        }
      ]
    },
    {
      "cell_type": "code",
      "source": [
        "c = complex()\n",
        "if c :\n",
        "  print('Yes')\n",
        "else :\n",
        "  print('No')"
      ],
      "metadata": {
        "colab": {
          "base_uri": "https://localhost:8080/"
        },
        "id": "rHuvZKipv0vU",
        "outputId": "eafdb95c-632f-4b17-e308-948fc42ea73a"
      },
      "execution_count": null,
      "outputs": [
        {
          "output_type": "stream",
          "name": "stdout",
          "text": [
            "No\n"
          ]
        }
      ]
    },
    {
      "cell_type": "code",
      "source": [
        "d = list()\n",
        "if d :\n",
        "  print('Yes')\n",
        "else :\n",
        "  print('No')"
      ],
      "metadata": {
        "colab": {
          "base_uri": "https://localhost:8080/"
        },
        "id": "X7QIxlcQv1mU",
        "outputId": "342ba7d5-5fdc-45a9-947b-3cd4740dbf4f"
      },
      "execution_count": null,
      "outputs": [
        {
          "output_type": "stream",
          "name": "stdout",
          "text": [
            "No\n"
          ]
        }
      ]
    },
    {
      "cell_type": "code",
      "source": [
        "3<2 or 4<5"
      ],
      "metadata": {
        "colab": {
          "base_uri": "https://localhost:8080/"
        },
        "id": "wUcgnxWexpdA",
        "outputId": "fb7382ba-a624-4434-f255-86ee3d2b8785"
      },
      "execution_count": null,
      "outputs": [
        {
          "output_type": "execute_result",
          "data": {
            "text/plain": [
              "True"
            ]
          },
          "metadata": {},
          "execution_count": 12
        }
      ]
    },
    {
      "cell_type": "code",
      "source": [
        "# and는 앞이 True이면 뒤에 값을 반환한다.\n",
        "# 3은 존재론적으로 True\n",
        "3 and 4"
      ],
      "metadata": {
        "colab": {
          "base_uri": "https://localhost:8080/"
        },
        "id": "WLd_-5-hxtFC",
        "outputId": "5e51e704-8814-4eff-e8a4-d58183510fdd"
      },
      "execution_count": null,
      "outputs": [
        {
          "output_type": "execute_result",
          "data": {
            "text/plain": [
              "4"
            ]
          },
          "metadata": {},
          "execution_count": 13
        }
      ]
    },
    {
      "cell_type": "code",
      "source": [
        "# and는 앞이 False이면 앞에 값을 반환한다.\n",
        "# 비어 있는 문자열은 없는 것과 같은 -> falsy\n",
        "\"\" and 4"
      ],
      "metadata": {
        "colab": {
          "base_uri": "https://localhost:8080/",
          "height": 35
        },
        "id": "-WNnpAD2yV1I",
        "outputId": "1a1cec45-ccac-4641-fae6-4187bbb9fd94"
      },
      "execution_count": null,
      "outputs": [
        {
          "output_type": "execute_result",
          "data": {
            "text/plain": [
              "''"
            ],
            "application/vnd.google.colaboratory.intrinsic+json": {
              "type": "string"
            }
          },
          "metadata": {},
          "execution_count": 15
        }
      ]
    },
    {
      "cell_type": "code",
      "source": [
        "# or는 and의 반대\n",
        "# 앞이 True이면 앞, 앞이 false이면 뒤의 값을 반환한다.\n",
        "3 or 4"
      ],
      "metadata": {
        "colab": {
          "base_uri": "https://localhost:8080/"
        },
        "id": "pLdA8TGmymbh",
        "outputId": "755812e4-829f-425a-d363-fccf111e7520"
      },
      "execution_count": null,
      "outputs": [
        {
          "output_type": "execute_result",
          "data": {
            "text/plain": [
              "3"
            ]
          },
          "metadata": {},
          "execution_count": 16
        }
      ]
    },
    {
      "cell_type": "code",
      "source": [
        "\"\" or 4"
      ],
      "metadata": {
        "colab": {
          "base_uri": "https://localhost:8080/"
        },
        "id": "3mzWqWD7zD6L",
        "outputId": "e1480e24-e165-482f-dba5-fe7b1721d7b7"
      },
      "execution_count": null,
      "outputs": [
        {
          "output_type": "execute_result",
          "data": {
            "text/plain": [
              "4"
            ]
          },
          "metadata": {},
          "execution_count": 17
        }
      ]
    },
    {
      "cell_type": "code",
      "source": [
        "# if 조건에 문장을 사용할 수 없다.\n",
        "if a=4:\n",
        "  print(\"Yes\")\n",
        "else :\n",
        "  print(\"No\")"
      ],
      "metadata": {
        "id": "4y6y88K73XP9"
      },
      "execution_count": null,
      "outputs": []
    },
    {
      "cell_type": "markdown",
      "source": [
        "#### for문"
      ],
      "metadata": {
        "id": "BZUCFdB44MzD"
      }
    },
    {
      "cell_type": "code",
      "source": [
        "for v in [1,2,3,4,5]: # javascript 와의 for ~ of 문과 동일하다. 다르니 주의\n",
        "  print(v)"
      ],
      "metadata": {
        "colab": {
          "base_uri": "https://localhost:8080/"
        },
        "id": "cQOqdrxz4OwV",
        "outputId": "59a35278-1f6f-43d0-e68e-21f9a4654cd0"
      },
      "execution_count": null,
      "outputs": [
        {
          "output_type": "stream",
          "name": "stdout",
          "text": [
            "1\n",
            "2\n",
            "3\n",
            "4\n",
            "5\n"
          ]
        }
      ]
    },
    {
      "cell_type": "code",
      "source": [
        "for v in 'python':\n",
        "  print(v)"
      ],
      "metadata": {
        "colab": {
          "base_uri": "https://localhost:8080/"
        },
        "id": "DDKootHc59BZ",
        "outputId": "d1ffaf73-8e59-43ac-b4a5-1e552cfff14a"
      },
      "execution_count": null,
      "outputs": [
        {
          "output_type": "stream",
          "name": "stdout",
          "text": [
            "p\n",
            "y\n",
            "t\n",
            "h\n",
            "o\n",
            "n\n"
          ]
        }
      ]
    },
    {
      "cell_type": "code",
      "source": [
        "t=[('one',1),('two',2)]\n",
        "for k, v in t:\n",
        "  print('{0}:{1}'.format(k,v))"
      ],
      "metadata": {
        "colab": {
          "base_uri": "https://localhost:8080/"
        },
        "id": "LLKRSsu96CLJ",
        "outputId": "6fc742b9-d7e8-45c1-ced0-275bc944b2be"
      },
      "execution_count": null,
      "outputs": [
        {
          "output_type": "stream",
          "name": "stdout",
          "text": [
            "one:1\n",
            "two:2\n"
          ]
        }
      ]
    },
    {
      "cell_type": "code",
      "source": [
        "dic={'a':1, 'b':2}\n",
        "for k in dic:\n",
        "  print('{0}:{1}'.format(k,dic[k]))"
      ],
      "metadata": {
        "colab": {
          "base_uri": "https://localhost:8080/"
        },
        "id": "uX-BJDIm6cQP",
        "outputId": "d13c8ac3-9b0b-4652-d4d5-a554067dbfe9"
      },
      "execution_count": null,
      "outputs": [
        {
          "output_type": "stream",
          "name": "stdout",
          "text": [
            "a:1\n",
            "b:2\n"
          ]
        }
      ]
    },
    {
      "cell_type": "code",
      "source": [
        "dir(dict)"
      ],
      "metadata": {
        "colab": {
          "base_uri": "https://localhost:8080/"
        },
        "id": "_Ipq2vi37u2C",
        "outputId": "bd3439e8-9621-488d-e984-1e23e262f0a0"
      },
      "execution_count": null,
      "outputs": [
        {
          "output_type": "execute_result",
          "data": {
            "text/plain": [
              "['__class__',\n",
              " '__contains__',\n",
              " '__delattr__',\n",
              " '__delitem__',\n",
              " '__dir__',\n",
              " '__doc__',\n",
              " '__eq__',\n",
              " '__format__',\n",
              " '__ge__',\n",
              " '__getattribute__',\n",
              " '__getitem__',\n",
              " '__gt__',\n",
              " '__hash__',\n",
              " '__init__',\n",
              " '__init_subclass__',\n",
              " '__iter__',\n",
              " '__le__',\n",
              " '__len__',\n",
              " '__lt__',\n",
              " '__ne__',\n",
              " '__new__',\n",
              " '__reduce__',\n",
              " '__reduce_ex__',\n",
              " '__repr__',\n",
              " '__reversed__',\n",
              " '__setattr__',\n",
              " '__setitem__',\n",
              " '__sizeof__',\n",
              " '__str__',\n",
              " '__subclasshook__',\n",
              " 'clear',\n",
              " 'copy',\n",
              " 'fromkeys',\n",
              " 'get',\n",
              " 'items',\n",
              " 'keys',\n",
              " 'pop',\n",
              " 'popitem',\n",
              " 'setdefault',\n",
              " 'update',\n",
              " 'values']"
            ]
          },
          "metadata": {},
          "execution_count": 25
        }
      ]
    },
    {
      "cell_type": "code",
      "source": [
        "print(len(dir(dict)), len(dir(dic)))"
      ],
      "metadata": {
        "colab": {
          "base_uri": "https://localhost:8080/"
        },
        "id": "DKh5zyqd7-0m",
        "outputId": "d8cc7f9f-33e7-4d8e-a252-77262479aff7"
      },
      "execution_count": null,
      "outputs": [
        {
          "output_type": "stream",
          "name": "stdout",
          "text": [
            "41 41\n"
          ]
        }
      ]
    },
    {
      "cell_type": "code",
      "source": [
        "dic.__doc__"
      ],
      "metadata": {
        "colab": {
          "base_uri": "https://localhost:8080/",
          "height": 54
        },
        "id": "68M3xJzQ8LqW",
        "outputId": "5dd3b20b-6227-42ef-8125-65468192513e"
      },
      "execution_count": null,
      "outputs": [
        {
          "output_type": "execute_result",
          "data": {
            "text/plain": [
              "\"dict() -> new empty dictionary\\ndict(mapping) -> new dictionary initialized from a mapping object's\\n    (key, value) pairs\\ndict(iterable) -> new dictionary initialized as if via:\\n    d = {}\\n    for k, v in iterable:\\n        d[k] = v\\ndict(**kwargs) -> new dictionary initialized with the name=value pairs\\n    in the keyword argument list.  For example:  dict(one=1, two=2)\""
            ],
            "application/vnd.google.colaboratory.intrinsic+json": {
              "type": "string"
            }
          },
          "metadata": {},
          "execution_count": 27
        }
      ]
    },
    {
      "cell_type": "code",
      "source": [
        "dict.__doc__"
      ],
      "metadata": {
        "colab": {
          "base_uri": "https://localhost:8080/",
          "height": 54
        },
        "id": "JjMP9yxw8St2",
        "outputId": "460a205f-4c72-4b2c-daeb-1b52573d2878"
      },
      "execution_count": null,
      "outputs": [
        {
          "output_type": "execute_result",
          "data": {
            "text/plain": [
              "\"dict() -> new empty dictionary\\ndict(mapping) -> new dictionary initialized from a mapping object's\\n    (key, value) pairs\\ndict(iterable) -> new dictionary initialized as if via:\\n    d = {}\\n    for k, v in iterable:\\n        d[k] = v\\ndict(**kwargs) -> new dictionary initialized with the name=value pairs\\n    in the keyword argument list.  For example:  dict(one=1, two=2)\""
            ],
            "application/vnd.google.colaboratory.intrinsic+json": {
              "type": "string"
            }
          },
          "metadata": {},
          "execution_count": 28
        }
      ]
    },
    {
      "cell_type": "markdown",
      "source": [
        "### 반복문\n",
        "  - 반복문에서 else는 반복문이 완벽하게 끝났을 때 실행된다.\n",
        "  - 대부분의 프로그래밍 언어는 while과 for을 지원한다.\n",
        "\n",
        "\n"
      ],
      "metadata": {
        "id": "_Xddn0-n-i_0"
      }
    },
    {
      "cell_type": "code",
      "source": [
        "#   아래는 while문이 완벽히 돌았으므로 end가 출련된다.\n",
        "\n",
        "a = 20\n",
        "\n",
        "while a>10:\n",
        "  a -= 1\n",
        "  print(a)\n",
        "else:\n",
        "  print('end')"
      ],
      "metadata": {
        "colab": {
          "base_uri": "https://localhost:8080/"
        },
        "id": "iJtKz_M_9ygq",
        "outputId": "b9d6effc-e139-482a-ecba-11016e05ec29"
      },
      "execution_count": null,
      "outputs": [
        {
          "output_type": "stream",
          "name": "stdout",
          "text": [
            "19\n",
            "18\n",
            "17\n",
            "16\n",
            "15\n",
            "14\n",
            "13\n",
            "12\n",
            "11\n",
            "10\n",
            "end\n"
          ]
        }
      ]
    },
    {
      "cell_type": "code",
      "source": [
        "# break는 반복문을 중단시킨다.\n",
        "# break가 실행되면 반복문이 완벽하게 실행된 것이 아니므로 else가 실행되지 않는다.\n",
        "\n",
        "a = 10\n",
        "\n",
        "while a>1 :\n",
        "  a-=1\n",
        "  if a==5:\n",
        "    break # 중단\n",
        "  print(a)\n",
        "else:\n",
        "  print('end')"
      ],
      "metadata": {
        "colab": {
          "base_uri": "https://localhost:8080/"
        },
        "id": "GpEaNkUQ_A7A",
        "outputId": "724a5100-3ce7-4a59-b521-092bafe399e8"
      },
      "execution_count": null,
      "outputs": [
        {
          "output_type": "stream",
          "name": "stdout",
          "text": [
            "9\n",
            "8\n",
            "7\n",
            "6\n"
          ]
        }
      ]
    },
    {
      "cell_type": "code",
      "source": [
        "# continue는 다음 루프로 바로 넘어간다.\n",
        "# 반복문을 중단하지는 않으므로 else문이 실행된다.\n",
        "\n",
        "a = 10\n",
        "while a>1:\n",
        "  a-=1\n",
        "  if a==5:\n",
        "    continue\n",
        "  print(a)\n",
        "else:\n",
        "  print('end')"
      ],
      "metadata": {
        "colab": {
          "base_uri": "https://localhost:8080/"
        },
        "id": "reqG5DHW_5zz",
        "outputId": "cce2e237-3bd5-4371-b041-e17693b0f1a5"
      },
      "execution_count": null,
      "outputs": [
        {
          "output_type": "stream",
          "name": "stdout",
          "text": [
            "9\n",
            "8\n",
            "7\n",
            "6\n",
            "4\n",
            "3\n",
            "2\n",
            "1\n",
            "end\n"
          ]
        }
      ]
    },
    {
      "cell_type": "markdown",
      "source": [
        "#### 범위를 지정하는 방법에는 두 가지가 있다.  \n",
        "  - 두 번째 방법은 변수 자체를 출력하는 방법이다.  \n",
        "  - for 변수 in range(시작번호, 마지막 번호, 증가값)"
      ],
      "metadata": {
        "id": "Iz9DIfba909b"
      }
    },
    {
      "cell_type": "markdown",
      "source": [
        "#### range 함수\n",
        "  - range(start, stop, step)함수는 주로 for문과 같이 사용된다.\n",
        "  - range(start, stop, step)함수는 숫자범위에 대하여 반복을 하거나 특정한 범위의 숫자를 나열하도록 해주는 특별한 함수이다.\n",
        "  - range 함수를 사용하는 형식은 선택사항인 시작값(start), 종료값(stop), 증감분(step)이다.\n",
        "  - range(0,10,2) => 0,2,4,6,8\n",
        "    0부터 시작하여 2의 간격으로 10에 미만까지의 정수"
      ],
      "metadata": {
        "id": "1pYaqMv9BOhk"
      }
    },
    {
      "cell_type": "code",
      "source": [
        "for i in range(1,6):\n",
        "  print(i)"
      ],
      "metadata": {
        "colab": {
          "base_uri": "https://localhost:8080/"
        },
        "id": "pZX0tZFgJSwG",
        "outputId": "9b3037d4-65bc-4742-f6e0-70576a01d886"
      },
      "execution_count": null,
      "outputs": [
        {
          "output_type": "stream",
          "name": "stdout",
          "text": [
            "1\n",
            "2\n",
            "3\n",
            "4\n",
            "5\n"
          ]
        }
      ]
    },
    {
      "cell_type": "markdown",
      "source": [
        "#### for문과 함께 사용되는 함수\n",
        "- enumerate 함수\n",
        "  - enumerate()함수는 인덱스와 객체를 동시에 저장할 수 있는 특징을 가진 for문을 좀 더 효율적으로 사용하기 위한 함수이다.\n",
        "  - enumerate()함수는 순서자료형(리스트,튜플,문자열)을 입력으로 받아 인덱스를 포함하는 enumerate객체를 리턴한다.\n",
        "  - enumerate([순서자료형],[시작값=0])의 형식을 가지며 순서자료형은 반복자가 가능한객체가 입력되고 시작값은 입력시 해당수부터 증가하며, 생략했을 경우 기본값은 0이다."
      ],
      "metadata": {
        "id": "3xyMtOgaJuGe"
      }
    },
    {
      "cell_type": "code",
      "source": [
        "for k, v in enumerate(['apple','python','microsoft']):\n",
        "  print('{0}:{1}'.format(k,v))"
      ],
      "metadata": {
        "colab": {
          "base_uri": "https://localhost:8080/"
        },
        "id": "K9BzYBU-Kl9G",
        "outputId": "31ff3585-b335-40d6-b4ff-8bb1ff2eafda"
      },
      "execution_count": null,
      "outputs": [
        {
          "output_type": "stream",
          "name": "stdout",
          "text": [
            "0:apple\n",
            "1:python\n",
            "2:microsoft\n"
          ]
        }
      ]
    },
    {
      "cell_type": "code",
      "source": [
        "for j in enumerate(['apple','python','microsoft'], 1):\n",
        "  print('{0}'.format(j))"
      ],
      "metadata": {
        "colab": {
          "base_uri": "https://localhost:8080/"
        },
        "id": "aR7BWmA4JtWy",
        "outputId": "51abce2e-aa9f-4264-82b7-6d4ca972f7f9"
      },
      "execution_count": null,
      "outputs": [
        {
          "output_type": "stream",
          "name": "stdout",
          "text": [
            "(1, 'apple')\n",
            "(2, 'python')\n",
            "(3, 'microsoft')\n"
          ]
        }
      ]
    },
    {
      "cell_type": "markdown",
      "source": [
        "  - zip 함수  \n",
        "    - 매개 인자로 여러 목록을 받아 각 목록의 요소를 튜플에 담아 목록에 저장한다."
      ],
      "metadata": {
        "id": "OqBVrRImLge_"
      }
    },
    {
      "cell_type": "code",
      "source": [
        "a = [1,2,3,4,5]\n",
        "b = ['a','b','c','d','e']\n",
        "\n",
        "for x,y in zip(a,b):\n",
        "  print(x,y)\n",
        "  t=x,y\n",
        "print(type(t))"
      ],
      "metadata": {
        "colab": {
          "base_uri": "https://localhost:8080/"
        },
        "id": "aPAccFwhLb0T",
        "outputId": "a6acabe5-047a-43d8-ad0b-c23e3d01e0c4"
      },
      "execution_count": null,
      "outputs": [
        {
          "output_type": "stream",
          "name": "stdout",
          "text": [
            "1 a\n",
            "2 b\n",
            "3 c\n",
            "4 d\n",
            "5 e\n",
            "<class 'tuple'>\n"
          ]
        }
      ]
    },
    {
      "cell_type": "markdown",
      "source": [
        "  - items 함수\n",
        "    - dict의 내장함수로 키와 값을 동시에 검색한다."
      ],
      "metadata": {
        "id": "EB2RQhqcMId_"
      }
    },
    {
      "cell_type": "code",
      "source": [
        "dic = {'애플':'www.apple.com', '파이썬':'www.python.org'}\n",
        "for k, v in dic.items():\n",
        "  print('{0}:{1}'.format(k,v))\n",
        "  m = k,v\n",
        "print(type(m))"
      ],
      "metadata": {
        "colab": {
          "base_uri": "https://localhost:8080/"
        },
        "id": "6Rx_HpPhMIOX",
        "outputId": "94b7bd01-ecc9-4e9a-845c-38c2c35ece9d"
      },
      "execution_count": null,
      "outputs": [
        {
          "output_type": "stream",
          "name": "stdout",
          "text": [
            "애플:www.apple.com\n",
            "파이썬:www.python.org\n",
            "<class 'tuple'>\n"
          ]
        }
      ]
    },
    {
      "cell_type": "markdown",
      "source": [
        "1. for ~ in iterable\n",
        "2. for ~ in range() \n",
        "3. for ~ in enumerate() #인덱스와 밸류값\n",
        "4. for ~ in zip(a,b) # 값을 묶을 때 사용\n",
        "5. for ~ in dict.items() # 키와 벨류값"
      ],
      "metadata": {
        "id": "Kg9_trjvNaJn"
      }
    },
    {
      "cell_type": "markdown",
      "source": [
        "### 예외(Exception)\n",
        "  - 프로그램을 수행하다 보면 문법적으로 문제가 없는 코드를 실행하는 중에 더 이상 진행할 수 없는 상황이 발생하는 경우를 의미한다.\n",
        "  - 모든 예외는 클래스로 표현되며 최상위 클래스는 BaseException클래스이다.\n",
        "  - 예외 상황\n",
        "    - 0으로 숫자 나누기\n",
        "    - 문자열과 숫자 더하기\n",
        "    - 참조 범위를 넘어서 인덱스 참조하기\n",
        "    - 등록되어 있지 않은 키로 사전 검색하기"
      ],
      "metadata": {
        "id": "bCR5qF9WOJLI"
      }
    },
    {
      "cell_type": "markdown",
      "source": [
        "  - 예외 상황\n",
        "    - 나누기 연산에서 ZeroDivisionError 에러 발생"
      ],
      "metadata": {
        "id": "cPaPc3HEPCaI"
      }
    },
    {
      "cell_type": "code",
      "source": [
        "a, b = 5, 0\n",
        "c = a/b\n",
        "print(c)"
      ],
      "metadata": {
        "colab": {
          "base_uri": "https://localhost:8080/",
          "height": 211
        },
        "id": "UKdlpwe4PAyU",
        "outputId": "2acda12c-ecbd-4752-97f5-d442d57bbe63"
      },
      "execution_count": null,
      "outputs": [
        {
          "output_type": "error",
          "ename": "ZeroDivisionError",
          "evalue": "ignored",
          "traceback": [
            "\u001b[0;31m---------------------------------------------------------------------------\u001b[0m",
            "\u001b[0;31mZeroDivisionError\u001b[0m                         Traceback (most recent call last)",
            "\u001b[0;32m<ipython-input-41-dd0ddd841672>\u001b[0m in \u001b[0;36m<module>\u001b[0;34m\u001b[0m\n\u001b[1;32m      1\u001b[0m \u001b[0ma\u001b[0m\u001b[0;34m,\u001b[0m \u001b[0mb\u001b[0m \u001b[0;34m=\u001b[0m \u001b[0;36m5\u001b[0m\u001b[0;34m,\u001b[0m \u001b[0;36m0\u001b[0m\u001b[0;34m\u001b[0m\u001b[0;34m\u001b[0m\u001b[0m\n\u001b[0;32m----> 2\u001b[0;31m \u001b[0mc\u001b[0m \u001b[0;34m=\u001b[0m \u001b[0ma\u001b[0m\u001b[0;34m/\u001b[0m\u001b[0mb\u001b[0m\u001b[0;34m\u001b[0m\u001b[0;34m\u001b[0m\u001b[0m\n\u001b[0m\u001b[1;32m      3\u001b[0m \u001b[0mprint\u001b[0m\u001b[0;34m(\u001b[0m\u001b[0mc\u001b[0m\u001b[0;34m)\u001b[0m\u001b[0;34m\u001b[0m\u001b[0;34m\u001b[0m\u001b[0m\n",
            "\u001b[0;31mZeroDivisionError\u001b[0m: division by zero"
          ]
        }
      ]
    },
    {
      "cell_type": "markdown",
      "source": [
        "    - 정의되지 않은 변수를 사용하면 NameError 에러 발생"
      ],
      "metadata": {
        "id": "zQpZBHDmPcf_"
      }
    },
    {
      "cell_type": "code",
      "source": [
        "4 + spam*3"
      ],
      "metadata": {
        "colab": {
          "base_uri": "https://localhost:8080/",
          "height": 174
        },
        "id": "zLaD2ko_PWyy",
        "outputId": "2d902426-3f08-4623-b38a-1065b89157dc"
      },
      "execution_count": null,
      "outputs": [
        {
          "output_type": "error",
          "ename": "NameError",
          "evalue": "ignored",
          "traceback": [
            "\u001b[0;31m---------------------------------------------------------------------------\u001b[0m",
            "\u001b[0;31mNameError\u001b[0m                                 Traceback (most recent call last)",
            "\u001b[0;32m<ipython-input-44-d3150ed4601a>\u001b[0m in \u001b[0;36m<module>\u001b[0;34m\u001b[0m\n\u001b[0;32m----> 1\u001b[0;31m \u001b[0mspam\u001b[0m\u001b[0;34m*\u001b[0m\u001b[0;36m3\u001b[0m\u001b[0;34m\u001b[0m\u001b[0;34m\u001b[0m\u001b[0m\n\u001b[0m",
            "\u001b[0;31mNameError\u001b[0m: name 'spam' is not defined"
          ]
        }
      ]
    },
    {
      "cell_type": "markdown",
      "source": [
        "    - 숫자가 아닌 데이터를 int로 변형할 때 ValueError 에러 발생"
      ],
      "metadata": {
        "id": "z5ITP4BTPyPP"
      }
    },
    {
      "cell_type": "code",
      "source": [
        "int(3)**int('abc')"
      ],
      "metadata": {
        "colab": {
          "base_uri": "https://localhost:8080/",
          "height": 174
        },
        "id": "SOpnuTYWPxJy",
        "outputId": "4cc1cb13-ee2d-4fe7-b718-a37f23240af2"
      },
      "execution_count": null,
      "outputs": [
        {
          "output_type": "error",
          "ename": "ValueError",
          "evalue": "ignored",
          "traceback": [
            "\u001b[0;31m---------------------------------------------------------------------------\u001b[0m",
            "\u001b[0;31mValueError\u001b[0m                                Traceback (most recent call last)",
            "\u001b[0;32m<ipython-input-45-70942bfa62b2>\u001b[0m in \u001b[0;36m<module>\u001b[0;34m\u001b[0m\n\u001b[0;32m----> 1\u001b[0;31m \u001b[0mint\u001b[0m\u001b[0;34m(\u001b[0m\u001b[0;36m3\u001b[0m\u001b[0;34m)\u001b[0m\u001b[0;34m**\u001b[0m\u001b[0mint\u001b[0m\u001b[0;34m(\u001b[0m\u001b[0;34m'abc'\u001b[0m\u001b[0;34m)\u001b[0m\u001b[0;34m\u001b[0m\u001b[0;34m\u001b[0m\u001b[0m\n\u001b[0m",
            "\u001b[0;31mValueError\u001b[0m: invalid literal for int() with base 10: 'abc'"
          ]
        }
      ]
    },
    {
      "cell_type": "markdown",
      "source": [
        "    - 연산 중에 인수의 타입이 맞지 않으면 TypeError 에러 발생"
      ],
      "metadata": {
        "id": "XLR75x7uQEJv"
      }
    },
    {
      "cell_type": "code",
      "source": [
        "'2' + 2"
      ],
      "metadata": {
        "colab": {
          "base_uri": "https://localhost:8080/",
          "height": 174
        },
        "id": "EiwX_FYJQJrj",
        "outputId": "479ed9e8-751f-40c6-d534-a1b02e77ee77"
      },
      "execution_count": null,
      "outputs": [
        {
          "output_type": "error",
          "ename": "TypeError",
          "evalue": "ignored",
          "traceback": [
            "\u001b[0;31m---------------------------------------------------------------------------\u001b[0m",
            "\u001b[0;31mTypeError\u001b[0m                                 Traceback (most recent call last)",
            "\u001b[0;32m<ipython-input-46-d2b23a1db757>\u001b[0m in \u001b[0;36m<module>\u001b[0;34m\u001b[0m\n\u001b[0;32m----> 1\u001b[0;31m \u001b[0;34m'2'\u001b[0m \u001b[0;34m+\u001b[0m \u001b[0;36m2\u001b[0m\u001b[0;34m\u001b[0m\u001b[0;34m\u001b[0m\u001b[0m\n\u001b[0m",
            "\u001b[0;31mTypeError\u001b[0m: can only concatenate str (not \"int\") to str"
          ]
        }
      ]
    },
    {
      "cell_type": "markdown",
      "source": [
        "[exception](https://python.bakyeono.net/chapter-9-4.html)\n",
        "![exception](https://python.bakyeono.net/img/img-9-4.png)"
      ],
      "metadata": {
        "id": "avqFii2SQeIw"
      }
    },
    {
      "cell_type": "markdown",
      "source": [
        "### 예외처리(Exception Handling)\n",
        "  - 예외처리란 예외가 발생했을 때 프로그램이 정상적으로 종료될 수 있도록 예외가 발생되는 곳에서 해주는 기능이다.\n",
        "  - 형식  \n",
        "  try:\n",
        "    <예외가 발생될 가능성이 있는 문장>  \n",
        "  except[발생오류[as 오류 메시지 변수]]:  \n",
        "    <예외가 발생했을 때 실행되는 문장>  \n",
        "  Else:  \n",
        "    <예외가 발생하지 않았을 때 실행되는 문장>  \n",
        "  finally:  \n",
        "    <예외 발생 여부에 상관없이 무조건 실행되는 문장>  "
      ],
      "metadata": {
        "id": "m_YaailzTzPB"
      }
    },
    {
      "cell_type": "code",
      "source": [
        "# try ~ except\n",
        "\n",
        "def divide(x,y):\n",
        "  return x/y\n",
        "\n",
        "try:\n",
        "  result=divide(1,0)\n",
        "except ZeroDivisionError:\n",
        "  print(\"분모는 0이면 안됨\")\n",
        "else:\n",
        "  print(result)\n",
        "finally:\n",
        "  print(\"문제풀이 끝\")"
      ],
      "metadata": {
        "colab": {
          "base_uri": "https://localhost:8080/"
        },
        "id": "_EEfv1EGSfyY",
        "outputId": "61b33b99-76de-44f6-e2d1-c450af79fcb3"
      },
      "execution_count": null,
      "outputs": [
        {
          "output_type": "stream",
          "name": "stdout",
          "text": [
            "분모는 0이면 안됨\n",
            "문제풀이 끝\n"
          ]
        }
      ]
    },
    {
      "cell_type": "markdown",
      "source": [
        "    - try ~ except  \n",
        "      try 절 안에 문제가 발생할 가능성이 있는 코드 블록을 배치하고  \n",
        "      except 절에는 문제가 생겼ㅇ르 때 뒤처리를 하는 코드 블록 배치  \n",
        "    try:  \n",
        "      # 문제가 발생할 가능성이 있는 코드  \n",
        "    except:  \n",
        "      # 문제가 생겼을 때 실행할 코드  "
      ],
      "metadata": {
        "id": "84V8-wfBXxfS"
      }
    },
    {
      "cell_type": "markdown",
      "source": [
        "  - 복수개의 except  \n",
        "    - try 블록 안에서 여러 종류의 예외가 발생하는 경우에 사용"
      ],
      "metadata": {
        "id": "9VnK-ATtYTX5"
      }
    },
    {
      "cell_type": "code",
      "source": [
        "try:  \n",
        "   # 문제가 발생할 가능성이 있는 코드  \n",
        "except 예외형식1:  \n",
        "   # 문제가 생겼을 때 실행할 코드  \n",
        "except 예외형식2:  \n",
        "   # 문제가 생겼을 때 실행할 코드  "
      ],
      "metadata": {
        "id": "ab76qAYWcbNS"
      },
      "execution_count": null,
      "outputs": []
    },
    {
      "cell_type": "code",
      "source": [
        "my_list = [1,2,3]\n",
        "\n",
        "try:\n",
        "  print(\"첨자를 입력하세요:\")\n",
        "  index=int(input())\n",
        "  print(my_list[index]/0)\n",
        "except ZeroDivisionError:\n",
        "  print(\"0으로 나눌 수 없습니다.\")\n",
        "except IndexError:\n",
        "  print(\"잘못된 첨자입니다.\")"
      ],
      "metadata": {
        "colab": {
          "base_uri": "https://localhost:8080/"
        },
        "id": "2Abvd5NnY-z2",
        "outputId": "d9cbfdbd-a2f7-4b3d-808f-01d39ae56ac7"
      },
      "execution_count": null,
      "outputs": [
        {
          "output_type": "stream",
          "name": "stdout",
          "text": [
            "첨자를 입력하세요:\n",
            "2\n",
            "0으로 나눌 수 없습니다.\n"
          ]
        }
      ]
    },
    {
      "cell_type": "markdown",
      "source": [
        "  - 예외의 인스턴스를 활용하는 방법 : as 문 사용"
      ],
      "metadata": {
        "id": "I9YjAUSHaXEK"
      }
    },
    {
      "cell_type": "code",
      "source": [
        "try:\n",
        "  # 문제가 없을 경우 실행할 코드\n",
        "except 예외형식1 as err:\n",
        "  # 문제가 생겼을 때 실행할 코드\n",
        "except 예외형식2 as err:\n",
        "  # 문제가 생겼을 때 실행할 코드"
      ],
      "metadata": {
        "id": "dQTp9wGJahbb"
      },
      "execution_count": null,
      "outputs": []
    },
    {
      "cell_type": "code",
      "source": [
        "my_list = [1,2,3]\n",
        "\n",
        "try:\n",
        "  print(\"첨자를 입력하세요:\")\n",
        "  index = int(input())\n",
        "  print(my_list[index]/0)\n",
        "except ZeroDivisionError as err:\n",
        "  print('0으로 나눌 수 없습니다. ({0})'.format(err))\n",
        "except IndexError as err:\n",
        "  print('잘못된 첨자입니다. ({0})'.format(err))"
      ],
      "metadata": {
        "colab": {
          "base_uri": "https://localhost:8080/"
        },
        "id": "9fD8q8h1bC0L",
        "outputId": "e99c5723-6a98-4c77-fbd8-5dfbec0dc2ad"
      },
      "execution_count": null,
      "outputs": [
        {
          "output_type": "stream",
          "name": "stdout",
          "text": [
            "첨자를 입력하세요:\n",
            "3\n",
            "잘못된 첨자입니다. (list index out of range)\n"
          ]
        }
      ]
    },
    {
      "cell_type": "markdown",
      "source": [
        " - try ~ except ~ else\n",
        "  - try와 함께 사용하는 else절은 try절에 있는 코드블록 실행 중에 아무런 예외가 일어나지 않으면 실행됨."
      ],
      "metadata": {
        "id": "pBq_TjCgcA6K"
      }
    },
    {
      "cell_type": "code",
      "source": [
        "try:\n",
        "  # 실행할 코드블럭\n",
        "except:\n",
        "  # 예외 처리 코드블럭\n",
        "else:\n",
        "  # except절을 만나지 않았을 경우 실행하는 코드블럭"
      ],
      "metadata": {
        "id": "2KvoaJWIcMLc"
      },
      "execution_count": null,
      "outputs": []
    },
    {
      "cell_type": "markdown",
      "source": [
        "  - try ~ except ~ else"
      ],
      "metadata": {
        "id": "df4CObEfczqE"
      }
    },
    {
      "cell_type": "code",
      "source": [
        "my_list = [1,2,3]\n",
        "\n",
        "try:\n",
        "  print('첨자를 입력하세요:')\n",
        "  index = int(input())\n",
        "  print('my_list[{0}]: {1}'.format(index, my_list[index]))\n",
        "except IndexError as err:\n",
        "  print('잘못된 첨자입니다. ({0})'.format(err))\n",
        "else:\n",
        "  print(\"리스트의 요소 출력에 성공했습니다.\")"
      ],
      "metadata": {
        "colab": {
          "base_uri": "https://localhost:8080/"
        },
        "id": "QKBRMHclc3Za",
        "outputId": "0e762ed1-785f-4397-ae86-54fbb30125d5"
      },
      "execution_count": null,
      "outputs": [
        {
          "output_type": "stream",
          "name": "stdout",
          "text": [
            "첨자를 입력하세요:\n",
            "3\n",
            "잘못된 첨자입니다. (list index out of range)\n"
          ]
        }
      ]
    },
    {
      "cell_type": "markdown",
      "source": [
        "  - raise\n",
        "    - raise은 프로그래머가 의도적으로 예외를 발생시켜야 하는 경우에 사용한다.\n",
        "      raise구문은 해당 예외를 단순히 발생시키거나 예외 발생시 필요한 정보를 같이\n",
        "      전달하기 위하여 인자로 넘겨줄 수 있다.\n",
        "      또한 예외를 상위에서 처리하도록 그대로 전달할 수도 있다.\n",
        "      raise 구문의 예외로 올 수 있는 것으로 내장예외와 사용자정의 예외가 있다."
      ],
      "metadata": {
        "id": "rh5YGFCcdpNk"
      }
    },
    {
      "cell_type": "code",
      "source": [
        "raise [Exception] #해당 예외를 발생함\n",
        "raise [Exception(data)] #예외를 발생시 관련 데이터를 전달함\n",
        "raise #발생된 예외를 상위로 전달함"
      ],
      "metadata": {
        "id": "OY-LlD9adovL"
      },
      "execution_count": null,
      "outputs": []
    },
    {
      "cell_type": "code",
      "source": [
        "# raise\n",
        "\n",
        "def RaiseErrorFunc():\n",
        "  raise NameError(\"NameError의 인자\")\n",
        "\n",
        "def PropagateError():\n",
        "  try:\n",
        "    RaiseErrorFunc()\n",
        "  except:\n",
        "    print(\"에러전달 이전에 먼저 이 메시지가 출력됨\")\n",
        "  raise\n",
        "\n",
        "PropagateError()"
      ],
      "metadata": {
        "colab": {
          "base_uri": "https://localhost:8080/",
          "height": 358
        },
        "id": "6ZEK3gIZeidr",
        "outputId": "9bd331c4-2ee9-4c42-d179-c0683a5143bd"
      },
      "execution_count": null,
      "outputs": [
        {
          "output_type": "stream",
          "name": "stdout",
          "text": [
            "에러전달 이전에 먼저 이 메시지가 출력됨\n"
          ]
        },
        {
          "output_type": "error",
          "ename": "RuntimeError",
          "evalue": "ignored",
          "traceback": [
            "\u001b[0;31m---------------------------------------------------------------------------\u001b[0m",
            "\u001b[0;31mRuntimeError\u001b[0m                              Traceback (most recent call last)",
            "\u001b[0;32m<ipython-input-63-f882c8fe0d75>\u001b[0m in \u001b[0;36m<module>\u001b[0;34m\u001b[0m\n\u001b[1;32m     11\u001b[0m   \u001b[0;32mraise\u001b[0m\u001b[0;34m\u001b[0m\u001b[0;34m\u001b[0m\u001b[0m\n\u001b[1;32m     12\u001b[0m \u001b[0;34m\u001b[0m\u001b[0m\n\u001b[0;32m---> 13\u001b[0;31m \u001b[0mPropagateError\u001b[0m\u001b[0;34m(\u001b[0m\u001b[0;34m)\u001b[0m\u001b[0;34m\u001b[0m\u001b[0;34m\u001b[0m\u001b[0m\n\u001b[0m",
            "\u001b[0;32m<ipython-input-63-f882c8fe0d75>\u001b[0m in \u001b[0;36mPropagateError\u001b[0;34m()\u001b[0m\n\u001b[1;32m      9\u001b[0m   \u001b[0;32mexcept\u001b[0m\u001b[0;34m:\u001b[0m\u001b[0;34m\u001b[0m\u001b[0;34m\u001b[0m\u001b[0m\n\u001b[1;32m     10\u001b[0m     \u001b[0mprint\u001b[0m\u001b[0;34m(\u001b[0m\u001b[0;34m\"에러전달 이전에 먼저 이 메시지가 출력됨\"\u001b[0m\u001b[0;34m)\u001b[0m\u001b[0;34m\u001b[0m\u001b[0;34m\u001b[0m\u001b[0m\n\u001b[0;32m---> 11\u001b[0;31m   \u001b[0;32mraise\u001b[0m\u001b[0;34m\u001b[0m\u001b[0;34m\u001b[0m\u001b[0m\n\u001b[0m\u001b[1;32m     12\u001b[0m \u001b[0;34m\u001b[0m\u001b[0m\n\u001b[1;32m     13\u001b[0m \u001b[0mPropagateError\u001b[0m\u001b[0;34m(\u001b[0m\u001b[0;34m)\u001b[0m\u001b[0;34m\u001b[0m\u001b[0;34m\u001b[0m\u001b[0m\n",
            "\u001b[0;31mRuntimeError\u001b[0m: No active exception to reraise"
          ]
        }
      ]
    },
    {
      "cell_type": "code",
      "source": [
        "# raise\n",
        "\n",
        "def RaiseErrorFunc():\n",
        "  raise NameError(\"NameError의 인자\")\n",
        "\n",
        "def PropagateError():\n",
        "  try:\n",
        "    RaiseErrorFunc()\n",
        "  except:\n",
        "    print(\"에러전달 이전에 먼저 이 메시지가 출력됨\")\n",
        "  raise\n",
        "try:\n",
        "  PropagateError()\n",
        "except Exception as err:\n",
        "    print('{0} 예외가 발생했습니다.'.format(err))\n"
      ],
      "metadata": {
        "colab": {
          "base_uri": "https://localhost:8080/"
        },
        "id": "xaWF7kw4g8ar",
        "outputId": "51fa527f-3fba-4d5d-862f-ea27cc604ec8"
      },
      "execution_count": null,
      "outputs": [
        {
          "output_type": "stream",
          "name": "stdout",
          "text": [
            "에러전달 이전에 먼저 이 메시지가 출력됨\n",
            "No active exception to reraise 예외가 발생했습니다.\n"
          ]
        }
      ]
    }
  ]
}