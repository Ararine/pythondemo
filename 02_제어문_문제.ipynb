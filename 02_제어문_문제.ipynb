{
  "cells": [
    {
      "cell_type": "markdown",
      "metadata": {
        "id": "view-in-github",
        "colab_type": "text"
      },
      "source": [
        "<a href=\"https://colab.research.google.com/github/Ararine/pythondemo/blob/main/02_%EC%A0%9C%EC%96%B4%EB%AC%B8_%EB%AC%B8%EC%A0%9C.ipynb\" target=\"_parent\"><img src=\"https://colab.research.google.com/assets/colab-badge.svg\" alt=\"Open In Colab\"/></a>"
      ]
    },
    {
      "cell_type": "markdown",
      "id": "a614d117",
      "metadata": {
        "id": "a614d117"
      },
      "source": [
        " [문제1]  \n",
        " if~else문을 이용해서 년도에 해당하는 띠를 구하는 프로그램을 구현하시오.  \n",
        " 단, 년도은 input()으로 입력받음. \n",
        " \n",
        "   1. 12가지 띠  \n",
        "      원숭이, 닭, 개, 돼지, 쥐, 소, 호랑이, 토끼, 용, 뱀, 말, 양  \n",
        "   \n",
        "   2. 띠구하는 공식  \n",
        "     year%12의 결과가  \n",
        "     0이면 \"원숭이\", 1이면 \"닭\"  2이면 \"개\",    3이면 \"돼지\",  \n",
        "     4이면 \"쥐\",    5이면 \"소\", 6이면 \"호랑이\", 7이면 \"토끼\",  \n",
        "     8이면 \"용\",    9이면 \"뱀\", 10이면 \"말\",   11이면 \"양\"  \n",
        "     \n",
        "   3. 출력결과  \n",
        "     2012년도의 태생은  용띠입니다.  "
      ]
    },
    {
      "cell_type": "code",
      "execution_count": null,
      "id": "dbfc1ab1",
      "metadata": {
        "id": "dbfc1ab1",
        "colab": {
          "base_uri": "https://localhost:8080/"
        },
        "outputId": "17d9244a-ed16-4791-80a2-2554629716ed"
      },
      "outputs": [
        {
          "output_type": "stream",
          "name": "stdout",
          "text": [
            "1992\n",
            "1992년도의 태생은 원숭이띠입니다.\n"
          ]
        }
      ],
      "source": [
        "year = int(input())\n",
        "animal = \"\"\n",
        "if year%12 == 0 :\n",
        " animal = \"원숭이\"\n",
        "elif year%12 == 1 :\n",
        "  animal = \"닭\"\n",
        "elif year%12 == 2 :\n",
        "  animal = \"개\"\n",
        "elif year%12 == 3 :\n",
        "  animal = \"돼지\"\n",
        "elif year%12 == 4 :\n",
        "  animal =\"쥐\"\n",
        "elif year%12==5:\n",
        "  animal=\"소\"\n",
        "elif year%12==6:\n",
        "  animal=\"호랑이\"\n",
        "elif year%12==7:\n",
        "  animal=\"토끼\"\n",
        "elif year%12==8:\n",
        "  animal=\"용\"\n",
        "elif year%12==9:\n",
        "  animal=\"뱀\"\n",
        "elif year%12==10:\n",
        "  animal=\"말\"\n",
        "elif year%12==11:\n",
        "  animal=\"양\"\n",
        "print('{0}년도의 태생은 {1}띠입니다.'.format(year,animal))"
      ]
    },
    {
      "cell_type": "markdown",
      "id": "37dec069",
      "metadata": {
        "id": "37dec069"
      },
      "source": [
        "[문제2]   \n",
        "for문을 이용해서  1부터 10까지 합계 구하기 "
      ]
    },
    {
      "cell_type": "code",
      "execution_count": null,
      "id": "3dfbaa06",
      "metadata": {
        "id": "3dfbaa06",
        "colab": {
          "base_uri": "https://localhost:8080/"
        },
        "outputId": "3faec8dd-c2c3-4d90-d507-26ef20a9c507"
      },
      "outputs": [
        {
          "output_type": "stream",
          "name": "stdout",
          "text": [
            "55\n"
          ]
        }
      ],
      "source": [
        "sum = 0\n",
        "for i in range(1,11):\n",
        "  sum += i\n",
        "print(sum)"
      ]
    },
    {
      "cell_type": "markdown",
      "id": "21cc51bf",
      "metadata": {
        "id": "21cc51bf"
      },
      "source": [
        "[문제3]  \n",
        "for문을 이용해서 1부터 10까지  홀수, 짝수 합계 구하기"
      ]
    },
    {
      "cell_type": "code",
      "execution_count": null,
      "id": "67fd1d54",
      "metadata": {
        "id": "67fd1d54",
        "colab": {
          "base_uri": "https://localhost:8080/"
        },
        "outputId": "bbcf96e6-1c02-4fa2-8251-21ecde286f62"
      },
      "outputs": [
        {
          "output_type": "stream",
          "name": "stdout",
          "text": [
            "even:30, odd:25\n"
          ]
        }
      ],
      "source": [
        "even = 0\n",
        "odd = 0\n",
        "\n",
        "for i in range(1,11):\n",
        "  if i%2==0:\n",
        "    even += i\n",
        "  elif i%2==1:\n",
        "    odd += i\n",
        "print(\"even:{0}, odd:{1}\".format(even,odd))"
      ]
    },
    {
      "cell_type": "markdown",
      "id": "37780725",
      "metadata": {
        "id": "37780725"
      },
      "source": [
        "[문제4]  \n",
        "A 학급에 총 10명의 학생이 있다. 이 학생들의 중간고사 점수는 다음과 같다.  \n",
        "\n",
        "[70, 60, 55, 75, 95, 90, 80, 80, 85, 100]  \n",
        "\n",
        "for문을 사용하여 A 학급의 평균 점수를 구해 보자.  "
      ]
    },
    {
      "cell_type": "code",
      "execution_count": null,
      "id": "0bc78b76",
      "metadata": {
        "id": "0bc78b76",
        "colab": {
          "base_uri": "https://localhost:8080/"
        },
        "outputId": "efdcc694-df77-43be-ec1c-2b4f31f518ae"
      },
      "outputs": [
        {
          "output_type": "stream",
          "name": "stdout",
          "text": [
            "79.0\n"
          ]
        }
      ],
      "source": [
        "a = [70,60,55,75,95,90,80,80,85,100]\n",
        "sum =0\n",
        "for i in a:\n",
        "  sum += i\n",
        "print(sum/len(a))\n"
      ]
    },
    {
      "cell_type": "markdown",
      "source": [],
      "metadata": {
        "id": "tnD-GOvD-bM1"
      },
      "id": "tnD-GOvD-bM1"
    },
    {
      "cell_type": "markdown",
      "id": "08799d8e",
      "metadata": {
        "id": "08799d8e"
      },
      "source": [
        "[문제5] \n",
        "중첩if를 이용하여 프로그램을 작성하시오.  \n",
        "3과목의 점수를 입력받아서 \"합격\" 또는 \"불합력\"을  출력하시오.  \n",
        "3개의 과목이 전부 40이상이어야 하고 평균이 60이어야 \"합격\" 출력  \n",
        "평균이 60이 넘지만 1개의 과목이라도 40 미만이면 \"과락으로 불합격\" 출력  \n",
        "평균이 60미만이면 \"불합격\" 출력 \n",
        "\n",
        "[실행결과1]  \n",
        "국어점수입력 : 75  \n",
        "영어점수입력 : 80  \n",
        "수학점수입력 : 100  \n",
        " 합격을 축하합니다.  \n",
        "\n",
        "\n",
        "[실행결과2]\n",
        "국어점수입력 : 95  \n",
        "영어점수입력 : 80  \n",
        "수학점수입력 : 38  \n",
        "과락으로 불합격입니다.  \n",
        "  \n",
        "[실행결과3]  \n",
        "국어점수입력 : 32  \n",
        "영어점수입력 : 40  \n",
        "수학점수입력 : 22  \n",
        "불합격입니다.  "
      ]
    },
    {
      "cell_type": "code",
      "execution_count": null,
      "id": "743b368a",
      "metadata": {
        "id": "743b368a",
        "colab": {
          "base_uri": "https://localhost:8080/"
        },
        "outputId": "bd85108a-358c-4fe2-99d0-1636c99f7d91"
      },
      "outputs": [
        {
          "output_type": "stream",
          "name": "stdout",
          "text": [
            "60\n",
            "55\n",
            "50\n",
            "불합격입니다.\n"
          ]
        }
      ],
      "source": [
        "kor = int(input())\n",
        "eng = int(input())\n",
        "mat = int(input())\n",
        "\n",
        "jumsu = [kor, eng, mat]\n",
        "avg = (jumsu[0] + jumsu[1] +jumsu[2])/len(jumsu)\n",
        "result = \"\"\n",
        "\n",
        "if avg < 60:\n",
        "  result=\"불합격\"\n",
        "elif jumsu[0] < 40 or jumsu[1] <40 or jumsu[2] <40:\n",
        "  result=\"과락으로 불합격\"\n",
        "elif jumsu[0] >= 40 and jumsu[1] >= 40 and jumsu[2] >= 40:\n",
        "  result=\"합격\"\n",
        "print('{0}입니다.'.format(result))"
      ]
    }
  ],
  "metadata": {
    "kernelspec": {
      "display_name": "Python 3",
      "language": "python",
      "name": "python3"
    },
    "language_info": {
      "codemirror_mode": {
        "name": "ipython",
        "version": 3
      },
      "file_extension": ".py",
      "mimetype": "text/x-python",
      "name": "python",
      "nbconvert_exporter": "python",
      "pygments_lexer": "ipython3",
      "version": "3.8.8"
    },
    "colab": {
      "provenance": [],
      "include_colab_link": true
    }
  },
  "nbformat": 4,
  "nbformat_minor": 5
}