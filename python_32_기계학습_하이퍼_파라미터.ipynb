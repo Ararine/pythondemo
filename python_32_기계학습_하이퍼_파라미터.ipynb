{
  "nbformat": 4,
  "nbformat_minor": 0,
  "metadata": {
    "colab": {
      "provenance": [],
      "authorship_tag": "ABX9TyOZs93+7GwYt0lNz6DUSATJ",
      "include_colab_link": true
    },
    "kernelspec": {
      "name": "python3",
      "display_name": "Python 3"
    },
    "language_info": {
      "name": "python"
    }
  },
  "cells": [
    {
      "cell_type": "markdown",
      "metadata": {
        "id": "view-in-github",
        "colab_type": "text"
      },
      "source": [
        "<a href=\"https://colab.research.google.com/github/Ararine/pythondemo/blob/main/python_32_%EA%B8%B0%EA%B3%84%ED%95%99%EC%8A%B5_%ED%95%98%EC%9D%B4%ED%8D%BC_%ED%8C%8C%EB%9D%BC%EB%AF%B8%ED%84%B0.ipynb\" target=\"_parent\"><img src=\"https://colab.research.google.com/assets/colab-badge.svg\" alt=\"Open In Colab\"/></a>"
      ]
    },
    {
      "cell_type": "code",
      "execution_count": 1,
      "metadata": {
        "colab": {
          "base_uri": "https://localhost:8080/"
        },
        "id": "wH367WKxuXsq",
        "outputId": "8244daea-5813-4c3a-d633-a5f84194cd37"
      },
      "outputs": [
        {
          "output_type": "stream",
          "name": "stdout",
          "text": [
            "Mounted at /content/drive\n",
            "/content/drive/MyDrive/python_demo\n"
          ]
        }
      ],
      "source": [
        "from google.colab import drive\n",
        "drive.mount('/content/drive')\n",
        "\n",
        "%cd /content/drive/MyDrive/python_demo/"
      ]
    },
    {
      "cell_type": "markdown",
      "source": [
        "### iris dataset"
      ],
      "metadata": {
        "id": "6uTScLbxuu_7"
      }
    },
    {
      "cell_type": "code",
      "source": [
        "from sklearn.datasets import load_iris"
      ],
      "metadata": {
        "id": "HPlX99-2u63h"
      },
      "execution_count": 2,
      "outputs": []
    },
    {
      "cell_type": "code",
      "source": [
        "data = load_iris()"
      ],
      "metadata": {
        "id": "FHKrD2lRu-LC"
      },
      "execution_count": 3,
      "outputs": []
    },
    {
      "cell_type": "code",
      "source": [
        "import pandas as pd"
      ],
      "metadata": {
        "id": "gHzA-FvmvAOy"
      },
      "execution_count": 4,
      "outputs": []
    },
    {
      "cell_type": "code",
      "source": [
        "dir(data)"
      ],
      "metadata": {
        "colab": {
          "base_uri": "https://localhost:8080/"
        },
        "id": "PwplESOYvFVA",
        "outputId": "41b72542-6680-4d54-f7c8-71e1cc0add1f"
      },
      "execution_count": 5,
      "outputs": [
        {
          "output_type": "execute_result",
          "data": {
            "text/plain": [
              "['DESCR',\n",
              " 'data',\n",
              " 'data_module',\n",
              " 'feature_names',\n",
              " 'filename',\n",
              " 'frame',\n",
              " 'target',\n",
              " 'target_names']"
            ]
          },
          "metadata": {},
          "execution_count": 5
        }
      ]
    },
    {
      "cell_type": "code",
      "source": [
        "data_pd = pd.DataFrame(data.data, columns=data.feature_names)\n",
        "target_pd = pd.DataFrame(data.target, columns=['target'])\n",
        "iris = pd.concat([data_pd, target_pd], axis = 1)"
      ],
      "metadata": {
        "id": "ih7VFfWvvJnI"
      },
      "execution_count": 8,
      "outputs": []
    },
    {
      "cell_type": "code",
      "source": [
        "iris"
      ],
      "metadata": {
        "colab": {
          "base_uri": "https://localhost:8080/",
          "height": 423
        },
        "id": "sAuf0-N7vXun",
        "outputId": "8a9b0128-f02d-47d6-fd38-98419cc0aeb0"
      },
      "execution_count": 10,
      "outputs": [
        {
          "output_type": "execute_result",
          "data": {
            "text/plain": [
              "     sepal length (cm)  sepal width (cm)  petal length (cm)  petal width (cm)  \\\n",
              "0                  5.1               3.5                1.4               0.2   \n",
              "1                  4.9               3.0                1.4               0.2   \n",
              "2                  4.7               3.2                1.3               0.2   \n",
              "3                  4.6               3.1                1.5               0.2   \n",
              "4                  5.0               3.6                1.4               0.2   \n",
              "..                 ...               ...                ...               ...   \n",
              "145                6.7               3.0                5.2               2.3   \n",
              "146                6.3               2.5                5.0               1.9   \n",
              "147                6.5               3.0                5.2               2.0   \n",
              "148                6.2               3.4                5.4               2.3   \n",
              "149                5.9               3.0                5.1               1.8   \n",
              "\n",
              "     target  \n",
              "0         0  \n",
              "1         0  \n",
              "2         0  \n",
              "3         0  \n",
              "4         0  \n",
              "..      ...  \n",
              "145       2  \n",
              "146       2  \n",
              "147       2  \n",
              "148       2  \n",
              "149       2  \n",
              "\n",
              "[150 rows x 5 columns]"
            ],
            "text/html": [
              "\n",
              "  <div id=\"df-4afd9c37-4a63-415c-aa6e-fe0509585245\">\n",
              "    <div class=\"colab-df-container\">\n",
              "      <div>\n",
              "<style scoped>\n",
              "    .dataframe tbody tr th:only-of-type {\n",
              "        vertical-align: middle;\n",
              "    }\n",
              "\n",
              "    .dataframe tbody tr th {\n",
              "        vertical-align: top;\n",
              "    }\n",
              "\n",
              "    .dataframe thead th {\n",
              "        text-align: right;\n",
              "    }\n",
              "</style>\n",
              "<table border=\"1\" class=\"dataframe\">\n",
              "  <thead>\n",
              "    <tr style=\"text-align: right;\">\n",
              "      <th></th>\n",
              "      <th>sepal length (cm)</th>\n",
              "      <th>sepal width (cm)</th>\n",
              "      <th>petal length (cm)</th>\n",
              "      <th>petal width (cm)</th>\n",
              "      <th>target</th>\n",
              "    </tr>\n",
              "  </thead>\n",
              "  <tbody>\n",
              "    <tr>\n",
              "      <th>0</th>\n",
              "      <td>5.1</td>\n",
              "      <td>3.5</td>\n",
              "      <td>1.4</td>\n",
              "      <td>0.2</td>\n",
              "      <td>0</td>\n",
              "    </tr>\n",
              "    <tr>\n",
              "      <th>1</th>\n",
              "      <td>4.9</td>\n",
              "      <td>3.0</td>\n",
              "      <td>1.4</td>\n",
              "      <td>0.2</td>\n",
              "      <td>0</td>\n",
              "    </tr>\n",
              "    <tr>\n",
              "      <th>2</th>\n",
              "      <td>4.7</td>\n",
              "      <td>3.2</td>\n",
              "      <td>1.3</td>\n",
              "      <td>0.2</td>\n",
              "      <td>0</td>\n",
              "    </tr>\n",
              "    <tr>\n",
              "      <th>3</th>\n",
              "      <td>4.6</td>\n",
              "      <td>3.1</td>\n",
              "      <td>1.5</td>\n",
              "      <td>0.2</td>\n",
              "      <td>0</td>\n",
              "    </tr>\n",
              "    <tr>\n",
              "      <th>4</th>\n",
              "      <td>5.0</td>\n",
              "      <td>3.6</td>\n",
              "      <td>1.4</td>\n",
              "      <td>0.2</td>\n",
              "      <td>0</td>\n",
              "    </tr>\n",
              "    <tr>\n",
              "      <th>...</th>\n",
              "      <td>...</td>\n",
              "      <td>...</td>\n",
              "      <td>...</td>\n",
              "      <td>...</td>\n",
              "      <td>...</td>\n",
              "    </tr>\n",
              "    <tr>\n",
              "      <th>145</th>\n",
              "      <td>6.7</td>\n",
              "      <td>3.0</td>\n",
              "      <td>5.2</td>\n",
              "      <td>2.3</td>\n",
              "      <td>2</td>\n",
              "    </tr>\n",
              "    <tr>\n",
              "      <th>146</th>\n",
              "      <td>6.3</td>\n",
              "      <td>2.5</td>\n",
              "      <td>5.0</td>\n",
              "      <td>1.9</td>\n",
              "      <td>2</td>\n",
              "    </tr>\n",
              "    <tr>\n",
              "      <th>147</th>\n",
              "      <td>6.5</td>\n",
              "      <td>3.0</td>\n",
              "      <td>5.2</td>\n",
              "      <td>2.0</td>\n",
              "      <td>2</td>\n",
              "    </tr>\n",
              "    <tr>\n",
              "      <th>148</th>\n",
              "      <td>6.2</td>\n",
              "      <td>3.4</td>\n",
              "      <td>5.4</td>\n",
              "      <td>2.3</td>\n",
              "      <td>2</td>\n",
              "    </tr>\n",
              "    <tr>\n",
              "      <th>149</th>\n",
              "      <td>5.9</td>\n",
              "      <td>3.0</td>\n",
              "      <td>5.1</td>\n",
              "      <td>1.8</td>\n",
              "      <td>2</td>\n",
              "    </tr>\n",
              "  </tbody>\n",
              "</table>\n",
              "<p>150 rows × 5 columns</p>\n",
              "</div>\n",
              "      <button class=\"colab-df-convert\" onclick=\"convertToInteractive('df-4afd9c37-4a63-415c-aa6e-fe0509585245')\"\n",
              "              title=\"Convert this dataframe to an interactive table.\"\n",
              "              style=\"display:none;\">\n",
              "        \n",
              "  <svg xmlns=\"http://www.w3.org/2000/svg\" height=\"24px\"viewBox=\"0 0 24 24\"\n",
              "       width=\"24px\">\n",
              "    <path d=\"M0 0h24v24H0V0z\" fill=\"none\"/>\n",
              "    <path d=\"M18.56 5.44l.94 2.06.94-2.06 2.06-.94-2.06-.94-.94-2.06-.94 2.06-2.06.94zm-11 1L8.5 8.5l.94-2.06 2.06-.94-2.06-.94L8.5 2.5l-.94 2.06-2.06.94zm10 10l.94 2.06.94-2.06 2.06-.94-2.06-.94-.94-2.06-.94 2.06-2.06.94z\"/><path d=\"M17.41 7.96l-1.37-1.37c-.4-.4-.92-.59-1.43-.59-.52 0-1.04.2-1.43.59L10.3 9.45l-7.72 7.72c-.78.78-.78 2.05 0 2.83L4 21.41c.39.39.9.59 1.41.59.51 0 1.02-.2 1.41-.59l7.78-7.78 2.81-2.81c.8-.78.8-2.07 0-2.86zM5.41 20L4 18.59l7.72-7.72 1.47 1.35L5.41 20z\"/>\n",
              "  </svg>\n",
              "      </button>\n",
              "      \n",
              "  <style>\n",
              "    .colab-df-container {\n",
              "      display:flex;\n",
              "      flex-wrap:wrap;\n",
              "      gap: 12px;\n",
              "    }\n",
              "\n",
              "    .colab-df-convert {\n",
              "      background-color: #E8F0FE;\n",
              "      border: none;\n",
              "      border-radius: 50%;\n",
              "      cursor: pointer;\n",
              "      display: none;\n",
              "      fill: #1967D2;\n",
              "      height: 32px;\n",
              "      padding: 0 0 0 0;\n",
              "      width: 32px;\n",
              "    }\n",
              "\n",
              "    .colab-df-convert:hover {\n",
              "      background-color: #E2EBFA;\n",
              "      box-shadow: 0px 1px 2px rgba(60, 64, 67, 0.3), 0px 1px 3px 1px rgba(60, 64, 67, 0.15);\n",
              "      fill: #174EA6;\n",
              "    }\n",
              "\n",
              "    [theme=dark] .colab-df-convert {\n",
              "      background-color: #3B4455;\n",
              "      fill: #D2E3FC;\n",
              "    }\n",
              "\n",
              "    [theme=dark] .colab-df-convert:hover {\n",
              "      background-color: #434B5C;\n",
              "      box-shadow: 0px 1px 3px 1px rgba(0, 0, 0, 0.15);\n",
              "      filter: drop-shadow(0px 1px 2px rgba(0, 0, 0, 0.3));\n",
              "      fill: #FFFFFF;\n",
              "    }\n",
              "  </style>\n",
              "\n",
              "      <script>\n",
              "        const buttonEl =\n",
              "          document.querySelector('#df-4afd9c37-4a63-415c-aa6e-fe0509585245 button.colab-df-convert');\n",
              "        buttonEl.style.display =\n",
              "          google.colab.kernel.accessAllowed ? 'block' : 'none';\n",
              "\n",
              "        async function convertToInteractive(key) {\n",
              "          const element = document.querySelector('#df-4afd9c37-4a63-415c-aa6e-fe0509585245');\n",
              "          const dataTable =\n",
              "            await google.colab.kernel.invokeFunction('convertToInteractive',\n",
              "                                                     [key], {});\n",
              "          if (!dataTable) return;\n",
              "\n",
              "          const docLinkHtml = 'Like what you see? Visit the ' +\n",
              "            '<a target=\"_blank\" href=https://colab.research.google.com/notebooks/data_table.ipynb>data table notebook</a>'\n",
              "            + ' to learn more about interactive tables.';\n",
              "          element.innerHTML = '';\n",
              "          dataTable['output_type'] = 'display_data';\n",
              "          await google.colab.output.renderOutput(dataTable, element);\n",
              "          const docLink = document.createElement('div');\n",
              "          docLink.innerHTML = docLinkHtml;\n",
              "          element.appendChild(docLink);\n",
              "        }\n",
              "      </script>\n",
              "    </div>\n",
              "  </div>\n",
              "  "
            ]
          },
          "metadata": {},
          "execution_count": 10
        }
      ]
    },
    {
      "cell_type": "code",
      "source": [
        "iris.info()"
      ],
      "metadata": {
        "colab": {
          "base_uri": "https://localhost:8080/"
        },
        "id": "1mXzG279v8bS",
        "outputId": "d36a9929-1d95-4d72-f0c0-acf4730af846"
      },
      "execution_count": 11,
      "outputs": [
        {
          "output_type": "stream",
          "name": "stdout",
          "text": [
            "<class 'pandas.core.frame.DataFrame'>\n",
            "RangeIndex: 150 entries, 0 to 149\n",
            "Data columns (total 5 columns):\n",
            " #   Column             Non-Null Count  Dtype  \n",
            "---  ------             --------------  -----  \n",
            " 0   sepal length (cm)  150 non-null    float64\n",
            " 1   sepal width (cm)   150 non-null    float64\n",
            " 2   petal length (cm)  150 non-null    float64\n",
            " 3   petal width (cm)   150 non-null    float64\n",
            " 4   target             150 non-null    int64  \n",
            "dtypes: float64(4), int64(1)\n",
            "memory usage: 6.0 KB\n"
          ]
        }
      ]
    },
    {
      "cell_type": "code",
      "source": [
        "from sklearn.model_selection import train_test_split"
      ],
      "metadata": {
        "id": "6XUFtOcvv-Ww"
      },
      "execution_count": 12,
      "outputs": []
    },
    {
      "cell_type": "code",
      "source": [
        "# hold out\n",
        "X_train, X_test, y_train, y_test = train_test_split(iris.iloc[:,:-1], iris.target)"
      ],
      "metadata": {
        "id": "OdTYs5ujwLu5"
      },
      "execution_count": 19,
      "outputs": []
    },
    {
      "cell_type": "code",
      "source": [
        "from sklearn.metrics import confusion_matrix"
      ],
      "metadata": {
        "id": "--bM16I9wa94"
      },
      "execution_count": 20,
      "outputs": []
    },
    {
      "cell_type": "code",
      "source": [
        "from sklearn.neighbors import KNeighborsClassifier"
      ],
      "metadata": {
        "id": "evSQIKbhwq-5"
      },
      "execution_count": 16,
      "outputs": []
    },
    {
      "cell_type": "code",
      "source": [
        "knn = KNeighborsClassifier()"
      ],
      "metadata": {
        "id": "yhYahadYwxTw"
      },
      "execution_count": 21,
      "outputs": []
    },
    {
      "cell_type": "code",
      "source": [
        "knn.fit(X_train, y_train)"
      ],
      "metadata": {
        "colab": {
          "base_uri": "https://localhost:8080/"
        },
        "id": "GS5PnSnrw3eY",
        "outputId": "f3b06f5e-c404-452e-92a0-c161778c64fc"
      },
      "execution_count": 22,
      "outputs": [
        {
          "output_type": "execute_result",
          "data": {
            "text/plain": [
              "KNeighborsClassifier()"
            ]
          },
          "metadata": {},
          "execution_count": 22
        }
      ]
    },
    {
      "cell_type": "code",
      "source": [
        "pred = knn.predict(X_test)\n",
        "pred"
      ],
      "metadata": {
        "colab": {
          "base_uri": "https://localhost:8080/"
        },
        "id": "20VKPNsSw644",
        "outputId": "8cafa09a-d843-4a10-8057-0b61fe16a269"
      },
      "execution_count": 25,
      "outputs": [
        {
          "output_type": "execute_result",
          "data": {
            "text/plain": [
              "array([2, 2, 1, 1, 0, 0, 0, 2, 2, 0, 0, 2, 0, 2, 2, 0, 1, 2, 0, 0, 1, 1,\n",
              "       1, 1, 1, 0, 2, 1, 0, 1, 2, 0, 2, 1, 0, 2, 0, 1])"
            ]
          },
          "metadata": {},
          "execution_count": 25
        }
      ]
    },
    {
      "cell_type": "code",
      "source": [
        "confusion_matrix(y_test, pred)"
      ],
      "metadata": {
        "colab": {
          "base_uri": "https://localhost:8080/"
        },
        "id": "RM8djl_jxXYq",
        "outputId": "db1d7f21-8ea5-40c2-e177-a797585b662b"
      },
      "execution_count": 26,
      "outputs": [
        {
          "output_type": "execute_result",
          "data": {
            "text/plain": [
              "array([[14,  0,  0],\n",
              "       [ 0, 12,  1],\n",
              "       [ 0,  0, 11]])"
            ]
          },
          "metadata": {},
          "execution_count": 26
        }
      ]
    },
    {
      "cell_type": "markdown",
      "source": [
        "- 행을 실제, 열은 예측값이다.\n",
        "- 실제 0인데 0으로 예측한 값 14개\n",
        "- 실제 1인데 1로 예측한 값 12개, 2로 예측한 값 1개\n",
        "- 실제 2인데 2로 예측한 값 11개\n",
        "- array([\n",
        "-  [14,  0,  0],\n",
        "-  [ 0, 12,  1],\n",
        "-  [ 0,  0, 11]])\n",
        "\n",
        "- 위의 결과를 confusion matrix한 결과는 다음과 같다.\n",
        "\n",
        "| |setosa로 예측|versicolor로 예측 | virginica로 예측|\n",
        "|---|---|---|---|\n",
        "|실제 setosa|14|0|0|\n",
        "|실제 versicolor|0|12|1|\n",
        "|실제 virginica|0|0|11|\n",
        "\n",
        "---\n",
        "- 이진 분류하는 confusion matrix에서 각 위치를 다음과 같이 이름 붙인다.\n",
        "\n",
        "|||Predict||\n",
        "|---|---|---|---|\n",
        "|   |   |True|False|\n",
        "|Actual|True|True Positive|False Negative(2종오류)|\n",
        "||False|False Positive(1종오류)|True Negative|\n",
        "\n",
        "- False Positive는 1종 오류\n",
        "- False Negative는 2종 오류\n",
        "\n",
        "- 1종 오류와 2종 오류 중에서 어떤 것이 더 중요한지는, 의사결정자의 판단에 따라 다르다.\n",
        "\n",
        "![photo](https://2.bp.blogspot.com/-EvSXDotTOwc/XMfeOGZ-CVI/AAAAAAAAEiE/oePFfvhfOQM11dgRn9FkPxlegCXbgOF4QCLcBGAs/s1600/confusionMatrxiUpdated.jpg)\n",
        "\n",
        "- Confusion matrix에 기반하여 다음과 같은 모델의 성능 지표가 있다.\n",
        "- 정확도는 맹점이 있기 때문에 다른 평가지표도 함께 살펴볼 필요가 있다.\n",
        " \n",
        "  - accuracy(정확도)\n",
        " \n",
        "    전체 데이터 중에 예측이 맞은 비율\n",
        " \n",
        "    $$accuracy = \\frac{TP+TN}{TP+FP+TN+FN}$$\n",
        " \n",
        "  - precision(정밀도)\n",
        " \n",
        "    양성으로 예측한 것 중에서 양성이 맞는 비율\n",
        " \n",
        "    즉, 예측한 거 중에 맞은 비율\n",
        " \n",
        "    $$precision = \\frac{TP}{TP+FP}$$\n",
        " \n",
        "  - recall(재현률)\n",
        " \n",
        "    실제 양성인 것  중에서 양성으로 예측한 비율\n",
        " \n",
        "    즉, 맞은 비율\n",
        " \n",
        "    $$reacll = \\frac{TP}{TP+FN}$$\n"
      ],
      "metadata": {
        "id": "NbG3X_PpyZ1o"
      }
    },
    {
      "cell_type": "code",
      "source": [
        "from sklearn.metrics import classification_report"
      ],
      "metadata": {
        "id": "07NKi2c15TMK"
      },
      "execution_count": 28,
      "outputs": []
    },
    {
      "cell_type": "code",
      "source": [
        "# 내부적으로 confusion matrix을 만든 후 평가 지표별로 점수를 계산해 준다.\n",
        "# recall : 실제 값에서 양성을 맞출 확률\n",
        "print(classification_report(y_test, pred))"
      ],
      "metadata": {
        "colab": {
          "base_uri": "https://localhost:8080/"
        },
        "id": "0e3UEZ7m7vah",
        "outputId": "27868740-3675-4df4-a751-bc37ec1acdee"
      },
      "execution_count": 29,
      "outputs": [
        {
          "output_type": "stream",
          "name": "stdout",
          "text": [
            "              precision    recall  f1-score   support\n",
            "\n",
            "           0       1.00      1.00      1.00        14\n",
            "           1       1.00      0.92      0.96        13\n",
            "           2       0.92      1.00      0.96        11\n",
            "\n",
            "    accuracy                           0.97        38\n",
            "   macro avg       0.97      0.97      0.97        38\n",
            "weighted avg       0.98      0.97      0.97        38\n",
            "\n"
          ]
        }
      ]
    },
    {
      "cell_type": "markdown",
      "source": [
        "[f1_score link](https://blog.naver.com/PostView.naver?blogId=hannaurora&logNo=222498671200&parentCategoryNo=&categoryNo=41&viewDate=&isShowPopularPosts=true&from=search)"
      ],
      "metadata": {
        "id": "PDjYkyxt9ODR"
      }
    },
    {
      "cell_type": "markdown",
      "source": [
        "### Hyper Parameter\n",
        "- 하이퍼 파라미터에 따라서 성능이 달라진다.\n",
        "- 그러므로, 최적의 하이퍼 파라미터를 찾는 것이 중요하다."
      ],
      "metadata": {
        "id": "1oIDxGtfxvbh"
      }
    },
    {
      "cell_type": "code",
      "source": [
        "# 단순하게 하이퍼 파라미터를 for문으로 찾는 방법\n",
        "temp = []\n",
        "for i in range(1,20):\n",
        "  knn = KNeighborsClassifier(n_neighbors=i)\n",
        "  knn.fit(X_train, y_train)\n",
        "  temp.append(knn.score(X_test, y_test))"
      ],
      "metadata": {
        "id": "glZAMkpz_JyL"
      },
      "execution_count": 42,
      "outputs": []
    },
    {
      "cell_type": "code",
      "source": [
        "temp"
      ],
      "metadata": {
        "colab": {
          "base_uri": "https://localhost:8080/"
        },
        "id": "PJTAne4Z_jRi",
        "outputId": "957f2331-e7cd-4c07-a436-8b423fa9ec09"
      },
      "execution_count": 43,
      "outputs": [
        {
          "output_type": "execute_result",
          "data": {
            "text/plain": [
              "[0.9736842105263158,\n",
              " 0.9736842105263158,\n",
              " 0.9736842105263158,\n",
              " 0.9736842105263158,\n",
              " 0.9736842105263158,\n",
              " 0.9736842105263158,\n",
              " 0.9736842105263158,\n",
              " 0.9473684210526315,\n",
              " 0.9473684210526315,\n",
              " 0.9473684210526315,\n",
              " 0.9473684210526315,\n",
              " 0.9473684210526315,\n",
              " 0.9473684210526315,\n",
              " 0.9473684210526315,\n",
              " 0.9736842105263158,\n",
              " 0.9473684210526315,\n",
              " 0.9736842105263158,\n",
              " 0.9473684210526315,\n",
              " 0.9473684210526315]"
            ]
          },
          "metadata": {},
          "execution_count": 43
        }
      ]
    },
    {
      "cell_type": "code",
      "source": [
        "import numpy as np"
      ],
      "metadata": {
        "id": "EzQ-jKul_lOQ"
      },
      "execution_count": 34,
      "outputs": []
    },
    {
      "cell_type": "code",
      "source": [
        "# 큰 값을 저장하고 있는 인덱스를 리턴\n",
        "# n_neighbors가 0일 때 성능이 가장 좋다.\n",
        "np.argmax(temp)"
      ],
      "metadata": {
        "colab": {
          "base_uri": "https://localhost:8080/"
        },
        "id": "z0NsV8czAEI4",
        "outputId": "20a309f9-4696-4673-e5b4-c74e6d7b7055"
      },
      "execution_count": 39,
      "outputs": [
        {
          "output_type": "execute_result",
          "data": {
            "text/plain": [
              "0"
            ]
          },
          "metadata": {},
          "execution_count": 39
        }
      ]
    },
    {
      "cell_type": "markdown",
      "source": [
        "### 교차 검증(3 way holdout)\n",
        "- 데이터셋을 총 3등분한다.\n",
        "  - train set : 모델 학습에 사용한다.\n",
        "  - validation set : 하이퍼 파라미터를 찾기 위해서 사용한다.\n",
        "  - test set : 한번도 안 본 데이터로 모델의 성능을 측정하기 위해서 사용한다."
      ],
      "metadata": {
        "id": "TE_j2FYPAGGR"
      }
    },
    {
      "cell_type": "code",
      "source": [
        "X_train, X_test, y_train, y_test = train_test_split(iris.iloc[:,:-1], iris.target)"
      ],
      "metadata": {
        "id": "GObrnpP_BsuT"
      },
      "execution_count": 44,
      "outputs": []
    },
    {
      "cell_type": "code",
      "source": [
        "X_train, X_validation, y_train, y_validation = train_test_split(X_train, y_train)"
      ],
      "metadata": {
        "id": "l4A6rY5hB36R"
      },
      "execution_count": 45,
      "outputs": []
    },
    {
      "cell_type": "code",
      "source": [
        "# 하이퍼 파라미터를 찾기 위해서 3-way holdout을 한다.\n",
        "temp = []\n",
        "for i in range(1,20):\n",
        "  knn = KNeighborsClassifier(n_neighbors=i)\n",
        "  knn.fit(X_train, y_train)\n",
        "  temp.append(knn.score(X_validation, y_validation))"
      ],
      "metadata": {
        "id": "2ez-4TgDCH6g"
      },
      "execution_count": 46,
      "outputs": []
    },
    {
      "cell_type": "code",
      "source": [
        "print(temp)"
      ],
      "metadata": {
        "colab": {
          "base_uri": "https://localhost:8080/"
        },
        "id": "LFkHZ9zCCcs7",
        "outputId": "0c679528-2b4e-4606-c162-0caf625114e2"
      },
      "execution_count": 48,
      "outputs": [
        {
          "output_type": "stream",
          "name": "stdout",
          "text": [
            "[0.9285714285714286, 0.9285714285714286, 1.0, 1.0, 0.9642857142857143, 1.0, 1.0, 1.0, 1.0, 1.0, 0.9642857142857143, 0.9642857142857143, 0.9642857142857143, 0.9642857142857143, 0.9642857142857143, 0.9642857142857143, 0.9642857142857143, 0.9642857142857143, 0.9642857142857143]\n"
          ]
        }
      ]
    },
    {
      "cell_type": "code",
      "source": [
        "# 3-way holdout으로 했을 때, 하이퍼 파라미터 n_neighbors가 3일 때 가장 성능이 좋다.\n",
        "np.argmax(temp)"
      ],
      "metadata": {
        "colab": {
          "base_uri": "https://localhost:8080/"
        },
        "id": "A0RaxpB3Ciyh",
        "outputId": "6faa37b5-f37b-4c44-a836-d5912cd3bbf2"
      },
      "execution_count": 50,
      "outputs": [
        {
          "output_type": "execute_result",
          "data": {
            "text/plain": [
              "2"
            ]
          },
          "metadata": {},
          "execution_count": 50
        }
      ]
    },
    {
      "cell_type": "markdown",
      "source": [
        "#### cross_val_score로 하이퍼 파라미터 찾는 방법 "
      ],
      "metadata": {
        "id": "xTJSLV54C8H5"
      }
    },
    {
      "cell_type": "code",
      "source": [
        "from sklearn.model_selection import cross_val_score"
      ],
      "metadata": {
        "id": "IBnOu0lkD-uR"
      },
      "execution_count": 52,
      "outputs": []
    },
    {
      "cell_type": "code",
      "source": [
        "# 이 방법은 모든 데이터를 사용하기 때문에 위의 temp 방식보다 많이 사용한다.\n",
        "temp2 = []\n",
        "for i in range(1,20):\n",
        "  temp2.append(cross_val_score(KNeighborsClassifier(n_neighbors=i), iris.iloc[:,:-1], iris.target).mean())"
      ],
      "metadata": {
        "id": "zsRWbQNqDaua"
      },
      "execution_count": 58,
      "outputs": []
    },
    {
      "cell_type": "code",
      "source": [
        "print(temp2)"
      ],
      "metadata": {
        "colab": {
          "base_uri": "https://localhost:8080/"
        },
        "id": "yHDPYKbYEhuS",
        "outputId": "8a8a570e-56fa-4f85-a457-4a588e0fef02"
      },
      "execution_count": 61,
      "outputs": [
        {
          "output_type": "stream",
          "name": "stdout",
          "text": [
            "[0.96, 0.9466666666666665, 0.9666666666666668, 0.9733333333333334, 0.9733333333333334, 0.9800000000000001, 0.9800000000000001, 0.9666666666666668, 0.9733333333333334, 0.9800000000000001, 0.9800000000000001, 0.9800000000000001, 0.9733333333333334, 0.9666666666666666, 0.9666666666666668, 0.9666666666666668, 0.9666666666666668, 0.9666666666666666, 0.9666666666666668]\n"
          ]
        }
      ]
    },
    {
      "cell_type": "code",
      "source": [
        "# temp와 최적의 하이퍼 파라미터가 다르게 나왔다.\n",
        "np.argmax(temp2)"
      ],
      "metadata": {
        "colab": {
          "base_uri": "https://localhost:8080/"
        },
        "id": "Eh_C7ss5Fg5q",
        "outputId": "159b1a47-35b4-41a8-b4b2-8d0f42f50d1e"
      },
      "execution_count": 63,
      "outputs": [
        {
          "output_type": "execute_result",
          "data": {
            "text/plain": [
              "5"
            ]
          },
          "metadata": {},
          "execution_count": 63
        }
      ]
    },
    {
      "cell_type": "code",
      "source": [
        "# 찾아낸 하이퍼 파라미터로 최종 모델을 만든다.\n",
        "# 최종 모델은 모든 데이터를 써서 학습한다.\n",
        "knn_final = KNeighborsClassifier(n_neighbors=6)\n",
        "knn_final.fit(iris.iloc[:,:-1], iris.target)"
      ],
      "metadata": {
        "colab": {
          "base_uri": "https://localhost:8080/"
        },
        "id": "lERI1IMOF0mA",
        "outputId": "64de419e-0baf-4025-d27c-28f206f5f6a0"
      },
      "execution_count": 64,
      "outputs": [
        {
          "output_type": "execute_result",
          "data": {
            "text/plain": [
              "KNeighborsClassifier(n_neighbors=6)"
            ]
          },
          "metadata": {},
          "execution_count": 64
        }
      ]
    },
    {
      "cell_type": "markdown",
      "source": [
        "### GridSearchCV\n",
        "- scikit-learn에서 하이퍼 파라미터를 편하게 찾는 기능을 제공하고 있는 기능이다."
      ],
      "metadata": {
        "id": "0p6lOKPFH6Cy"
      }
    },
    {
      "cell_type": "code",
      "source": [
        "from sklearn.model_selection import GridSearchCV"
      ],
      "metadata": {
        "id": "JO9GuvAwKUSi"
      },
      "execution_count": 68,
      "outputs": []
    },
    {
      "cell_type": "code",
      "source": [
        "knn = KNeighborsClassifier()"
      ],
      "metadata": {
        "id": "Wa5GXayLKr6L"
      },
      "execution_count": 70,
      "outputs": []
    },
    {
      "cell_type": "code",
      "source": [
        "# scikit-learn의 알고리즘들은 get_params를 공통적으로 가지고 있다.\n",
        "# 알고리즘이 사용할 수 있는 하이퍼 파라미터를 알려준다.\n",
        "knn.get_params()"
      ],
      "metadata": {
        "colab": {
          "base_uri": "https://localhost:8080/"
        },
        "id": "IsKRya_eKvmx",
        "outputId": "3bb7a193-1c7d-4e42-daac-7d96f62b6378"
      },
      "execution_count": 71,
      "outputs": [
        {
          "output_type": "execute_result",
          "data": {
            "text/plain": [
              "{'algorithm': 'auto',\n",
              " 'leaf_size': 30,\n",
              " 'metric': 'minkowski',\n",
              " 'metric_params': None,\n",
              " 'n_jobs': None,\n",
              " 'n_neighbors': 5,\n",
              " 'p': 2,\n",
              " 'weights': 'uniform'}"
            ]
          },
          "metadata": {},
          "execution_count": 71
        }
      ]
    },
    {
      "cell_type": "code",
      "source": [
        "# param_grid의 key는 get_params에 나오는 하이퍼 파라미터만 쓸 수 있다.\n",
        "# param_grid의 value는 테스트에 볼 하이퍼 파라미터를 리스트로 넣는다.\n",
        "grid = GridSearchCV(KNeighborsClassifier(), {'n_neighbors':[2,3,4,5,6,7]})"
      ],
      "metadata": {
        "id": "_hPmg4m_Kzlx"
      },
      "execution_count": 72,
      "outputs": []
    },
    {
      "cell_type": "code",
      "source": [
        "grid.fit(iris.iloc[:,:-1], iris.target)"
      ],
      "metadata": {
        "colab": {
          "base_uri": "https://localhost:8080/"
        },
        "id": "_1CEugogL5YL",
        "outputId": "55387de6-7ec2-48b9-9237-0c374c3c749e"
      },
      "execution_count": 73,
      "outputs": [
        {
          "output_type": "execute_result",
          "data": {
            "text/plain": [
              "GridSearchCV(estimator=KNeighborsClassifier(),\n",
              "             param_grid={'n_neighbors': [2, 3, 4, 5, 6, 7]})"
            ]
          },
          "metadata": {},
          "execution_count": 73
        }
      ]
    },
    {
      "cell_type": "code",
      "source": [
        "# 가장 좋은 하이퍼 파라미터를 한번에 찾아준다.\n",
        "grid.best_params_"
      ],
      "metadata": {
        "colab": {
          "base_uri": "https://localhost:8080/"
        },
        "id": "eo1P0c1uL-xi",
        "outputId": "57f160bb-86ec-4004-99f1-5e00e5a20df3"
      },
      "execution_count": 74,
      "outputs": [
        {
          "output_type": "execute_result",
          "data": {
            "text/plain": [
              "{'n_neighbors': 6}"
            ]
          },
          "metadata": {},
          "execution_count": 74
        }
      ]
    },
    {
      "cell_type": "code",
      "source": [
        "# 가장 좋은 하이퍼 파라미터의 성능을 알려준다.\n",
        "grid.best_score_"
      ],
      "metadata": {
        "colab": {
          "base_uri": "https://localhost:8080/"
        },
        "id": "9yLrmFcRMBpp",
        "outputId": "751e81e9-f33d-4c29-b3eb-7f48551ee8b2"
      },
      "execution_count": 75,
      "outputs": [
        {
          "output_type": "execute_result",
          "data": {
            "text/plain": [
              "0.9800000000000001"
            ]
          },
          "metadata": {},
          "execution_count": 75
        }
      ]
    },
    {
      "cell_type": "code",
      "source": [
        "# grid search한 결과를 총 정리해준다.\n",
        "grid.cv_results_"
      ],
      "metadata": {
        "colab": {
          "base_uri": "https://localhost:8080/"
        },
        "id": "EYRWfgAvMOTB",
        "outputId": "25f76c49-0e61-41a7-da0d-fa81e133611f"
      },
      "execution_count": 76,
      "outputs": [
        {
          "output_type": "execute_result",
          "data": {
            "text/plain": [
              "{'mean_fit_time': array([0.00327415, 0.00311275, 0.00326562, 0.00339069, 0.00301452,\n",
              "        0.00427833]),\n",
              " 'std_fit_time': array([0.00048296, 0.00020861, 0.00010982, 0.00050631, 0.00015244,\n",
              "        0.00257683]),\n",
              " 'mean_score_time': array([0.0045083 , 0.00442433, 0.00456414, 0.00448837, 0.00427628,\n",
              "        0.00458302]),\n",
              " 'std_score_time': array([3.89471834e-04, 7.75491751e-05, 4.17810040e-05, 1.33717638e-04,\n",
              "        2.34172296e-04, 5.42720159e-04]),\n",
              " 'param_n_neighbors': masked_array(data=[2, 3, 4, 5, 6, 7],\n",
              "              mask=[False, False, False, False, False, False],\n",
              "        fill_value='?',\n",
              "             dtype=object),\n",
              " 'params': [{'n_neighbors': 2},\n",
              "  {'n_neighbors': 3},\n",
              "  {'n_neighbors': 4},\n",
              "  {'n_neighbors': 5},\n",
              "  {'n_neighbors': 6},\n",
              "  {'n_neighbors': 7}],\n",
              " 'split0_test_score': array([0.96666667, 0.96666667, 0.96666667, 0.96666667, 0.96666667,\n",
              "        0.96666667]),\n",
              " 'split1_test_score': array([0.93333333, 0.96666667, 0.96666667, 1.        , 1.        ,\n",
              "        1.        ]),\n",
              " 'split2_test_score': array([0.93333333, 0.93333333, 0.96666667, 0.93333333, 0.96666667,\n",
              "        0.96666667]),\n",
              " 'split3_test_score': array([0.9       , 0.96666667, 0.96666667, 0.96666667, 0.96666667,\n",
              "        0.96666667]),\n",
              " 'split4_test_score': array([1., 1., 1., 1., 1., 1.]),\n",
              " 'mean_test_score': array([0.94666667, 0.96666667, 0.97333333, 0.97333333, 0.98      ,\n",
              "        0.98      ]),\n",
              " 'std_test_score': array([0.03399346, 0.02108185, 0.01333333, 0.02494438, 0.01632993,\n",
              "        0.01632993]),\n",
              " 'rank_test_score': array([6, 5, 3, 3, 1, 1], dtype=int32)}"
            ]
          },
          "metadata": {},
          "execution_count": 76
        }
      ]
    },
    {
      "cell_type": "code",
      "source": [
        "# cv_results_의 결과를 pandas로 만들어 전치(T)해서 살펴보면 편한다.\n",
        "pd.DataFrame(grid.cv_results_).T"
      ],
      "metadata": {
        "colab": {
          "base_uri": "https://localhost:8080/",
          "height": 488
        },
        "id": "LX_d9-Q6Mf_M",
        "outputId": "62db0fc2-3820-4cc6-9d95-57a01f5124b0"
      },
      "execution_count": 78,
      "outputs": [
        {
          "output_type": "execute_result",
          "data": {
            "text/plain": [
              "                                    0                   1                   2  \\\n",
              "mean_fit_time                0.003274            0.003113            0.003266   \n",
              "std_fit_time                 0.000483            0.000209             0.00011   \n",
              "mean_score_time              0.004508            0.004424            0.004564   \n",
              "std_score_time               0.000389            0.000078            0.000042   \n",
              "param_n_neighbors                   2                   3                   4   \n",
              "params             {'n_neighbors': 2}  {'n_neighbors': 3}  {'n_neighbors': 4}   \n",
              "split0_test_score            0.966667            0.966667            0.966667   \n",
              "split1_test_score            0.933333            0.966667            0.966667   \n",
              "split2_test_score            0.933333            0.933333            0.966667   \n",
              "split3_test_score                 0.9            0.966667            0.966667   \n",
              "split4_test_score                 1.0                 1.0                 1.0   \n",
              "mean_test_score              0.946667            0.966667            0.973333   \n",
              "std_test_score               0.033993            0.021082            0.013333   \n",
              "rank_test_score                     6                   5                   3   \n",
              "\n",
              "                                    3                   4                   5  \n",
              "mean_fit_time                0.003391            0.003015            0.004278  \n",
              "std_fit_time                 0.000506            0.000152            0.002577  \n",
              "mean_score_time              0.004488            0.004276            0.004583  \n",
              "std_score_time               0.000134            0.000234            0.000543  \n",
              "param_n_neighbors                   5                   6                   7  \n",
              "params             {'n_neighbors': 5}  {'n_neighbors': 6}  {'n_neighbors': 7}  \n",
              "split0_test_score            0.966667            0.966667            0.966667  \n",
              "split1_test_score                 1.0                 1.0                 1.0  \n",
              "split2_test_score            0.933333            0.966667            0.966667  \n",
              "split3_test_score            0.966667            0.966667            0.966667  \n",
              "split4_test_score                 1.0                 1.0                 1.0  \n",
              "mean_test_score              0.973333                0.98                0.98  \n",
              "std_test_score               0.024944             0.01633             0.01633  \n",
              "rank_test_score                     3                   1                   1  "
            ],
            "text/html": [
              "\n",
              "  <div id=\"df-663a6412-b901-49b4-ac40-c111b95a2bcc\">\n",
              "    <div class=\"colab-df-container\">\n",
              "      <div>\n",
              "<style scoped>\n",
              "    .dataframe tbody tr th:only-of-type {\n",
              "        vertical-align: middle;\n",
              "    }\n",
              "\n",
              "    .dataframe tbody tr th {\n",
              "        vertical-align: top;\n",
              "    }\n",
              "\n",
              "    .dataframe thead th {\n",
              "        text-align: right;\n",
              "    }\n",
              "</style>\n",
              "<table border=\"1\" class=\"dataframe\">\n",
              "  <thead>\n",
              "    <tr style=\"text-align: right;\">\n",
              "      <th></th>\n",
              "      <th>0</th>\n",
              "      <th>1</th>\n",
              "      <th>2</th>\n",
              "      <th>3</th>\n",
              "      <th>4</th>\n",
              "      <th>5</th>\n",
              "    </tr>\n",
              "  </thead>\n",
              "  <tbody>\n",
              "    <tr>\n",
              "      <th>mean_fit_time</th>\n",
              "      <td>0.003274</td>\n",
              "      <td>0.003113</td>\n",
              "      <td>0.003266</td>\n",
              "      <td>0.003391</td>\n",
              "      <td>0.003015</td>\n",
              "      <td>0.004278</td>\n",
              "    </tr>\n",
              "    <tr>\n",
              "      <th>std_fit_time</th>\n",
              "      <td>0.000483</td>\n",
              "      <td>0.000209</td>\n",
              "      <td>0.00011</td>\n",
              "      <td>0.000506</td>\n",
              "      <td>0.000152</td>\n",
              "      <td>0.002577</td>\n",
              "    </tr>\n",
              "    <tr>\n",
              "      <th>mean_score_time</th>\n",
              "      <td>0.004508</td>\n",
              "      <td>0.004424</td>\n",
              "      <td>0.004564</td>\n",
              "      <td>0.004488</td>\n",
              "      <td>0.004276</td>\n",
              "      <td>0.004583</td>\n",
              "    </tr>\n",
              "    <tr>\n",
              "      <th>std_score_time</th>\n",
              "      <td>0.000389</td>\n",
              "      <td>0.000078</td>\n",
              "      <td>0.000042</td>\n",
              "      <td>0.000134</td>\n",
              "      <td>0.000234</td>\n",
              "      <td>0.000543</td>\n",
              "    </tr>\n",
              "    <tr>\n",
              "      <th>param_n_neighbors</th>\n",
              "      <td>2</td>\n",
              "      <td>3</td>\n",
              "      <td>4</td>\n",
              "      <td>5</td>\n",
              "      <td>6</td>\n",
              "      <td>7</td>\n",
              "    </tr>\n",
              "    <tr>\n",
              "      <th>params</th>\n",
              "      <td>{'n_neighbors': 2}</td>\n",
              "      <td>{'n_neighbors': 3}</td>\n",
              "      <td>{'n_neighbors': 4}</td>\n",
              "      <td>{'n_neighbors': 5}</td>\n",
              "      <td>{'n_neighbors': 6}</td>\n",
              "      <td>{'n_neighbors': 7}</td>\n",
              "    </tr>\n",
              "    <tr>\n",
              "      <th>split0_test_score</th>\n",
              "      <td>0.966667</td>\n",
              "      <td>0.966667</td>\n",
              "      <td>0.966667</td>\n",
              "      <td>0.966667</td>\n",
              "      <td>0.966667</td>\n",
              "      <td>0.966667</td>\n",
              "    </tr>\n",
              "    <tr>\n",
              "      <th>split1_test_score</th>\n",
              "      <td>0.933333</td>\n",
              "      <td>0.966667</td>\n",
              "      <td>0.966667</td>\n",
              "      <td>1.0</td>\n",
              "      <td>1.0</td>\n",
              "      <td>1.0</td>\n",
              "    </tr>\n",
              "    <tr>\n",
              "      <th>split2_test_score</th>\n",
              "      <td>0.933333</td>\n",
              "      <td>0.933333</td>\n",
              "      <td>0.966667</td>\n",
              "      <td>0.933333</td>\n",
              "      <td>0.966667</td>\n",
              "      <td>0.966667</td>\n",
              "    </tr>\n",
              "    <tr>\n",
              "      <th>split3_test_score</th>\n",
              "      <td>0.9</td>\n",
              "      <td>0.966667</td>\n",
              "      <td>0.966667</td>\n",
              "      <td>0.966667</td>\n",
              "      <td>0.966667</td>\n",
              "      <td>0.966667</td>\n",
              "    </tr>\n",
              "    <tr>\n",
              "      <th>split4_test_score</th>\n",
              "      <td>1.0</td>\n",
              "      <td>1.0</td>\n",
              "      <td>1.0</td>\n",
              "      <td>1.0</td>\n",
              "      <td>1.0</td>\n",
              "      <td>1.0</td>\n",
              "    </tr>\n",
              "    <tr>\n",
              "      <th>mean_test_score</th>\n",
              "      <td>0.946667</td>\n",
              "      <td>0.966667</td>\n",
              "      <td>0.973333</td>\n",
              "      <td>0.973333</td>\n",
              "      <td>0.98</td>\n",
              "      <td>0.98</td>\n",
              "    </tr>\n",
              "    <tr>\n",
              "      <th>std_test_score</th>\n",
              "      <td>0.033993</td>\n",
              "      <td>0.021082</td>\n",
              "      <td>0.013333</td>\n",
              "      <td>0.024944</td>\n",
              "      <td>0.01633</td>\n",
              "      <td>0.01633</td>\n",
              "    </tr>\n",
              "    <tr>\n",
              "      <th>rank_test_score</th>\n",
              "      <td>6</td>\n",
              "      <td>5</td>\n",
              "      <td>3</td>\n",
              "      <td>3</td>\n",
              "      <td>1</td>\n",
              "      <td>1</td>\n",
              "    </tr>\n",
              "  </tbody>\n",
              "</table>\n",
              "</div>\n",
              "      <button class=\"colab-df-convert\" onclick=\"convertToInteractive('df-663a6412-b901-49b4-ac40-c111b95a2bcc')\"\n",
              "              title=\"Convert this dataframe to an interactive table.\"\n",
              "              style=\"display:none;\">\n",
              "        \n",
              "  <svg xmlns=\"http://www.w3.org/2000/svg\" height=\"24px\"viewBox=\"0 0 24 24\"\n",
              "       width=\"24px\">\n",
              "    <path d=\"M0 0h24v24H0V0z\" fill=\"none\"/>\n",
              "    <path d=\"M18.56 5.44l.94 2.06.94-2.06 2.06-.94-2.06-.94-.94-2.06-.94 2.06-2.06.94zm-11 1L8.5 8.5l.94-2.06 2.06-.94-2.06-.94L8.5 2.5l-.94 2.06-2.06.94zm10 10l.94 2.06.94-2.06 2.06-.94-2.06-.94-.94-2.06-.94 2.06-2.06.94z\"/><path d=\"M17.41 7.96l-1.37-1.37c-.4-.4-.92-.59-1.43-.59-.52 0-1.04.2-1.43.59L10.3 9.45l-7.72 7.72c-.78.78-.78 2.05 0 2.83L4 21.41c.39.39.9.59 1.41.59.51 0 1.02-.2 1.41-.59l7.78-7.78 2.81-2.81c.8-.78.8-2.07 0-2.86zM5.41 20L4 18.59l7.72-7.72 1.47 1.35L5.41 20z\"/>\n",
              "  </svg>\n",
              "      </button>\n",
              "      \n",
              "  <style>\n",
              "    .colab-df-container {\n",
              "      display:flex;\n",
              "      flex-wrap:wrap;\n",
              "      gap: 12px;\n",
              "    }\n",
              "\n",
              "    .colab-df-convert {\n",
              "      background-color: #E8F0FE;\n",
              "      border: none;\n",
              "      border-radius: 50%;\n",
              "      cursor: pointer;\n",
              "      display: none;\n",
              "      fill: #1967D2;\n",
              "      height: 32px;\n",
              "      padding: 0 0 0 0;\n",
              "      width: 32px;\n",
              "    }\n",
              "\n",
              "    .colab-df-convert:hover {\n",
              "      background-color: #E2EBFA;\n",
              "      box-shadow: 0px 1px 2px rgba(60, 64, 67, 0.3), 0px 1px 3px 1px rgba(60, 64, 67, 0.15);\n",
              "      fill: #174EA6;\n",
              "    }\n",
              "\n",
              "    [theme=dark] .colab-df-convert {\n",
              "      background-color: #3B4455;\n",
              "      fill: #D2E3FC;\n",
              "    }\n",
              "\n",
              "    [theme=dark] .colab-df-convert:hover {\n",
              "      background-color: #434B5C;\n",
              "      box-shadow: 0px 1px 3px 1px rgba(0, 0, 0, 0.15);\n",
              "      filter: drop-shadow(0px 1px 2px rgba(0, 0, 0, 0.3));\n",
              "      fill: #FFFFFF;\n",
              "    }\n",
              "  </style>\n",
              "\n",
              "      <script>\n",
              "        const buttonEl =\n",
              "          document.querySelector('#df-663a6412-b901-49b4-ac40-c111b95a2bcc button.colab-df-convert');\n",
              "        buttonEl.style.display =\n",
              "          google.colab.kernel.accessAllowed ? 'block' : 'none';\n",
              "\n",
              "        async function convertToInteractive(key) {\n",
              "          const element = document.querySelector('#df-663a6412-b901-49b4-ac40-c111b95a2bcc');\n",
              "          const dataTable =\n",
              "            await google.colab.kernel.invokeFunction('convertToInteractive',\n",
              "                                                     [key], {});\n",
              "          if (!dataTable) return;\n",
              "\n",
              "          const docLinkHtml = 'Like what you see? Visit the ' +\n",
              "            '<a target=\"_blank\" href=https://colab.research.google.com/notebooks/data_table.ipynb>data table notebook</a>'\n",
              "            + ' to learn more about interactive tables.';\n",
              "          element.innerHTML = '';\n",
              "          dataTable['output_type'] = 'display_data';\n",
              "          await google.colab.output.renderOutput(dataTable, element);\n",
              "          const docLink = document.createElement('div');\n",
              "          docLink.innerHTML = docLinkHtml;\n",
              "          element.appendChild(docLink);\n",
              "        }\n",
              "      </script>\n",
              "    </div>\n",
              "  </div>\n",
              "  "
            ]
          },
          "metadata": {},
          "execution_count": 78
        }
      ]
    },
    {
      "cell_type": "code",
      "source": [
        "# 하이퍼 파라미터를 여러 개 한번에 찾을 수 있다.\n",
        "grid = GridSearchCV(KNeighborsClassifier(), {'n_neighbors':[2,3,4,5,6,7], \n",
        "                                             'weights':['distance', 'uniform']})"
      ],
      "metadata": {
        "id": "Wk2FmRouNlu7"
      },
      "execution_count": 79,
      "outputs": []
    },
    {
      "cell_type": "code",
      "source": [
        "grid.fit(iris.iloc[:,:-1], iris.target)"
      ],
      "metadata": {
        "colab": {
          "base_uri": "https://localhost:8080/"
        },
        "id": "h_wVdmk2PAaC",
        "outputId": "1f3413b9-883d-42a1-dc64-e0cf42166a5f"
      },
      "execution_count": 81,
      "outputs": [
        {
          "output_type": "execute_result",
          "data": {
            "text/plain": [
              "GridSearchCV(estimator=KNeighborsClassifier(),\n",
              "             param_grid={'n_neighbors': [2, 3, 4, 5, 6, 7],\n",
              "                         'weights': ['distance', 'uniform']})"
            ]
          },
          "metadata": {},
          "execution_count": 81
        }
      ]
    },
    {
      "cell_type": "code",
      "source": [
        "# params를 보면 입력된 하이퍼 파라미터들의 가능한 조합을 모두 계산했다.\n",
        "pd.DataFrame(grid.cv_results_).T"
      ],
      "metadata": {
        "colab": {
          "base_uri": "https://localhost:8080/",
          "height": 618
        },
        "id": "Pib9QCPjPGCR",
        "outputId": "a279a466-3f40-4a02-a95c-49a3d8694e78"
      },
      "execution_count": 83,
      "outputs": [
        {
          "output_type": "execute_result",
          "data": {
            "text/plain": [
              "                                                          0   \\\n",
              "mean_fit_time                                       0.011358   \n",
              "std_fit_time                                        0.008465   \n",
              "mean_score_time                                     0.010363   \n",
              "std_score_time                                      0.006657   \n",
              "param_n_neighbors                                          2   \n",
              "param_weights                                       distance   \n",
              "params             {'n_neighbors': 2, 'weights': 'distance'}   \n",
              "split0_test_score                                   0.966667   \n",
              "split1_test_score                                   0.966667   \n",
              "split2_test_score                                   0.933333   \n",
              "split3_test_score                                   0.933333   \n",
              "split4_test_score                                        1.0   \n",
              "mean_test_score                                         0.96   \n",
              "std_test_score                                      0.024944   \n",
              "rank_test_score                                           11   \n",
              "\n",
              "                                                         1   \\\n",
              "mean_fit_time                                      0.008218   \n",
              "std_fit_time                                       0.006304   \n",
              "mean_score_time                                    0.016149   \n",
              "std_score_time                                     0.013971   \n",
              "param_n_neighbors                                         2   \n",
              "param_weights                                       uniform   \n",
              "params             {'n_neighbors': 2, 'weights': 'uniform'}   \n",
              "split0_test_score                                  0.966667   \n",
              "split1_test_score                                  0.933333   \n",
              "split2_test_score                                  0.933333   \n",
              "split3_test_score                                       0.9   \n",
              "split4_test_score                                       1.0   \n",
              "mean_test_score                                    0.946667   \n",
              "std_test_score                                     0.033993   \n",
              "rank_test_score                                          12   \n",
              "\n",
              "                                                          2   \\\n",
              "mean_fit_time                                       0.002973   \n",
              "std_fit_time                                        0.000112   \n",
              "mean_score_time                                     0.012277   \n",
              "std_score_time                                      0.005502   \n",
              "param_n_neighbors                                          3   \n",
              "param_weights                                       distance   \n",
              "params             {'n_neighbors': 3, 'weights': 'distance'}   \n",
              "split0_test_score                                   0.966667   \n",
              "split1_test_score                                   0.966667   \n",
              "split2_test_score                                   0.933333   \n",
              "split3_test_score                                   0.966667   \n",
              "split4_test_score                                        1.0   \n",
              "mean_test_score                                     0.966667   \n",
              "std_test_score                                      0.021082   \n",
              "rank_test_score                                            7   \n",
              "\n",
              "                                                         3   \\\n",
              "mean_fit_time                                      0.004594   \n",
              "std_fit_time                                       0.002812   \n",
              "mean_score_time                                     0.00717   \n",
              "std_score_time                                     0.003592   \n",
              "param_n_neighbors                                         3   \n",
              "param_weights                                       uniform   \n",
              "params             {'n_neighbors': 3, 'weights': 'uniform'}   \n",
              "split0_test_score                                  0.966667   \n",
              "split1_test_score                                  0.966667   \n",
              "split2_test_score                                  0.933333   \n",
              "split3_test_score                                  0.966667   \n",
              "split4_test_score                                       1.0   \n",
              "mean_test_score                                    0.966667   \n",
              "std_test_score                                     0.021082   \n",
              "rank_test_score                                           7   \n",
              "\n",
              "                                                          4   \\\n",
              "mean_fit_time                                       0.005642   \n",
              "std_fit_time                                         0.00541   \n",
              "mean_score_time                                     0.003185   \n",
              "std_score_time                                      0.000162   \n",
              "param_n_neighbors                                          4   \n",
              "param_weights                                       distance   \n",
              "params             {'n_neighbors': 4, 'weights': 'distance'}   \n",
              "split0_test_score                                   0.966667   \n",
              "split1_test_score                                   0.966667   \n",
              "split2_test_score                                   0.933333   \n",
              "split3_test_score                                   0.966667   \n",
              "split4_test_score                                        1.0   \n",
              "mean_test_score                                     0.966667   \n",
              "std_test_score                                      0.021082   \n",
              "rank_test_score                                            7   \n",
              "\n",
              "                                                         5   \\\n",
              "mean_fit_time                                      0.004984   \n",
              "std_fit_time                                       0.002805   \n",
              "mean_score_time                                    0.006488   \n",
              "std_score_time                                     0.003493   \n",
              "param_n_neighbors                                         4   \n",
              "param_weights                                       uniform   \n",
              "params             {'n_neighbors': 4, 'weights': 'uniform'}   \n",
              "split0_test_score                                  0.966667   \n",
              "split1_test_score                                  0.966667   \n",
              "split2_test_score                                  0.966667   \n",
              "split3_test_score                                  0.966667   \n",
              "split4_test_score                                       1.0   \n",
              "mean_test_score                                    0.973333   \n",
              "std_test_score                                     0.013333   \n",
              "rank_test_score                                           5   \n",
              "\n",
              "                                                          6   \\\n",
              "mean_fit_time                                       0.005349   \n",
              "std_fit_time                                        0.002625   \n",
              "mean_score_time                                     0.004093   \n",
              "std_score_time                                      0.001413   \n",
              "param_n_neighbors                                          5   \n",
              "param_weights                                       distance   \n",
              "params             {'n_neighbors': 5, 'weights': 'distance'}   \n",
              "split0_test_score                                   0.966667   \n",
              "split1_test_score                                        1.0   \n",
              "split2_test_score                                        0.9   \n",
              "split3_test_score                                   0.966667   \n",
              "split4_test_score                                        1.0   \n",
              "mean_test_score                                     0.966667   \n",
              "std_test_score                                      0.036515   \n",
              "rank_test_score                                            7   \n",
              "\n",
              "                                                         7   \\\n",
              "mean_fit_time                                      0.003097   \n",
              "std_fit_time                                       0.000164   \n",
              "mean_score_time                                    0.004369   \n",
              "std_score_time                                      0.00023   \n",
              "param_n_neighbors                                         5   \n",
              "param_weights                                       uniform   \n",
              "params             {'n_neighbors': 5, 'weights': 'uniform'}   \n",
              "split0_test_score                                  0.966667   \n",
              "split1_test_score                                       1.0   \n",
              "split2_test_score                                  0.933333   \n",
              "split3_test_score                                  0.966667   \n",
              "split4_test_score                                       1.0   \n",
              "mean_test_score                                    0.973333   \n",
              "std_test_score                                     0.024944   \n",
              "rank_test_score                                           5   \n",
              "\n",
              "                                                          8   \\\n",
              "mean_fit_time                                       0.003783   \n",
              "std_fit_time                                        0.001861   \n",
              "mean_score_time                                     0.003038   \n",
              "std_score_time                                      0.000051   \n",
              "param_n_neighbors                                          6   \n",
              "param_weights                                       distance   \n",
              "params             {'n_neighbors': 6, 'weights': 'distance'}   \n",
              "split0_test_score                                   0.966667   \n",
              "split1_test_score                                        1.0   \n",
              "split2_test_score                                   0.966667   \n",
              "split3_test_score                                   0.966667   \n",
              "split4_test_score                                        1.0   \n",
              "mean_test_score                                         0.98   \n",
              "std_test_score                                       0.01633   \n",
              "rank_test_score                                            1   \n",
              "\n",
              "                                                         9   \\\n",
              "mean_fit_time                                      0.004151   \n",
              "std_fit_time                                       0.001942   \n",
              "mean_score_time                                    0.009837   \n",
              "std_score_time                                     0.004189   \n",
              "param_n_neighbors                                         6   \n",
              "param_weights                                       uniform   \n",
              "params             {'n_neighbors': 6, 'weights': 'uniform'}   \n",
              "split0_test_score                                  0.966667   \n",
              "split1_test_score                                       1.0   \n",
              "split2_test_score                                  0.966667   \n",
              "split3_test_score                                  0.966667   \n",
              "split4_test_score                                       1.0   \n",
              "mean_test_score                                        0.98   \n",
              "std_test_score                                      0.01633   \n",
              "rank_test_score                                           1   \n",
              "\n",
              "                                                          10  \\\n",
              "mean_fit_time                                       0.003467   \n",
              "std_fit_time                                        0.000871   \n",
              "mean_score_time                                     0.003273   \n",
              "std_score_time                                      0.000091   \n",
              "param_n_neighbors                                          7   \n",
              "param_weights                                       distance   \n",
              "params             {'n_neighbors': 7, 'weights': 'distance'}   \n",
              "split0_test_score                                   0.966667   \n",
              "split1_test_score                                        1.0   \n",
              "split2_test_score                                   0.966667   \n",
              "split3_test_score                                   0.966667   \n",
              "split4_test_score                                        1.0   \n",
              "mean_test_score                                         0.98   \n",
              "std_test_score                                       0.01633   \n",
              "rank_test_score                                            1   \n",
              "\n",
              "                                                         11  \n",
              "mean_fit_time                                      0.003225  \n",
              "std_fit_time                                       0.000285  \n",
              "mean_score_time                                    0.005105  \n",
              "std_score_time                                     0.001308  \n",
              "param_n_neighbors                                         7  \n",
              "param_weights                                       uniform  \n",
              "params             {'n_neighbors': 7, 'weights': 'uniform'}  \n",
              "split0_test_score                                  0.966667  \n",
              "split1_test_score                                       1.0  \n",
              "split2_test_score                                  0.966667  \n",
              "split3_test_score                                  0.966667  \n",
              "split4_test_score                                       1.0  \n",
              "mean_test_score                                        0.98  \n",
              "std_test_score                                      0.01633  \n",
              "rank_test_score                                           1  "
            ],
            "text/html": [
              "\n",
              "  <div id=\"df-4150b46b-9b5d-4a85-aff3-8136928cdb22\">\n",
              "    <div class=\"colab-df-container\">\n",
              "      <div>\n",
              "<style scoped>\n",
              "    .dataframe tbody tr th:only-of-type {\n",
              "        vertical-align: middle;\n",
              "    }\n",
              "\n",
              "    .dataframe tbody tr th {\n",
              "        vertical-align: top;\n",
              "    }\n",
              "\n",
              "    .dataframe thead th {\n",
              "        text-align: right;\n",
              "    }\n",
              "</style>\n",
              "<table border=\"1\" class=\"dataframe\">\n",
              "  <thead>\n",
              "    <tr style=\"text-align: right;\">\n",
              "      <th></th>\n",
              "      <th>0</th>\n",
              "      <th>1</th>\n",
              "      <th>2</th>\n",
              "      <th>3</th>\n",
              "      <th>4</th>\n",
              "      <th>5</th>\n",
              "      <th>6</th>\n",
              "      <th>7</th>\n",
              "      <th>8</th>\n",
              "      <th>9</th>\n",
              "      <th>10</th>\n",
              "      <th>11</th>\n",
              "    </tr>\n",
              "  </thead>\n",
              "  <tbody>\n",
              "    <tr>\n",
              "      <th>mean_fit_time</th>\n",
              "      <td>0.011358</td>\n",
              "      <td>0.008218</td>\n",
              "      <td>0.002973</td>\n",
              "      <td>0.004594</td>\n",
              "      <td>0.005642</td>\n",
              "      <td>0.004984</td>\n",
              "      <td>0.005349</td>\n",
              "      <td>0.003097</td>\n",
              "      <td>0.003783</td>\n",
              "      <td>0.004151</td>\n",
              "      <td>0.003467</td>\n",
              "      <td>0.003225</td>\n",
              "    </tr>\n",
              "    <tr>\n",
              "      <th>std_fit_time</th>\n",
              "      <td>0.008465</td>\n",
              "      <td>0.006304</td>\n",
              "      <td>0.000112</td>\n",
              "      <td>0.002812</td>\n",
              "      <td>0.00541</td>\n",
              "      <td>0.002805</td>\n",
              "      <td>0.002625</td>\n",
              "      <td>0.000164</td>\n",
              "      <td>0.001861</td>\n",
              "      <td>0.001942</td>\n",
              "      <td>0.000871</td>\n",
              "      <td>0.000285</td>\n",
              "    </tr>\n",
              "    <tr>\n",
              "      <th>mean_score_time</th>\n",
              "      <td>0.010363</td>\n",
              "      <td>0.016149</td>\n",
              "      <td>0.012277</td>\n",
              "      <td>0.00717</td>\n",
              "      <td>0.003185</td>\n",
              "      <td>0.006488</td>\n",
              "      <td>0.004093</td>\n",
              "      <td>0.004369</td>\n",
              "      <td>0.003038</td>\n",
              "      <td>0.009837</td>\n",
              "      <td>0.003273</td>\n",
              "      <td>0.005105</td>\n",
              "    </tr>\n",
              "    <tr>\n",
              "      <th>std_score_time</th>\n",
              "      <td>0.006657</td>\n",
              "      <td>0.013971</td>\n",
              "      <td>0.005502</td>\n",
              "      <td>0.003592</td>\n",
              "      <td>0.000162</td>\n",
              "      <td>0.003493</td>\n",
              "      <td>0.001413</td>\n",
              "      <td>0.00023</td>\n",
              "      <td>0.000051</td>\n",
              "      <td>0.004189</td>\n",
              "      <td>0.000091</td>\n",
              "      <td>0.001308</td>\n",
              "    </tr>\n",
              "    <tr>\n",
              "      <th>param_n_neighbors</th>\n",
              "      <td>2</td>\n",
              "      <td>2</td>\n",
              "      <td>3</td>\n",
              "      <td>3</td>\n",
              "      <td>4</td>\n",
              "      <td>4</td>\n",
              "      <td>5</td>\n",
              "      <td>5</td>\n",
              "      <td>6</td>\n",
              "      <td>6</td>\n",
              "      <td>7</td>\n",
              "      <td>7</td>\n",
              "    </tr>\n",
              "    <tr>\n",
              "      <th>param_weights</th>\n",
              "      <td>distance</td>\n",
              "      <td>uniform</td>\n",
              "      <td>distance</td>\n",
              "      <td>uniform</td>\n",
              "      <td>distance</td>\n",
              "      <td>uniform</td>\n",
              "      <td>distance</td>\n",
              "      <td>uniform</td>\n",
              "      <td>distance</td>\n",
              "      <td>uniform</td>\n",
              "      <td>distance</td>\n",
              "      <td>uniform</td>\n",
              "    </tr>\n",
              "    <tr>\n",
              "      <th>params</th>\n",
              "      <td>{'n_neighbors': 2, 'weights': 'distance'}</td>\n",
              "      <td>{'n_neighbors': 2, 'weights': 'uniform'}</td>\n",
              "      <td>{'n_neighbors': 3, 'weights': 'distance'}</td>\n",
              "      <td>{'n_neighbors': 3, 'weights': 'uniform'}</td>\n",
              "      <td>{'n_neighbors': 4, 'weights': 'distance'}</td>\n",
              "      <td>{'n_neighbors': 4, 'weights': 'uniform'}</td>\n",
              "      <td>{'n_neighbors': 5, 'weights': 'distance'}</td>\n",
              "      <td>{'n_neighbors': 5, 'weights': 'uniform'}</td>\n",
              "      <td>{'n_neighbors': 6, 'weights': 'distance'}</td>\n",
              "      <td>{'n_neighbors': 6, 'weights': 'uniform'}</td>\n",
              "      <td>{'n_neighbors': 7, 'weights': 'distance'}</td>\n",
              "      <td>{'n_neighbors': 7, 'weights': 'uniform'}</td>\n",
              "    </tr>\n",
              "    <tr>\n",
              "      <th>split0_test_score</th>\n",
              "      <td>0.966667</td>\n",
              "      <td>0.966667</td>\n",
              "      <td>0.966667</td>\n",
              "      <td>0.966667</td>\n",
              "      <td>0.966667</td>\n",
              "      <td>0.966667</td>\n",
              "      <td>0.966667</td>\n",
              "      <td>0.966667</td>\n",
              "      <td>0.966667</td>\n",
              "      <td>0.966667</td>\n",
              "      <td>0.966667</td>\n",
              "      <td>0.966667</td>\n",
              "    </tr>\n",
              "    <tr>\n",
              "      <th>split1_test_score</th>\n",
              "      <td>0.966667</td>\n",
              "      <td>0.933333</td>\n",
              "      <td>0.966667</td>\n",
              "      <td>0.966667</td>\n",
              "      <td>0.966667</td>\n",
              "      <td>0.966667</td>\n",
              "      <td>1.0</td>\n",
              "      <td>1.0</td>\n",
              "      <td>1.0</td>\n",
              "      <td>1.0</td>\n",
              "      <td>1.0</td>\n",
              "      <td>1.0</td>\n",
              "    </tr>\n",
              "    <tr>\n",
              "      <th>split2_test_score</th>\n",
              "      <td>0.933333</td>\n",
              "      <td>0.933333</td>\n",
              "      <td>0.933333</td>\n",
              "      <td>0.933333</td>\n",
              "      <td>0.933333</td>\n",
              "      <td>0.966667</td>\n",
              "      <td>0.9</td>\n",
              "      <td>0.933333</td>\n",
              "      <td>0.966667</td>\n",
              "      <td>0.966667</td>\n",
              "      <td>0.966667</td>\n",
              "      <td>0.966667</td>\n",
              "    </tr>\n",
              "    <tr>\n",
              "      <th>split3_test_score</th>\n",
              "      <td>0.933333</td>\n",
              "      <td>0.9</td>\n",
              "      <td>0.966667</td>\n",
              "      <td>0.966667</td>\n",
              "      <td>0.966667</td>\n",
              "      <td>0.966667</td>\n",
              "      <td>0.966667</td>\n",
              "      <td>0.966667</td>\n",
              "      <td>0.966667</td>\n",
              "      <td>0.966667</td>\n",
              "      <td>0.966667</td>\n",
              "      <td>0.966667</td>\n",
              "    </tr>\n",
              "    <tr>\n",
              "      <th>split4_test_score</th>\n",
              "      <td>1.0</td>\n",
              "      <td>1.0</td>\n",
              "      <td>1.0</td>\n",
              "      <td>1.0</td>\n",
              "      <td>1.0</td>\n",
              "      <td>1.0</td>\n",
              "      <td>1.0</td>\n",
              "      <td>1.0</td>\n",
              "      <td>1.0</td>\n",
              "      <td>1.0</td>\n",
              "      <td>1.0</td>\n",
              "      <td>1.0</td>\n",
              "    </tr>\n",
              "    <tr>\n",
              "      <th>mean_test_score</th>\n",
              "      <td>0.96</td>\n",
              "      <td>0.946667</td>\n",
              "      <td>0.966667</td>\n",
              "      <td>0.966667</td>\n",
              "      <td>0.966667</td>\n",
              "      <td>0.973333</td>\n",
              "      <td>0.966667</td>\n",
              "      <td>0.973333</td>\n",
              "      <td>0.98</td>\n",
              "      <td>0.98</td>\n",
              "      <td>0.98</td>\n",
              "      <td>0.98</td>\n",
              "    </tr>\n",
              "    <tr>\n",
              "      <th>std_test_score</th>\n",
              "      <td>0.024944</td>\n",
              "      <td>0.033993</td>\n",
              "      <td>0.021082</td>\n",
              "      <td>0.021082</td>\n",
              "      <td>0.021082</td>\n",
              "      <td>0.013333</td>\n",
              "      <td>0.036515</td>\n",
              "      <td>0.024944</td>\n",
              "      <td>0.01633</td>\n",
              "      <td>0.01633</td>\n",
              "      <td>0.01633</td>\n",
              "      <td>0.01633</td>\n",
              "    </tr>\n",
              "    <tr>\n",
              "      <th>rank_test_score</th>\n",
              "      <td>11</td>\n",
              "      <td>12</td>\n",
              "      <td>7</td>\n",
              "      <td>7</td>\n",
              "      <td>7</td>\n",
              "      <td>5</td>\n",
              "      <td>7</td>\n",
              "      <td>5</td>\n",
              "      <td>1</td>\n",
              "      <td>1</td>\n",
              "      <td>1</td>\n",
              "      <td>1</td>\n",
              "    </tr>\n",
              "  </tbody>\n",
              "</table>\n",
              "</div>\n",
              "      <button class=\"colab-df-convert\" onclick=\"convertToInteractive('df-4150b46b-9b5d-4a85-aff3-8136928cdb22')\"\n",
              "              title=\"Convert this dataframe to an interactive table.\"\n",
              "              style=\"display:none;\">\n",
              "        \n",
              "  <svg xmlns=\"http://www.w3.org/2000/svg\" height=\"24px\"viewBox=\"0 0 24 24\"\n",
              "       width=\"24px\">\n",
              "    <path d=\"M0 0h24v24H0V0z\" fill=\"none\"/>\n",
              "    <path d=\"M18.56 5.44l.94 2.06.94-2.06 2.06-.94-2.06-.94-.94-2.06-.94 2.06-2.06.94zm-11 1L8.5 8.5l.94-2.06 2.06-.94-2.06-.94L8.5 2.5l-.94 2.06-2.06.94zm10 10l.94 2.06.94-2.06 2.06-.94-2.06-.94-.94-2.06-.94 2.06-2.06.94z\"/><path d=\"M17.41 7.96l-1.37-1.37c-.4-.4-.92-.59-1.43-.59-.52 0-1.04.2-1.43.59L10.3 9.45l-7.72 7.72c-.78.78-.78 2.05 0 2.83L4 21.41c.39.39.9.59 1.41.59.51 0 1.02-.2 1.41-.59l7.78-7.78 2.81-2.81c.8-.78.8-2.07 0-2.86zM5.41 20L4 18.59l7.72-7.72 1.47 1.35L5.41 20z\"/>\n",
              "  </svg>\n",
              "      </button>\n",
              "      \n",
              "  <style>\n",
              "    .colab-df-container {\n",
              "      display:flex;\n",
              "      flex-wrap:wrap;\n",
              "      gap: 12px;\n",
              "    }\n",
              "\n",
              "    .colab-df-convert {\n",
              "      background-color: #E8F0FE;\n",
              "      border: none;\n",
              "      border-radius: 50%;\n",
              "      cursor: pointer;\n",
              "      display: none;\n",
              "      fill: #1967D2;\n",
              "      height: 32px;\n",
              "      padding: 0 0 0 0;\n",
              "      width: 32px;\n",
              "    }\n",
              "\n",
              "    .colab-df-convert:hover {\n",
              "      background-color: #E2EBFA;\n",
              "      box-shadow: 0px 1px 2px rgba(60, 64, 67, 0.3), 0px 1px 3px 1px rgba(60, 64, 67, 0.15);\n",
              "      fill: #174EA6;\n",
              "    }\n",
              "\n",
              "    [theme=dark] .colab-df-convert {\n",
              "      background-color: #3B4455;\n",
              "      fill: #D2E3FC;\n",
              "    }\n",
              "\n",
              "    [theme=dark] .colab-df-convert:hover {\n",
              "      background-color: #434B5C;\n",
              "      box-shadow: 0px 1px 3px 1px rgba(0, 0, 0, 0.15);\n",
              "      filter: drop-shadow(0px 1px 2px rgba(0, 0, 0, 0.3));\n",
              "      fill: #FFFFFF;\n",
              "    }\n",
              "  </style>\n",
              "\n",
              "      <script>\n",
              "        const buttonEl =\n",
              "          document.querySelector('#df-4150b46b-9b5d-4a85-aff3-8136928cdb22 button.colab-df-convert');\n",
              "        buttonEl.style.display =\n",
              "          google.colab.kernel.accessAllowed ? 'block' : 'none';\n",
              "\n",
              "        async function convertToInteractive(key) {\n",
              "          const element = document.querySelector('#df-4150b46b-9b5d-4a85-aff3-8136928cdb22');\n",
              "          const dataTable =\n",
              "            await google.colab.kernel.invokeFunction('convertToInteractive',\n",
              "                                                     [key], {});\n",
              "          if (!dataTable) return;\n",
              "\n",
              "          const docLinkHtml = 'Like what you see? Visit the ' +\n",
              "            '<a target=\"_blank\" href=https://colab.research.google.com/notebooks/data_table.ipynb>data table notebook</a>'\n",
              "            + ' to learn more about interactive tables.';\n",
              "          element.innerHTML = '';\n",
              "          dataTable['output_type'] = 'display_data';\n",
              "          await google.colab.output.renderOutput(dataTable, element);\n",
              "          const docLink = document.createElement('div');\n",
              "          docLink.innerHTML = docLinkHtml;\n",
              "          element.appendChild(docLink);\n",
              "        }\n",
              "      </script>\n",
              "    </div>\n",
              "  </div>\n",
              "  "
            ]
          },
          "metadata": {},
          "execution_count": 83
        }
      ]
    },
    {
      "cell_type": "markdown",
      "source": [
        "### wine dataset"
      ],
      "metadata": {
        "id": "6gEDNkfuPQsR"
      }
    },
    {
      "cell_type": "code",
      "source": [
        "from sklearn.datasets import load_wine"
      ],
      "metadata": {
        "id": "gAvaaEHwQI3K"
      },
      "execution_count": 84,
      "outputs": []
    },
    {
      "cell_type": "code",
      "source": [
        "data = load_wine()"
      ],
      "metadata": {
        "id": "sugsYp2FQNVJ"
      },
      "execution_count": 85,
      "outputs": []
    },
    {
      "cell_type": "code",
      "source": [
        "dir(data)"
      ],
      "metadata": {
        "colab": {
          "base_uri": "https://localhost:8080/"
        },
        "id": "e95NwIcNQZ6h",
        "outputId": "3b7c4781-7841-408e-a6ad-50d396328681"
      },
      "execution_count": 86,
      "outputs": [
        {
          "output_type": "execute_result",
          "data": {
            "text/plain": [
              "['DESCR', 'data', 'feature_names', 'frame', 'target', 'target_names']"
            ]
          },
          "metadata": {},
          "execution_count": 86
        }
      ]
    },
    {
      "cell_type": "code",
      "source": [
        "print(data.feature_names)"
      ],
      "metadata": {
        "colab": {
          "base_uri": "https://localhost:8080/"
        },
        "id": "UjID9umeQl2y",
        "outputId": "94d0cfb6-3817-4a05-c340-dd764d04534b"
      },
      "execution_count": 89,
      "outputs": [
        {
          "output_type": "stream",
          "name": "stdout",
          "text": [
            "['alcohol', 'malic_acid', 'ash', 'alcalinity_of_ash', 'magnesium', 'total_phenols', 'flavanoids', 'nonflavanoid_phenols', 'proanthocyanins', 'color_intensity', 'hue', 'od280/od315_of_diluted_wines', 'proline']\n"
          ]
        }
      ]
    },
    {
      "cell_type": "code",
      "source": [
        "print(data.target)"
      ],
      "metadata": {
        "colab": {
          "base_uri": "https://localhost:8080/"
        },
        "id": "1ei7oue9QoBp",
        "outputId": "d590bf61-9ab5-4391-b8d3-87b91132a462"
      },
      "execution_count": 91,
      "outputs": [
        {
          "output_type": "stream",
          "name": "stdout",
          "text": [
            "[0 0 0 0 0 0 0 0 0 0 0 0 0 0 0 0 0 0 0 0 0 0 0 0 0 0 0 0 0 0 0 0 0 0 0 0 0\n",
            " 0 0 0 0 0 0 0 0 0 0 0 0 0 0 0 0 0 0 0 0 0 0 1 1 1 1 1 1 1 1 1 1 1 1 1 1 1\n",
            " 1 1 1 1 1 1 1 1 1 1 1 1 1 1 1 1 1 1 1 1 1 1 1 1 1 1 1 1 1 1 1 1 1 1 1 1 1\n",
            " 1 1 1 1 1 1 1 1 1 1 1 1 1 1 1 1 1 1 1 2 2 2 2 2 2 2 2 2 2 2 2 2 2 2 2 2 2\n",
            " 2 2 2 2 2 2 2 2 2 2 2 2 2 2 2 2 2 2 2 2 2 2 2 2 2 2 2 2 2 2]\n"
          ]
        }
      ]
    },
    {
      "cell_type": "code",
      "source": [],
      "metadata": {
        "id": "tXFeFq9sQvqR"
      },
      "execution_count": null,
      "outputs": []
    },
    {
      "cell_type": "code",
      "source": [
        "data_pd = pd.DataFrame(data.data, columns=data.feature_names)\n",
        "data_pd['target'] = pd.DataFrame(data.target, columns=['target'])"
      ],
      "metadata": {
        "id": "w7pEe39eQOsp"
      },
      "execution_count": 87,
      "outputs": []
    },
    {
      "cell_type": "code",
      "source": [
        "wine = data_pd.copy()"
      ],
      "metadata": {
        "id": "42u7WNtjQi6J"
      },
      "execution_count": 88,
      "outputs": []
    },
    {
      "cell_type": "code",
      "source": [
        "wine.head()"
      ],
      "metadata": {
        "colab": {
          "base_uri": "https://localhost:8080/",
          "height": 270
        },
        "id": "oBR-BAzwQk5K",
        "outputId": "7b064d16-df9c-41dd-a678-011e6258cd83"
      },
      "execution_count": 90,
      "outputs": [
        {
          "output_type": "execute_result",
          "data": {
            "text/plain": [
              "   alcohol  malic_acid   ash  alcalinity_of_ash  magnesium  total_phenols  \\\n",
              "0    14.23        1.71  2.43               15.6      127.0           2.80   \n",
              "1    13.20        1.78  2.14               11.2      100.0           2.65   \n",
              "2    13.16        2.36  2.67               18.6      101.0           2.80   \n",
              "3    14.37        1.95  2.50               16.8      113.0           3.85   \n",
              "4    13.24        2.59  2.87               21.0      118.0           2.80   \n",
              "\n",
              "   flavanoids  nonflavanoid_phenols  proanthocyanins  color_intensity   hue  \\\n",
              "0        3.06                  0.28             2.29             5.64  1.04   \n",
              "1        2.76                  0.26             1.28             4.38  1.05   \n",
              "2        3.24                  0.30             2.81             5.68  1.03   \n",
              "3        3.49                  0.24             2.18             7.80  0.86   \n",
              "4        2.69                  0.39             1.82             4.32  1.04   \n",
              "\n",
              "   od280/od315_of_diluted_wines  proline  target  \n",
              "0                          3.92   1065.0       0  \n",
              "1                          3.40   1050.0       0  \n",
              "2                          3.17   1185.0       0  \n",
              "3                          3.45   1480.0       0  \n",
              "4                          2.93    735.0       0  "
            ],
            "text/html": [
              "\n",
              "  <div id=\"df-acbf2222-c54f-471e-ba23-8ff298f6be60\">\n",
              "    <div class=\"colab-df-container\">\n",
              "      <div>\n",
              "<style scoped>\n",
              "    .dataframe tbody tr th:only-of-type {\n",
              "        vertical-align: middle;\n",
              "    }\n",
              "\n",
              "    .dataframe tbody tr th {\n",
              "        vertical-align: top;\n",
              "    }\n",
              "\n",
              "    .dataframe thead th {\n",
              "        text-align: right;\n",
              "    }\n",
              "</style>\n",
              "<table border=\"1\" class=\"dataframe\">\n",
              "  <thead>\n",
              "    <tr style=\"text-align: right;\">\n",
              "      <th></th>\n",
              "      <th>alcohol</th>\n",
              "      <th>malic_acid</th>\n",
              "      <th>ash</th>\n",
              "      <th>alcalinity_of_ash</th>\n",
              "      <th>magnesium</th>\n",
              "      <th>total_phenols</th>\n",
              "      <th>flavanoids</th>\n",
              "      <th>nonflavanoid_phenols</th>\n",
              "      <th>proanthocyanins</th>\n",
              "      <th>color_intensity</th>\n",
              "      <th>hue</th>\n",
              "      <th>od280/od315_of_diluted_wines</th>\n",
              "      <th>proline</th>\n",
              "      <th>target</th>\n",
              "    </tr>\n",
              "  </thead>\n",
              "  <tbody>\n",
              "    <tr>\n",
              "      <th>0</th>\n",
              "      <td>14.23</td>\n",
              "      <td>1.71</td>\n",
              "      <td>2.43</td>\n",
              "      <td>15.6</td>\n",
              "      <td>127.0</td>\n",
              "      <td>2.80</td>\n",
              "      <td>3.06</td>\n",
              "      <td>0.28</td>\n",
              "      <td>2.29</td>\n",
              "      <td>5.64</td>\n",
              "      <td>1.04</td>\n",
              "      <td>3.92</td>\n",
              "      <td>1065.0</td>\n",
              "      <td>0</td>\n",
              "    </tr>\n",
              "    <tr>\n",
              "      <th>1</th>\n",
              "      <td>13.20</td>\n",
              "      <td>1.78</td>\n",
              "      <td>2.14</td>\n",
              "      <td>11.2</td>\n",
              "      <td>100.0</td>\n",
              "      <td>2.65</td>\n",
              "      <td>2.76</td>\n",
              "      <td>0.26</td>\n",
              "      <td>1.28</td>\n",
              "      <td>4.38</td>\n",
              "      <td>1.05</td>\n",
              "      <td>3.40</td>\n",
              "      <td>1050.0</td>\n",
              "      <td>0</td>\n",
              "    </tr>\n",
              "    <tr>\n",
              "      <th>2</th>\n",
              "      <td>13.16</td>\n",
              "      <td>2.36</td>\n",
              "      <td>2.67</td>\n",
              "      <td>18.6</td>\n",
              "      <td>101.0</td>\n",
              "      <td>2.80</td>\n",
              "      <td>3.24</td>\n",
              "      <td>0.30</td>\n",
              "      <td>2.81</td>\n",
              "      <td>5.68</td>\n",
              "      <td>1.03</td>\n",
              "      <td>3.17</td>\n",
              "      <td>1185.0</td>\n",
              "      <td>0</td>\n",
              "    </tr>\n",
              "    <tr>\n",
              "      <th>3</th>\n",
              "      <td>14.37</td>\n",
              "      <td>1.95</td>\n",
              "      <td>2.50</td>\n",
              "      <td>16.8</td>\n",
              "      <td>113.0</td>\n",
              "      <td>3.85</td>\n",
              "      <td>3.49</td>\n",
              "      <td>0.24</td>\n",
              "      <td>2.18</td>\n",
              "      <td>7.80</td>\n",
              "      <td>0.86</td>\n",
              "      <td>3.45</td>\n",
              "      <td>1480.0</td>\n",
              "      <td>0</td>\n",
              "    </tr>\n",
              "    <tr>\n",
              "      <th>4</th>\n",
              "      <td>13.24</td>\n",
              "      <td>2.59</td>\n",
              "      <td>2.87</td>\n",
              "      <td>21.0</td>\n",
              "      <td>118.0</td>\n",
              "      <td>2.80</td>\n",
              "      <td>2.69</td>\n",
              "      <td>0.39</td>\n",
              "      <td>1.82</td>\n",
              "      <td>4.32</td>\n",
              "      <td>1.04</td>\n",
              "      <td>2.93</td>\n",
              "      <td>735.0</td>\n",
              "      <td>0</td>\n",
              "    </tr>\n",
              "  </tbody>\n",
              "</table>\n",
              "</div>\n",
              "      <button class=\"colab-df-convert\" onclick=\"convertToInteractive('df-acbf2222-c54f-471e-ba23-8ff298f6be60')\"\n",
              "              title=\"Convert this dataframe to an interactive table.\"\n",
              "              style=\"display:none;\">\n",
              "        \n",
              "  <svg xmlns=\"http://www.w3.org/2000/svg\" height=\"24px\"viewBox=\"0 0 24 24\"\n",
              "       width=\"24px\">\n",
              "    <path d=\"M0 0h24v24H0V0z\" fill=\"none\"/>\n",
              "    <path d=\"M18.56 5.44l.94 2.06.94-2.06 2.06-.94-2.06-.94-.94-2.06-.94 2.06-2.06.94zm-11 1L8.5 8.5l.94-2.06 2.06-.94-2.06-.94L8.5 2.5l-.94 2.06-2.06.94zm10 10l.94 2.06.94-2.06 2.06-.94-2.06-.94-.94-2.06-.94 2.06-2.06.94z\"/><path d=\"M17.41 7.96l-1.37-1.37c-.4-.4-.92-.59-1.43-.59-.52 0-1.04.2-1.43.59L10.3 9.45l-7.72 7.72c-.78.78-.78 2.05 0 2.83L4 21.41c.39.39.9.59 1.41.59.51 0 1.02-.2 1.41-.59l7.78-7.78 2.81-2.81c.8-.78.8-2.07 0-2.86zM5.41 20L4 18.59l7.72-7.72 1.47 1.35L5.41 20z\"/>\n",
              "  </svg>\n",
              "      </button>\n",
              "      \n",
              "  <style>\n",
              "    .colab-df-container {\n",
              "      display:flex;\n",
              "      flex-wrap:wrap;\n",
              "      gap: 12px;\n",
              "    }\n",
              "\n",
              "    .colab-df-convert {\n",
              "      background-color: #E8F0FE;\n",
              "      border: none;\n",
              "      border-radius: 50%;\n",
              "      cursor: pointer;\n",
              "      display: none;\n",
              "      fill: #1967D2;\n",
              "      height: 32px;\n",
              "      padding: 0 0 0 0;\n",
              "      width: 32px;\n",
              "    }\n",
              "\n",
              "    .colab-df-convert:hover {\n",
              "      background-color: #E2EBFA;\n",
              "      box-shadow: 0px 1px 2px rgba(60, 64, 67, 0.3), 0px 1px 3px 1px rgba(60, 64, 67, 0.15);\n",
              "      fill: #174EA6;\n",
              "    }\n",
              "\n",
              "    [theme=dark] .colab-df-convert {\n",
              "      background-color: #3B4455;\n",
              "      fill: #D2E3FC;\n",
              "    }\n",
              "\n",
              "    [theme=dark] .colab-df-convert:hover {\n",
              "      background-color: #434B5C;\n",
              "      box-shadow: 0px 1px 3px 1px rgba(0, 0, 0, 0.15);\n",
              "      filter: drop-shadow(0px 1px 2px rgba(0, 0, 0, 0.3));\n",
              "      fill: #FFFFFF;\n",
              "    }\n",
              "  </style>\n",
              "\n",
              "      <script>\n",
              "        const buttonEl =\n",
              "          document.querySelector('#df-acbf2222-c54f-471e-ba23-8ff298f6be60 button.colab-df-convert');\n",
              "        buttonEl.style.display =\n",
              "          google.colab.kernel.accessAllowed ? 'block' : 'none';\n",
              "\n",
              "        async function convertToInteractive(key) {\n",
              "          const element = document.querySelector('#df-acbf2222-c54f-471e-ba23-8ff298f6be60');\n",
              "          const dataTable =\n",
              "            await google.colab.kernel.invokeFunction('convertToInteractive',\n",
              "                                                     [key], {});\n",
              "          if (!dataTable) return;\n",
              "\n",
              "          const docLinkHtml = 'Like what you see? Visit the ' +\n",
              "            '<a target=\"_blank\" href=https://colab.research.google.com/notebooks/data_table.ipynb>data table notebook</a>'\n",
              "            + ' to learn more about interactive tables.';\n",
              "          element.innerHTML = '';\n",
              "          dataTable['output_type'] = 'display_data';\n",
              "          await google.colab.output.renderOutput(dataTable, element);\n",
              "          const docLink = document.createElement('div');\n",
              "          docLink.innerHTML = docLinkHtml;\n",
              "          element.appendChild(docLink);\n",
              "        }\n",
              "      </script>\n",
              "    </div>\n",
              "  </div>\n",
              "  "
            ]
          },
          "metadata": {},
          "execution_count": 90
        }
      ]
    },
    {
      "cell_type": "code",
      "source": [
        "wine.info()"
      ],
      "metadata": {
        "colab": {
          "base_uri": "https://localhost:8080/"
        },
        "id": "JxUH9bz4QrFx",
        "outputId": "65e85401-9b41-4f86-e6cc-ec231c376b9a"
      },
      "execution_count": 92,
      "outputs": [
        {
          "output_type": "stream",
          "name": "stdout",
          "text": [
            "<class 'pandas.core.frame.DataFrame'>\n",
            "RangeIndex: 178 entries, 0 to 177\n",
            "Data columns (total 14 columns):\n",
            " #   Column                        Non-Null Count  Dtype  \n",
            "---  ------                        --------------  -----  \n",
            " 0   alcohol                       178 non-null    float64\n",
            " 1   malic_acid                    178 non-null    float64\n",
            " 2   ash                           178 non-null    float64\n",
            " 3   alcalinity_of_ash             178 non-null    float64\n",
            " 4   magnesium                     178 non-null    float64\n",
            " 5   total_phenols                 178 non-null    float64\n",
            " 6   flavanoids                    178 non-null    float64\n",
            " 7   nonflavanoid_phenols          178 non-null    float64\n",
            " 8   proanthocyanins               178 non-null    float64\n",
            " 9   color_intensity               178 non-null    float64\n",
            " 10  hue                           178 non-null    float64\n",
            " 11  od280/od315_of_diluted_wines  178 non-null    float64\n",
            " 12  proline                       178 non-null    float64\n",
            " 13  target                        178 non-null    int64  \n",
            "dtypes: float64(13), int64(1)\n",
            "memory usage: 19.6 KB\n"
          ]
        }
      ]
    },
    {
      "cell_type": "code",
      "source": [
        "from sklearn.linear_model import LogisticRegression"
      ],
      "metadata": {
        "id": "uyZlcg_7Qxax"
      },
      "execution_count": 93,
      "outputs": []
    },
    {
      "cell_type": "code",
      "source": [
        "from sklearn.model_selection import GridSearchCV"
      ],
      "metadata": {
        "id": "s3Kxdv7fRBqu"
      },
      "execution_count": 94,
      "outputs": []
    },
    {
      "cell_type": "code",
      "source": [
        "def all_models(X_train, y_train, X_validation, y_validation, cv=10):\n",
        "  ############################################################\n",
        "  # 1. LogisticRegression\n",
        "  grid_lr = GridSearchCV(LogisticRegression(), cv=cv)\n",
        "  grid_lr.fit(X_train, y_train)\n",
        "  lr_pd = pd.DataFrame(grid.cv_results_)\n",
        "\n",
        "  ############################################################\n",
        "  # 2. KNeighbors\n",
        "  grid_knn = GridSearchCV(KNeighborsClassifier(), cv=cv)\n",
        "  grid_knn.fit(X_train, y_train)\n",
        "  knn_pd = pd.DataFrame(grid_knn.cv_results_)\n",
        "  return pd.cancat([lr_pd, knn_pd], axis = 1)"
      ],
      "metadata": {
        "id": "LS95sLaoRFJ4"
      },
      "execution_count": 96,
      "outputs": []
    },
    {
      "cell_type": "markdown",
      "source": [
        "- GridSearchCV2"
      ],
      "metadata": {
        "id": "R781Qal-S_Dh"
      }
    },
    {
      "cell_type": "code",
      "source": [
        "# GridSearchCV(setimator, param_grid, *...)\n",
        "\n",
        "# param_grid는 dict 또는 dictionary로 된 list를 인자로 받을 수 있다.\n",
        "grid = GridSearchCV(KNeighborsClassifier(), [{'n_neighbors':[2,3,4,5],\n",
        "                                              'weights':['uniform', 'distance']}])"
      ],
      "metadata": {
        "id": "EoFuWYUVTBBx"
      },
      "execution_count": 97,
      "outputs": []
    },
    {
      "cell_type": "code",
      "source": [
        "grid.fit(wine.iloc[:,:-1], wine.target)"
      ],
      "metadata": {
        "colab": {
          "base_uri": "https://localhost:8080/"
        },
        "id": "8dF5mcNsTyAk",
        "outputId": "9cd3f201-2960-421e-a384-00e2333e6816"
      },
      "execution_count": 98,
      "outputs": [
        {
          "output_type": "execute_result",
          "data": {
            "text/plain": [
              "GridSearchCV(estimator=KNeighborsClassifier(),\n",
              "             param_grid=[{'n_neighbors': [2, 3, 4, 5],\n",
              "                          'weights': ['uniform', 'distance']}])"
            ]
          },
          "metadata": {},
          "execution_count": 98
        }
      ]
    },
    {
      "cell_type": "code",
      "source": [
        "# params를 보면 매번 실행할때마다 사용되는 하이퍼 파라미터를 기록한다.\n",
        "# params_grid를 리스트 안에 딕셔너리 형태로 넣으면 딕셔너리 안에서 조합이 구해진다.\n",
        "# 다른 딕셔너리에 들어간 하이퍼 파라미터와는 조합을 만들지 않는다.\n",
        "pd.DataFrame(grid.cv_results_).T"
      ],
      "metadata": {
        "colab": {
          "base_uri": "https://localhost:8080/",
          "height": 618
        },
        "id": "FclMr-u8T2G6",
        "outputId": "78393020-d9a2-41a6-8f24-fd7fd53a13ab"
      },
      "execution_count": 99,
      "outputs": [
        {
          "output_type": "execute_result",
          "data": {
            "text/plain": [
              "                                                          0  \\\n",
              "mean_fit_time                                      0.003496   \n",
              "std_fit_time                                       0.000623   \n",
              "mean_score_time                                    0.004762   \n",
              "std_score_time                                     0.000434   \n",
              "param_n_neighbors                                         2   \n",
              "param_weights                                       uniform   \n",
              "params             {'n_neighbors': 2, 'weights': 'uniform'}   \n",
              "split0_test_score                                  0.611111   \n",
              "split1_test_score                                  0.611111   \n",
              "split2_test_score                                  0.638889   \n",
              "split3_test_score                                  0.657143   \n",
              "split4_test_score                                       0.8   \n",
              "mean_test_score                                    0.663651   \n",
              "std_test_score                                     0.070381   \n",
              "rank_test_score                                           8   \n",
              "\n",
              "                                                           1  \\\n",
              "mean_fit_time                                       0.003117   \n",
              "std_fit_time                                        0.000236   \n",
              "mean_score_time                                     0.003301   \n",
              "std_score_time                                      0.000321   \n",
              "param_n_neighbors                                          2   \n",
              "param_weights                                       distance   \n",
              "params             {'n_neighbors': 2, 'weights': 'distance'}   \n",
              "split0_test_score                                   0.805556   \n",
              "split1_test_score                                   0.638889   \n",
              "split2_test_score                                   0.666667   \n",
              "split3_test_score                                   0.685714   \n",
              "split4_test_score                                   0.828571   \n",
              "mean_test_score                                     0.725079   \n",
              "std_test_score                                      0.076912   \n",
              "rank_test_score                                            1   \n",
              "\n",
              "                                                          2  \\\n",
              "mean_fit_time                                      0.003016   \n",
              "std_fit_time                                        0.00009   \n",
              "mean_score_time                                    0.005376   \n",
              "std_score_time                                     0.001377   \n",
              "param_n_neighbors                                         3   \n",
              "param_weights                                       uniform   \n",
              "params             {'n_neighbors': 3, 'weights': 'uniform'}   \n",
              "split0_test_score                                  0.638889   \n",
              "split1_test_score                                  0.694444   \n",
              "split2_test_score                                  0.666667   \n",
              "split3_test_score                                  0.657143   \n",
              "split4_test_score                                  0.857143   \n",
              "mean_test_score                                    0.702857   \n",
              "std_test_score                                     0.079204   \n",
              "rank_test_score                                           5   \n",
              "\n",
              "                                                           3  \\\n",
              "mean_fit_time                                       0.003778   \n",
              "std_fit_time                                        0.001415   \n",
              "mean_score_time                                     0.004522   \n",
              "std_score_time                                      0.001664   \n",
              "param_n_neighbors                                          3   \n",
              "param_weights                                       distance   \n",
              "params             {'n_neighbors': 3, 'weights': 'distance'}   \n",
              "split0_test_score                                   0.722222   \n",
              "split1_test_score                                   0.722222   \n",
              "split2_test_score                                   0.666667   \n",
              "split3_test_score                                   0.657143   \n",
              "split4_test_score                                   0.857143   \n",
              "mean_test_score                                     0.725079   \n",
              "std_test_score                                      0.071393   \n",
              "rank_test_score                                            1   \n",
              "\n",
              "                                                          4  \\\n",
              "mean_fit_time                                      0.002893   \n",
              "std_fit_time                                       0.000047   \n",
              "mean_score_time                                    0.004533   \n",
              "std_score_time                                     0.000397   \n",
              "param_n_neighbors                                         4   \n",
              "param_weights                                       uniform   \n",
              "params             {'n_neighbors': 4, 'weights': 'uniform'}   \n",
              "split0_test_score                                  0.638889   \n",
              "split1_test_score                                  0.694444   \n",
              "split2_test_score                                  0.638889   \n",
              "split3_test_score                                  0.657143   \n",
              "split4_test_score                                  0.771429   \n",
              "mean_test_score                                    0.680159   \n",
              "std_test_score                                     0.049941   \n",
              "rank_test_score                                           7   \n",
              "\n",
              "                                                           5  \\\n",
              "mean_fit_time                                       0.003268   \n",
              "std_fit_time                                        0.000524   \n",
              "mean_score_time                                     0.003379   \n",
              "std_score_time                                      0.000387   \n",
              "param_n_neighbors                                          4   \n",
              "param_weights                                       distance   \n",
              "params             {'n_neighbors': 4, 'weights': 'distance'}   \n",
              "split0_test_score                                   0.666667   \n",
              "split1_test_score                                   0.694444   \n",
              "split2_test_score                                   0.694444   \n",
              "split3_test_score                                   0.657143   \n",
              "split4_test_score                                   0.857143   \n",
              "mean_test_score                                     0.713968   \n",
              "std_test_score                                      0.073113   \n",
              "rank_test_score                                            4   \n",
              "\n",
              "                                                          6  \\\n",
              "mean_fit_time                                      0.008919   \n",
              "std_fit_time                                       0.004662   \n",
              "mean_score_time                                    0.011918   \n",
              "std_score_time                                     0.006016   \n",
              "param_n_neighbors                                         5   \n",
              "param_weights                                       uniform   \n",
              "params             {'n_neighbors': 5, 'weights': 'uniform'}   \n",
              "split0_test_score                                  0.722222   \n",
              "split1_test_score                                  0.666667   \n",
              "split2_test_score                                  0.638889   \n",
              "split3_test_score                                  0.657143   \n",
              "split4_test_score                                  0.771429   \n",
              "mean_test_score                                     0.69127   \n",
              "std_test_score                                      0.04878   \n",
              "rank_test_score                                           6   \n",
              "\n",
              "                                                           7  \n",
              "mean_fit_time                                       0.004922  \n",
              "std_fit_time                                        0.003631  \n",
              "mean_score_time                                     0.005019  \n",
              "std_score_time                                      0.002917  \n",
              "param_n_neighbors                                          5  \n",
              "param_weights                                       distance  \n",
              "params             {'n_neighbors': 5, 'weights': 'distance'}  \n",
              "split0_test_score                                   0.777778  \n",
              "split1_test_score                                   0.638889  \n",
              "split2_test_score                                   0.666667  \n",
              "split3_test_score                                   0.657143  \n",
              "split4_test_score                                   0.857143  \n",
              "mean_test_score                                     0.719524  \n",
              "std_test_score                                      0.084285  \n",
              "rank_test_score                                            3  "
            ],
            "text/html": [
              "\n",
              "  <div id=\"df-7f7cf334-2871-4c75-8220-c75077bb591e\">\n",
              "    <div class=\"colab-df-container\">\n",
              "      <div>\n",
              "<style scoped>\n",
              "    .dataframe tbody tr th:only-of-type {\n",
              "        vertical-align: middle;\n",
              "    }\n",
              "\n",
              "    .dataframe tbody tr th {\n",
              "        vertical-align: top;\n",
              "    }\n",
              "\n",
              "    .dataframe thead th {\n",
              "        text-align: right;\n",
              "    }\n",
              "</style>\n",
              "<table border=\"1\" class=\"dataframe\">\n",
              "  <thead>\n",
              "    <tr style=\"text-align: right;\">\n",
              "      <th></th>\n",
              "      <th>0</th>\n",
              "      <th>1</th>\n",
              "      <th>2</th>\n",
              "      <th>3</th>\n",
              "      <th>4</th>\n",
              "      <th>5</th>\n",
              "      <th>6</th>\n",
              "      <th>7</th>\n",
              "    </tr>\n",
              "  </thead>\n",
              "  <tbody>\n",
              "    <tr>\n",
              "      <th>mean_fit_time</th>\n",
              "      <td>0.003496</td>\n",
              "      <td>0.003117</td>\n",
              "      <td>0.003016</td>\n",
              "      <td>0.003778</td>\n",
              "      <td>0.002893</td>\n",
              "      <td>0.003268</td>\n",
              "      <td>0.008919</td>\n",
              "      <td>0.004922</td>\n",
              "    </tr>\n",
              "    <tr>\n",
              "      <th>std_fit_time</th>\n",
              "      <td>0.000623</td>\n",
              "      <td>0.000236</td>\n",
              "      <td>0.00009</td>\n",
              "      <td>0.001415</td>\n",
              "      <td>0.000047</td>\n",
              "      <td>0.000524</td>\n",
              "      <td>0.004662</td>\n",
              "      <td>0.003631</td>\n",
              "    </tr>\n",
              "    <tr>\n",
              "      <th>mean_score_time</th>\n",
              "      <td>0.004762</td>\n",
              "      <td>0.003301</td>\n",
              "      <td>0.005376</td>\n",
              "      <td>0.004522</td>\n",
              "      <td>0.004533</td>\n",
              "      <td>0.003379</td>\n",
              "      <td>0.011918</td>\n",
              "      <td>0.005019</td>\n",
              "    </tr>\n",
              "    <tr>\n",
              "      <th>std_score_time</th>\n",
              "      <td>0.000434</td>\n",
              "      <td>0.000321</td>\n",
              "      <td>0.001377</td>\n",
              "      <td>0.001664</td>\n",
              "      <td>0.000397</td>\n",
              "      <td>0.000387</td>\n",
              "      <td>0.006016</td>\n",
              "      <td>0.002917</td>\n",
              "    </tr>\n",
              "    <tr>\n",
              "      <th>param_n_neighbors</th>\n",
              "      <td>2</td>\n",
              "      <td>2</td>\n",
              "      <td>3</td>\n",
              "      <td>3</td>\n",
              "      <td>4</td>\n",
              "      <td>4</td>\n",
              "      <td>5</td>\n",
              "      <td>5</td>\n",
              "    </tr>\n",
              "    <tr>\n",
              "      <th>param_weights</th>\n",
              "      <td>uniform</td>\n",
              "      <td>distance</td>\n",
              "      <td>uniform</td>\n",
              "      <td>distance</td>\n",
              "      <td>uniform</td>\n",
              "      <td>distance</td>\n",
              "      <td>uniform</td>\n",
              "      <td>distance</td>\n",
              "    </tr>\n",
              "    <tr>\n",
              "      <th>params</th>\n",
              "      <td>{'n_neighbors': 2, 'weights': 'uniform'}</td>\n",
              "      <td>{'n_neighbors': 2, 'weights': 'distance'}</td>\n",
              "      <td>{'n_neighbors': 3, 'weights': 'uniform'}</td>\n",
              "      <td>{'n_neighbors': 3, 'weights': 'distance'}</td>\n",
              "      <td>{'n_neighbors': 4, 'weights': 'uniform'}</td>\n",
              "      <td>{'n_neighbors': 4, 'weights': 'distance'}</td>\n",
              "      <td>{'n_neighbors': 5, 'weights': 'uniform'}</td>\n",
              "      <td>{'n_neighbors': 5, 'weights': 'distance'}</td>\n",
              "    </tr>\n",
              "    <tr>\n",
              "      <th>split0_test_score</th>\n",
              "      <td>0.611111</td>\n",
              "      <td>0.805556</td>\n",
              "      <td>0.638889</td>\n",
              "      <td>0.722222</td>\n",
              "      <td>0.638889</td>\n",
              "      <td>0.666667</td>\n",
              "      <td>0.722222</td>\n",
              "      <td>0.777778</td>\n",
              "    </tr>\n",
              "    <tr>\n",
              "      <th>split1_test_score</th>\n",
              "      <td>0.611111</td>\n",
              "      <td>0.638889</td>\n",
              "      <td>0.694444</td>\n",
              "      <td>0.722222</td>\n",
              "      <td>0.694444</td>\n",
              "      <td>0.694444</td>\n",
              "      <td>0.666667</td>\n",
              "      <td>0.638889</td>\n",
              "    </tr>\n",
              "    <tr>\n",
              "      <th>split2_test_score</th>\n",
              "      <td>0.638889</td>\n",
              "      <td>0.666667</td>\n",
              "      <td>0.666667</td>\n",
              "      <td>0.666667</td>\n",
              "      <td>0.638889</td>\n",
              "      <td>0.694444</td>\n",
              "      <td>0.638889</td>\n",
              "      <td>0.666667</td>\n",
              "    </tr>\n",
              "    <tr>\n",
              "      <th>split3_test_score</th>\n",
              "      <td>0.657143</td>\n",
              "      <td>0.685714</td>\n",
              "      <td>0.657143</td>\n",
              "      <td>0.657143</td>\n",
              "      <td>0.657143</td>\n",
              "      <td>0.657143</td>\n",
              "      <td>0.657143</td>\n",
              "      <td>0.657143</td>\n",
              "    </tr>\n",
              "    <tr>\n",
              "      <th>split4_test_score</th>\n",
              "      <td>0.8</td>\n",
              "      <td>0.828571</td>\n",
              "      <td>0.857143</td>\n",
              "      <td>0.857143</td>\n",
              "      <td>0.771429</td>\n",
              "      <td>0.857143</td>\n",
              "      <td>0.771429</td>\n",
              "      <td>0.857143</td>\n",
              "    </tr>\n",
              "    <tr>\n",
              "      <th>mean_test_score</th>\n",
              "      <td>0.663651</td>\n",
              "      <td>0.725079</td>\n",
              "      <td>0.702857</td>\n",
              "      <td>0.725079</td>\n",
              "      <td>0.680159</td>\n",
              "      <td>0.713968</td>\n",
              "      <td>0.69127</td>\n",
              "      <td>0.719524</td>\n",
              "    </tr>\n",
              "    <tr>\n",
              "      <th>std_test_score</th>\n",
              "      <td>0.070381</td>\n",
              "      <td>0.076912</td>\n",
              "      <td>0.079204</td>\n",
              "      <td>0.071393</td>\n",
              "      <td>0.049941</td>\n",
              "      <td>0.073113</td>\n",
              "      <td>0.04878</td>\n",
              "      <td>0.084285</td>\n",
              "    </tr>\n",
              "    <tr>\n",
              "      <th>rank_test_score</th>\n",
              "      <td>8</td>\n",
              "      <td>1</td>\n",
              "      <td>5</td>\n",
              "      <td>1</td>\n",
              "      <td>7</td>\n",
              "      <td>4</td>\n",
              "      <td>6</td>\n",
              "      <td>3</td>\n",
              "    </tr>\n",
              "  </tbody>\n",
              "</table>\n",
              "</div>\n",
              "      <button class=\"colab-df-convert\" onclick=\"convertToInteractive('df-7f7cf334-2871-4c75-8220-c75077bb591e')\"\n",
              "              title=\"Convert this dataframe to an interactive table.\"\n",
              "              style=\"display:none;\">\n",
              "        \n",
              "  <svg xmlns=\"http://www.w3.org/2000/svg\" height=\"24px\"viewBox=\"0 0 24 24\"\n",
              "       width=\"24px\">\n",
              "    <path d=\"M0 0h24v24H0V0z\" fill=\"none\"/>\n",
              "    <path d=\"M18.56 5.44l.94 2.06.94-2.06 2.06-.94-2.06-.94-.94-2.06-.94 2.06-2.06.94zm-11 1L8.5 8.5l.94-2.06 2.06-.94-2.06-.94L8.5 2.5l-.94 2.06-2.06.94zm10 10l.94 2.06.94-2.06 2.06-.94-2.06-.94-.94-2.06-.94 2.06-2.06.94z\"/><path d=\"M17.41 7.96l-1.37-1.37c-.4-.4-.92-.59-1.43-.59-.52 0-1.04.2-1.43.59L10.3 9.45l-7.72 7.72c-.78.78-.78 2.05 0 2.83L4 21.41c.39.39.9.59 1.41.59.51 0 1.02-.2 1.41-.59l7.78-7.78 2.81-2.81c.8-.78.8-2.07 0-2.86zM5.41 20L4 18.59l7.72-7.72 1.47 1.35L5.41 20z\"/>\n",
              "  </svg>\n",
              "      </button>\n",
              "      \n",
              "  <style>\n",
              "    .colab-df-container {\n",
              "      display:flex;\n",
              "      flex-wrap:wrap;\n",
              "      gap: 12px;\n",
              "    }\n",
              "\n",
              "    .colab-df-convert {\n",
              "      background-color: #E8F0FE;\n",
              "      border: none;\n",
              "      border-radius: 50%;\n",
              "      cursor: pointer;\n",
              "      display: none;\n",
              "      fill: #1967D2;\n",
              "      height: 32px;\n",
              "      padding: 0 0 0 0;\n",
              "      width: 32px;\n",
              "    }\n",
              "\n",
              "    .colab-df-convert:hover {\n",
              "      background-color: #E2EBFA;\n",
              "      box-shadow: 0px 1px 2px rgba(60, 64, 67, 0.3), 0px 1px 3px 1px rgba(60, 64, 67, 0.15);\n",
              "      fill: #174EA6;\n",
              "    }\n",
              "\n",
              "    [theme=dark] .colab-df-convert {\n",
              "      background-color: #3B4455;\n",
              "      fill: #D2E3FC;\n",
              "    }\n",
              "\n",
              "    [theme=dark] .colab-df-convert:hover {\n",
              "      background-color: #434B5C;\n",
              "      box-shadow: 0px 1px 3px 1px rgba(0, 0, 0, 0.15);\n",
              "      filter: drop-shadow(0px 1px 2px rgba(0, 0, 0, 0.3));\n",
              "      fill: #FFFFFF;\n",
              "    }\n",
              "  </style>\n",
              "\n",
              "      <script>\n",
              "        const buttonEl =\n",
              "          document.querySelector('#df-7f7cf334-2871-4c75-8220-c75077bb591e button.colab-df-convert');\n",
              "        buttonEl.style.display =\n",
              "          google.colab.kernel.accessAllowed ? 'block' : 'none';\n",
              "\n",
              "        async function convertToInteractive(key) {\n",
              "          const element = document.querySelector('#df-7f7cf334-2871-4c75-8220-c75077bb591e');\n",
              "          const dataTable =\n",
              "            await google.colab.kernel.invokeFunction('convertToInteractive',\n",
              "                                                     [key], {});\n",
              "          if (!dataTable) return;\n",
              "\n",
              "          const docLinkHtml = 'Like what you see? Visit the ' +\n",
              "            '<a target=\"_blank\" href=https://colab.research.google.com/notebooks/data_table.ipynb>data table notebook</a>'\n",
              "            + ' to learn more about interactive tables.';\n",
              "          element.innerHTML = '';\n",
              "          dataTable['output_type'] = 'display_data';\n",
              "          await google.colab.output.renderOutput(dataTable, element);\n",
              "          const docLink = document.createElement('div');\n",
              "          docLink.innerHTML = docLinkHtml;\n",
              "          element.appendChild(docLink);\n",
              "        }\n",
              "      </script>\n",
              "    </div>\n",
              "  </div>\n",
              "  "
            ]
          },
          "metadata": {},
          "execution_count": 99
        }
      ]
    },
    {
      "cell_type": "markdown",
      "source": [
        "### GridSearchCV + Pipeline"
      ],
      "metadata": {
        "id": "pFe1lWevT_sR"
      }
    },
    {
      "cell_type": "markdown",
      "source": [
        "#### GridSearchCV와 Pipeline을 연동하기\n"
      ],
      "metadata": {
        "id": "ag3sGX_Tciqj"
      }
    },
    {
      "cell_type": "code",
      "source": [
        "from sklearn.pipeline import Pipeline"
      ],
      "metadata": {
        "id": "AqYN8x-ycrLT"
      },
      "execution_count": 100,
      "outputs": []
    },
    {
      "cell_type": "code",
      "source": [
        "from sklearn.preprocessing import StandardScaler"
      ],
      "metadata": {
        "id": "-HlUdOMScwea"
      },
      "execution_count": 101,
      "outputs": []
    },
    {
      "cell_type": "code",
      "source": [
        "pipe = Pipeline([('ss', StandardScaler()), ('knn', KNeighborsClassifier())])"
      ],
      "metadata": {
        "id": "ZBBPGEz4c0a7"
      },
      "execution_count": 103,
      "outputs": []
    },
    {
      "cell_type": "code",
      "source": [
        "grid = GridSearchCV(pipe, {'n_neighbors':[2,3,4,5]})"
      ],
      "metadata": {
        "id": "RRBCIyIjdMBi"
      },
      "execution_count": 105,
      "outputs": []
    },
    {
      "cell_type": "code",
      "source": [
        "# ValueError\n",
        "# Check the list of available parameters with `estimator.get_params().keys()\n",
        "grid.fit(wine.iloc[:,:-1], wine.target)"
      ],
      "metadata": {
        "id": "epN7_dzmd21y"
      },
      "execution_count": null,
      "outputs": []
    },
    {
      "cell_type": "code",
      "source": [
        "# pipe의 내부 보기\n",
        "vars(pipe)"
      ],
      "metadata": {
        "colab": {
          "base_uri": "https://localhost:8080/"
        },
        "id": "GVRs-dtVeNeq",
        "outputId": "e776b5ee-def7-4b56-e5a1-475742789ccf"
      },
      "execution_count": 108,
      "outputs": [
        {
          "output_type": "execute_result",
          "data": {
            "text/plain": [
              "{'steps': [('ss', StandardScaler()), ('knn', KNeighborsClassifier())],\n",
              " 'memory': None,\n",
              " 'verbose': False}"
            ]
          },
          "metadata": {},
          "execution_count": 108
        }
      ]
    },
    {
      "cell_type": "code",
      "source": [
        "# pipe에서 knn 알고리즘만 꺼내서 get_params를 확인한다.\n",
        "# n_neighbors가 맞다.\n",
        "pipe.steps[-1][1].get_params()"
      ],
      "metadata": {
        "colab": {
          "base_uri": "https://localhost:8080/"
        },
        "id": "dO9_F2iweldx",
        "outputId": "ed4e59f1-10eb-4718-ac28-ce6b1a475813"
      },
      "execution_count": 114,
      "outputs": [
        {
          "output_type": "execute_result",
          "data": {
            "text/plain": [
              "{'algorithm': 'auto',\n",
              " 'leaf_size': 30,\n",
              " 'metric': 'minkowski',\n",
              " 'metric_params': None,\n",
              " 'n_jobs': None,\n",
              " 'n_neighbors': 5,\n",
              " 'p': 2,\n",
              " 'weights': 'uniform'}"
            ]
          },
          "metadata": {},
          "execution_count": 114
        }
      ]
    },
    {
      "cell_type": "code",
      "source": [
        "# pipe 자체의 get_params을 확인한다.\n",
        "# Pipeline은 알고리즘의 하이퍼 파라미터 이름을 맹글링한다.\n",
        "pipe.get_params()"
      ],
      "metadata": {
        "colab": {
          "base_uri": "https://localhost:8080/"
        },
        "id": "OKsj0HGKd5Fp",
        "outputId": "605659c9-4207-4fb5-deef-ff9ed9a833b7"
      },
      "execution_count": 115,
      "outputs": [
        {
          "output_type": "execute_result",
          "data": {
            "text/plain": [
              "{'memory': None,\n",
              " 'steps': [('ss', StandardScaler()), ('knn', KNeighborsClassifier())],\n",
              " 'verbose': False,\n",
              " 'ss': StandardScaler(),\n",
              " 'knn': KNeighborsClassifier(),\n",
              " 'ss__copy': True,\n",
              " 'ss__with_mean': True,\n",
              " 'ss__with_std': True,\n",
              " 'knn__algorithm': 'auto',\n",
              " 'knn__leaf_size': 30,\n",
              " 'knn__metric': 'minkowski',\n",
              " 'knn__metric_params': None,\n",
              " 'knn__n_jobs': None,\n",
              " 'knn__n_neighbors': 5,\n",
              " 'knn__p': 2,\n",
              " 'knn__weights': 'uniform'}"
            ]
          },
          "metadata": {},
          "execution_count": 115
        }
      ]
    },
    {
      "cell_type": "code",
      "source": [
        "# mangling된 이름으로 하이퍼 파라미터 이름을 바꾸었다.\n",
        "grid = GridSearchCV(pipe, {'knn__n_neighbors':[2,3,4,5]})"
      ],
      "metadata": {
        "id": "dYk9KZkEfiDC"
      },
      "execution_count": 122,
      "outputs": []
    },
    {
      "cell_type": "code",
      "source": [
        "# Pipeline을 거쳐서 GridSearchCV까지 한번에 사용할 수 있다.\n",
        "grid.fit(wine.iloc[:,:-1], wine.target)"
      ],
      "metadata": {
        "colab": {
          "base_uri": "https://localhost:8080/"
        },
        "id": "_vgQPlPNgXsK",
        "outputId": "3725804e-2418-48de-983f-e0e4799a6481"
      },
      "execution_count": 123,
      "outputs": [
        {
          "output_type": "execute_result",
          "data": {
            "text/plain": [
              "GridSearchCV(estimator=Pipeline(steps=[('ss', StandardScaler()),\n",
              "                                       ('knn', KNeighborsClassifier())]),\n",
              "             param_grid={'knn__n_neighbors': [2, 3, 4, 5]})"
            ]
          },
          "metadata": {},
          "execution_count": 123
        }
      ]
    },
    {
      "cell_type": "code",
      "source": [
        "pd.DataFrame(grid.cv_results_).T"
      ],
      "metadata": {
        "colab": {
          "base_uri": "https://localhost:8080/",
          "height": 488
        },
        "id": "WzvACvubgYDp",
        "outputId": "c39ebca8-1394-49c1-b0dc-a85bc735b766"
      },
      "execution_count": 124,
      "outputs": [
        {
          "output_type": "execute_result",
          "data": {
            "text/plain": [
              "                                              0                        1  \\\n",
              "mean_fit_time                          0.004666                 0.003901   \n",
              "std_fit_time                           0.000951                 0.000051   \n",
              "mean_score_time                         0.00344                 0.003263   \n",
              "std_score_time                         0.000152                 0.000051   \n",
              "param_knn__n_neighbors                        2                        3   \n",
              "params                  {'knn__n_neighbors': 2}  {'knn__n_neighbors': 3}   \n",
              "split0_test_score                      0.916667                 0.888889   \n",
              "split1_test_score                      0.944444                 0.944444   \n",
              "split2_test_score                      0.944444                 0.972222   \n",
              "split3_test_score                           1.0                      1.0   \n",
              "split4_test_score                      0.914286                 0.914286   \n",
              "mean_test_score                        0.943968                 0.943968   \n",
              "std_test_score                         0.030875                  0.03963   \n",
              "rank_test_score                               2                        2   \n",
              "\n",
              "                                              2                        3  \n",
              "mean_fit_time                          0.003882                 0.004028  \n",
              "std_fit_time                           0.000149                 0.000283  \n",
              "mean_score_time                        0.003436                 0.003324  \n",
              "std_score_time                         0.000166                 0.000117  \n",
              "param_knn__n_neighbors                        4                        5  \n",
              "params                  {'knn__n_neighbors': 4}  {'knn__n_neighbors': 5}  \n",
              "split0_test_score                      0.888889                 0.944444  \n",
              "split1_test_score                      0.944444                 0.944444  \n",
              "split2_test_score                      0.972222                 0.972222  \n",
              "split3_test_score                           1.0                      1.0  \n",
              "split4_test_score                      0.914286                 0.885714  \n",
              "mean_test_score                        0.943968                 0.949365  \n",
              "std_test_score                          0.03963                 0.037911  \n",
              "rank_test_score                               2                        1  "
            ],
            "text/html": [
              "\n",
              "  <div id=\"df-4fde33b1-3a02-4b29-82fa-2e3c35a153e0\">\n",
              "    <div class=\"colab-df-container\">\n",
              "      <div>\n",
              "<style scoped>\n",
              "    .dataframe tbody tr th:only-of-type {\n",
              "        vertical-align: middle;\n",
              "    }\n",
              "\n",
              "    .dataframe tbody tr th {\n",
              "        vertical-align: top;\n",
              "    }\n",
              "\n",
              "    .dataframe thead th {\n",
              "        text-align: right;\n",
              "    }\n",
              "</style>\n",
              "<table border=\"1\" class=\"dataframe\">\n",
              "  <thead>\n",
              "    <tr style=\"text-align: right;\">\n",
              "      <th></th>\n",
              "      <th>0</th>\n",
              "      <th>1</th>\n",
              "      <th>2</th>\n",
              "      <th>3</th>\n",
              "    </tr>\n",
              "  </thead>\n",
              "  <tbody>\n",
              "    <tr>\n",
              "      <th>mean_fit_time</th>\n",
              "      <td>0.004666</td>\n",
              "      <td>0.003901</td>\n",
              "      <td>0.003882</td>\n",
              "      <td>0.004028</td>\n",
              "    </tr>\n",
              "    <tr>\n",
              "      <th>std_fit_time</th>\n",
              "      <td>0.000951</td>\n",
              "      <td>0.000051</td>\n",
              "      <td>0.000149</td>\n",
              "      <td>0.000283</td>\n",
              "    </tr>\n",
              "    <tr>\n",
              "      <th>mean_score_time</th>\n",
              "      <td>0.00344</td>\n",
              "      <td>0.003263</td>\n",
              "      <td>0.003436</td>\n",
              "      <td>0.003324</td>\n",
              "    </tr>\n",
              "    <tr>\n",
              "      <th>std_score_time</th>\n",
              "      <td>0.000152</td>\n",
              "      <td>0.000051</td>\n",
              "      <td>0.000166</td>\n",
              "      <td>0.000117</td>\n",
              "    </tr>\n",
              "    <tr>\n",
              "      <th>param_knn__n_neighbors</th>\n",
              "      <td>2</td>\n",
              "      <td>3</td>\n",
              "      <td>4</td>\n",
              "      <td>5</td>\n",
              "    </tr>\n",
              "    <tr>\n",
              "      <th>params</th>\n",
              "      <td>{'knn__n_neighbors': 2}</td>\n",
              "      <td>{'knn__n_neighbors': 3}</td>\n",
              "      <td>{'knn__n_neighbors': 4}</td>\n",
              "      <td>{'knn__n_neighbors': 5}</td>\n",
              "    </tr>\n",
              "    <tr>\n",
              "      <th>split0_test_score</th>\n",
              "      <td>0.916667</td>\n",
              "      <td>0.888889</td>\n",
              "      <td>0.888889</td>\n",
              "      <td>0.944444</td>\n",
              "    </tr>\n",
              "    <tr>\n",
              "      <th>split1_test_score</th>\n",
              "      <td>0.944444</td>\n",
              "      <td>0.944444</td>\n",
              "      <td>0.944444</td>\n",
              "      <td>0.944444</td>\n",
              "    </tr>\n",
              "    <tr>\n",
              "      <th>split2_test_score</th>\n",
              "      <td>0.944444</td>\n",
              "      <td>0.972222</td>\n",
              "      <td>0.972222</td>\n",
              "      <td>0.972222</td>\n",
              "    </tr>\n",
              "    <tr>\n",
              "      <th>split3_test_score</th>\n",
              "      <td>1.0</td>\n",
              "      <td>1.0</td>\n",
              "      <td>1.0</td>\n",
              "      <td>1.0</td>\n",
              "    </tr>\n",
              "    <tr>\n",
              "      <th>split4_test_score</th>\n",
              "      <td>0.914286</td>\n",
              "      <td>0.914286</td>\n",
              "      <td>0.914286</td>\n",
              "      <td>0.885714</td>\n",
              "    </tr>\n",
              "    <tr>\n",
              "      <th>mean_test_score</th>\n",
              "      <td>0.943968</td>\n",
              "      <td>0.943968</td>\n",
              "      <td>0.943968</td>\n",
              "      <td>0.949365</td>\n",
              "    </tr>\n",
              "    <tr>\n",
              "      <th>std_test_score</th>\n",
              "      <td>0.030875</td>\n",
              "      <td>0.03963</td>\n",
              "      <td>0.03963</td>\n",
              "      <td>0.037911</td>\n",
              "    </tr>\n",
              "    <tr>\n",
              "      <th>rank_test_score</th>\n",
              "      <td>2</td>\n",
              "      <td>2</td>\n",
              "      <td>2</td>\n",
              "      <td>1</td>\n",
              "    </tr>\n",
              "  </tbody>\n",
              "</table>\n",
              "</div>\n",
              "      <button class=\"colab-df-convert\" onclick=\"convertToInteractive('df-4fde33b1-3a02-4b29-82fa-2e3c35a153e0')\"\n",
              "              title=\"Convert this dataframe to an interactive table.\"\n",
              "              style=\"display:none;\">\n",
              "        \n",
              "  <svg xmlns=\"http://www.w3.org/2000/svg\" height=\"24px\"viewBox=\"0 0 24 24\"\n",
              "       width=\"24px\">\n",
              "    <path d=\"M0 0h24v24H0V0z\" fill=\"none\"/>\n",
              "    <path d=\"M18.56 5.44l.94 2.06.94-2.06 2.06-.94-2.06-.94-.94-2.06-.94 2.06-2.06.94zm-11 1L8.5 8.5l.94-2.06 2.06-.94-2.06-.94L8.5 2.5l-.94 2.06-2.06.94zm10 10l.94 2.06.94-2.06 2.06-.94-2.06-.94-.94-2.06-.94 2.06-2.06.94z\"/><path d=\"M17.41 7.96l-1.37-1.37c-.4-.4-.92-.59-1.43-.59-.52 0-1.04.2-1.43.59L10.3 9.45l-7.72 7.72c-.78.78-.78 2.05 0 2.83L4 21.41c.39.39.9.59 1.41.59.51 0 1.02-.2 1.41-.59l7.78-7.78 2.81-2.81c.8-.78.8-2.07 0-2.86zM5.41 20L4 18.59l7.72-7.72 1.47 1.35L5.41 20z\"/>\n",
              "  </svg>\n",
              "      </button>\n",
              "      \n",
              "  <style>\n",
              "    .colab-df-container {\n",
              "      display:flex;\n",
              "      flex-wrap:wrap;\n",
              "      gap: 12px;\n",
              "    }\n",
              "\n",
              "    .colab-df-convert {\n",
              "      background-color: #E8F0FE;\n",
              "      border: none;\n",
              "      border-radius: 50%;\n",
              "      cursor: pointer;\n",
              "      display: none;\n",
              "      fill: #1967D2;\n",
              "      height: 32px;\n",
              "      padding: 0 0 0 0;\n",
              "      width: 32px;\n",
              "    }\n",
              "\n",
              "    .colab-df-convert:hover {\n",
              "      background-color: #E2EBFA;\n",
              "      box-shadow: 0px 1px 2px rgba(60, 64, 67, 0.3), 0px 1px 3px 1px rgba(60, 64, 67, 0.15);\n",
              "      fill: #174EA6;\n",
              "    }\n",
              "\n",
              "    [theme=dark] .colab-df-convert {\n",
              "      background-color: #3B4455;\n",
              "      fill: #D2E3FC;\n",
              "    }\n",
              "\n",
              "    [theme=dark] .colab-df-convert:hover {\n",
              "      background-color: #434B5C;\n",
              "      box-shadow: 0px 1px 3px 1px rgba(0, 0, 0, 0.15);\n",
              "      filter: drop-shadow(0px 1px 2px rgba(0, 0, 0, 0.3));\n",
              "      fill: #FFFFFF;\n",
              "    }\n",
              "  </style>\n",
              "\n",
              "      <script>\n",
              "        const buttonEl =\n",
              "          document.querySelector('#df-4fde33b1-3a02-4b29-82fa-2e3c35a153e0 button.colab-df-convert');\n",
              "        buttonEl.style.display =\n",
              "          google.colab.kernel.accessAllowed ? 'block' : 'none';\n",
              "\n",
              "        async function convertToInteractive(key) {\n",
              "          const element = document.querySelector('#df-4fde33b1-3a02-4b29-82fa-2e3c35a153e0');\n",
              "          const dataTable =\n",
              "            await google.colab.kernel.invokeFunction('convertToInteractive',\n",
              "                                                     [key], {});\n",
              "          if (!dataTable) return;\n",
              "\n",
              "          const docLinkHtml = 'Like what you see? Visit the ' +\n",
              "            '<a target=\"_blank\" href=https://colab.research.google.com/notebooks/data_table.ipynb>data table notebook</a>'\n",
              "            + ' to learn more about interactive tables.';\n",
              "          element.innerHTML = '';\n",
              "          dataTable['output_type'] = 'display_data';\n",
              "          await google.colab.output.renderOutput(dataTable, element);\n",
              "          const docLink = document.createElement('div');\n",
              "          docLink.innerHTML = docLinkHtml;\n",
              "          element.appendChild(docLink);\n",
              "        }\n",
              "      </script>\n",
              "    </div>\n",
              "  </div>\n",
              "  "
            ]
          },
          "metadata": {},
          "execution_count": 124
        }
      ]
    },
    {
      "cell_type": "code",
      "source": [],
      "metadata": {
        "id": "yFTl9JxOgx_x"
      },
      "execution_count": null,
      "outputs": []
    }
  ]
}