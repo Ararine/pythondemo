{
  "nbformat": 4,
  "nbformat_minor": 0,
  "metadata": {
    "colab": {
      "provenance": [],
      "authorship_tag": "ABX9TyPtoyAgle0qujDx6TZzEL2s",
      "include_colab_link": true
    },
    "kernelspec": {
      "name": "python3",
      "display_name": "Python 3"
    },
    "language_info": {
      "name": "python"
    }
  },
  "cells": [
    {
      "cell_type": "markdown",
      "metadata": {
        "id": "view-in-github",
        "colab_type": "text"
      },
      "source": [
        "<a href=\"https://colab.research.google.com/github/Ararine/pythondemo/blob/main/python_19_%EA%B3%B5%EA%B3%B5%EB%8D%B0%EC%9D%B4%ED%84%B0_%EC%9E%90%EC%A0%84%EA%B1%B0_%EC%82%AC%EA%B3%A0_%EB%8B%A4%EB%B0%9C%EC%A7%80%EC%97%AD.ipynb\" target=\"_parent\"><img src=\"https://colab.research.google.com/assets/colab-badge.svg\" alt=\"Open In Colab\"/></a>"
      ]
    },
    {
      "cell_type": "code",
      "execution_count": 1,
      "metadata": {
        "colab": {
          "base_uri": "https://localhost:8080/"
        },
        "id": "RM4qFE6yGwAG",
        "outputId": "590cce06-9b15-43c8-955b-94ad2fbd7492"
      },
      "outputs": [
        {
          "output_type": "stream",
          "name": "stdout",
          "text": [
            "Mounted at /content/drive\n",
            "/content/drive/MyDrive/python_demo\n"
          ]
        }
      ],
      "source": [
        "from google.colab import drive\n",
        "drive.mount('/content/drive')\n",
        "%cd /content/drive/MyDrive/python_demo"
      ]
    },
    {
      "cell_type": "markdown",
      "source": [
        "## 공공데이터 포털\n",
        "- https://www.data.go.kr/index.do\n",
        "- https://www.data.go.kr/data/15056681/openapi.do\n",
        "- 도로교통공단_자전거 사고 다발지역정보 서비스\n"
      ],
      "metadata": {
        "id": "I47xY0R5G9xk"
      }
    },
    {
      "cell_type": "markdown",
      "source": [
        "### 1. import"
      ],
      "metadata": {
        "id": "jz_Tt0GILCUt"
      }
    },
    {
      "cell_type": "code",
      "source": [
        "import requests\n",
        "import json\n",
        "import sys"
      ],
      "metadata": {
        "id": "2smic9HiHH62"
      },
      "execution_count": 23,
      "outputs": []
    },
    {
      "cell_type": "markdown",
      "source": [
        "### 2. url 연결"
      ],
      "metadata": {
        "id": "0mOknbp6LMtd"
      }
    },
    {
      "cell_type": "code",
      "source": [
        "url = 'http://apis.data.go.kr/B552061/frequentzoneBicycle/getRestFrequentzoneBicycle'\n",
        "#key = 'u5sNBToZRHpLRGlqy7NWNvgKP%2Fclcelfzp6Pi3Mj%2FI0dTlk%2BomjMl9P9aw2JLAwMaeFmuEiDEEgTjqrkN5y6lQ%3D%3D'\n",
        "key = 'u5sNBToZRHpLRGlqy7NWNvgKP/clcelfzp6Pi3Mj/I0dTlk+omjMl9P9aw2JLAwMaeFmuEiDEEgTjqrkN5y6lQ=='\n",
        "\n",
        "params ={'serviceKey' : key, 'searchYearCd' : '2020', 'siDo' : '11', 'guGun' : '110', 'type' : 'json', 'numOfRows' : '10', 'pageNo' : '1' }\n",
        "\n",
        "response = requests.get(url, params=params)\n",
        "print(dir(response))\n",
        "#print(response.content)\n",
        "print(type(response.content)) # bytes\n",
        "#print(response.text)\n",
        "#print(type(response.text)) # str\n",
        "#print(response.json())\n",
        "response.json()"
      ],
      "metadata": {
        "colab": {
          "base_uri": "https://localhost:8080/"
        },
        "id": "pMStsLdPPDd1",
        "outputId": "3f5042b7-f705-465f-f8b8-d270198d5062"
      },
      "execution_count": 58,
      "outputs": [
        {
          "output_type": "stream",
          "name": "stdout",
          "text": [
            "['__attrs__', '__bool__', '__class__', '__delattr__', '__dict__', '__dir__', '__doc__', '__enter__', '__eq__', '__exit__', '__format__', '__ge__', '__getattribute__', '__getstate__', '__gt__', '__hash__', '__init__', '__init_subclass__', '__iter__', '__le__', '__lt__', '__module__', '__ne__', '__new__', '__nonzero__', '__reduce__', '__reduce_ex__', '__repr__', '__setattr__', '__setstate__', '__sizeof__', '__str__', '__subclasshook__', '__weakref__', '_content', '_content_consumed', '_next', 'apparent_encoding', 'close', 'connection', 'content', 'cookies', 'elapsed', 'encoding', 'headers', 'history', 'is_permanent_redirect', 'is_redirect', 'iter_content', 'iter_lines', 'json', 'links', 'next', 'ok', 'raise_for_status', 'raw', 'reason', 'request', 'status_code', 'text', 'url']\n",
            "<class 'bytes'>\n"
          ]
        },
        {
          "output_type": "execute_result",
          "data": {
            "text/plain": [
              "{'resultCode': '00',\n",
              " 'resultMsg': 'NORMAL_CODE',\n",
              " 'items': {'item': [{'afos_fid': 6687664,\n",
              "    'afos_id': '2021028',\n",
              "    'bjd_cd': '1111011900',\n",
              "    'spot_cd': '11110001',\n",
              "    'sido_sgg_nm': '서울특별시 종로구1',\n",
              "    'spot_nm': '서울특별시 종로구 세종로(세종로180 부근)',\n",
              "    'occrrnc_cnt': 5,\n",
              "    'caslt_cnt': 5,\n",
              "    'dth_dnv_cnt': 0,\n",
              "    'se_dnv_cnt': 2,\n",
              "    'sl_dnv_cnt': 2,\n",
              "    'wnd_dnv_cnt': 1,\n",
              "    'geom_json': '{\"type\":\"Polygon\",\"coordinates\":[[[126.97907362,37.56954474],[126.9790391,37.56926693],[126.97893686,37.56899979],[126.97877084,37.56875359],[126.9785474,37.56853779],[126.97827515,37.56836069],[126.97796453,37.5682291],[126.9776275,37.56814806],[126.97727699,37.5681207],[126.97692649,37.56814806],[126.97658945,37.5682291],[126.97627884,37.56836069],[126.97600658,37.56853779],[126.97578315,37.56875359],[126.97561712,37.56899979],[126.97551488,37.56926693],[126.97548036,37.56954474],[126.97551488,37.56982256],[126.97561712,37.5700897],[126.97578315,37.57033589],[126.97600658,37.57055168],[126.97627884,37.57072878],[126.97658945,37.57086037],[126.97692649,37.5709414],[126.97727699,37.57096876],[126.9776275,37.5709414],[126.97796453,37.57086037],[126.97827515,37.57072878],[126.9785474,37.57055168],[126.97877084,37.57033589],[126.97893686,37.5700897],[126.9790391,37.56982256],[126.97907362,37.56954474]]]}',\n",
              "    'lo_crd': '126.97727699344',\n",
              "    'la_crd': '37.569544743596'},\n",
              "   {'afos_fid': 6687396,\n",
              "    'afos_id': '2021028',\n",
              "    'bjd_cd': '1111017400',\n",
              "    'spot_cd': '11110002',\n",
              "    'sido_sgg_nm': '서울특별시 종로구2',\n",
              "    'spot_nm': '서울특별시 종로구 창신동(흥인지문사거리 부근)',\n",
              "    'occrrnc_cnt': 3,\n",
              "    'caslt_cnt': 4,\n",
              "    'dth_dnv_cnt': 1,\n",
              "    'se_dnv_cnt': 0,\n",
              "    'sl_dnv_cnt': 2,\n",
              "    'wnd_dnv_cnt': 1,\n",
              "    'geom_json': '{\"type\":\"Polygon\",\"coordinates\":[[[127.01058642,37.57117419],[127.0105519,37.57089638],[127.01044966,37.57062924],[127.01028363,37.57038305],[127.0100602,37.57016726],[127.00978794,37.56999016],[127.00947733,37.56985857],[127.00914029,37.56977753],[127.00878979,37.56975017],[127.00843928,37.56977753],[127.00810225,37.56985857],[127.00779163,37.56999016],[127.00751938,37.57016726],[127.00729595,37.57038305],[127.00712992,37.57062924],[127.00702768,37.57089638],[127.00699316,37.57117419],[127.00702768,37.57145199],[127.00712992,37.57171913],[127.00729595,37.57196532],[127.00751938,37.5721811],[127.00779163,37.57235819],[127.00810225,37.57248978],[127.00843928,37.57257081],[127.00878979,37.57259818],[127.00914029,37.57257081],[127.00947733,37.57248978],[127.00978794,37.57235819],[127.0100602,37.5721811],[127.01028363,37.57196532],[127.01044966,37.57171913],[127.0105519,37.57145199],[127.01058642,37.57117419]]]}',\n",
              "    'lo_crd': '127.008789789218',\n",
              "    'la_crd': '37.571174185641'}]},\n",
              " 'totalCount': 2,\n",
              " 'numOfRows': 2,\n",
              " 'pageNo': 1}"
            ]
          },
          "metadata": {},
          "execution_count": 58
        }
      ]
    },
    {
      "cell_type": "markdown",
      "source": [
        "### 3. 분석 작업"
      ],
      "metadata": {
        "id": "qDUFVW9HQf_-"
      }
    },
    {
      "cell_type": "code",
      "source": [
        "# item 접근\n",
        "w_data = response.json()['items']['item']\n",
        "#print(w_data)\n",
        "print(len(w_data))\n",
        "for i in range(len(w_data)):\n",
        "  print('spot_nm:' + w_data[i]['spot_nm'])\n",
        "  print('경도:' + w_data[i]['lo_crd'])\n",
        "  print('위도:' + w_data[i]['la_crd'])"
      ],
      "metadata": {
        "colab": {
          "base_uri": "https://localhost:8080/"
        },
        "id": "jk_H0ewsQiZF",
        "outputId": "b3542860-17b0-4edf-c8ef-7a6e52006393"
      },
      "execution_count": 70,
      "outputs": [
        {
          "output_type": "stream",
          "name": "stdout",
          "text": [
            "2\n",
            "spot_nm:서울특별시 종로구 세종로(세종로180 부근)\n",
            "경도:126.97727699344\n",
            "위도:37.569544743596\n",
            "spot_nm:서울특별시 종로구 창신동(흥인지문사거리 부근)\n",
            "경도:127.008789789218\n",
            "위도:37.571174185641\n"
          ]
        }
      ]
    },
    {
      "cell_type": "code",
      "source": [
        "responseData = response.text\n",
        "#print(responseData)\n",
        "if response.status_code == 200:\n",
        "  responseData = response.text\n",
        "  dictdata = json.loads(responseData) # str을 dict로 변환\n",
        "  print(type(dictdata))\n",
        "  print(dictdata)\n",
        "\n",
        "  # xd = xmltodict.parse(responseData) # XML형식의 데이터를 dict 형식으로 변환\n",
        "  # xdj = json.dumps(xd, ensure_ascii=False) # dict형식의 데이터를 json형식으로 변환\n",
        "  # xdjd = json.loads(xdj) # json형식의 데이터를 dict형식으로 변환\n",
        "  # djd = json.loads(responseData) # str을 dict로 변환"
      ],
      "metadata": {
        "colab": {
          "base_uri": "https://localhost:8080/"
        },
        "id": "y_zYgWNGUnqN",
        "outputId": "4cded910-3bf8-40d0-8153-481777cbe553"
      },
      "execution_count": 74,
      "outputs": [
        {
          "output_type": "stream",
          "name": "stdout",
          "text": [
            "<class 'dict'>\n",
            "{'resultCode': '00', 'resultMsg': 'NORMAL_CODE', 'items': {'item': [{'afos_fid': 6687664, 'afos_id': '2021028', 'bjd_cd': '1111011900', 'spot_cd': '11110001', 'sido_sgg_nm': '서울특별시 종로구1', 'spot_nm': '서울특별시 종로구 세종로(세종로180 부근)', 'occrrnc_cnt': 5, 'caslt_cnt': 5, 'dth_dnv_cnt': 0, 'se_dnv_cnt': 2, 'sl_dnv_cnt': 2, 'wnd_dnv_cnt': 1, 'geom_json': '{\"type\":\"Polygon\",\"coordinates\":[[[126.97907362,37.56954474],[126.9790391,37.56926693],[126.97893686,37.56899979],[126.97877084,37.56875359],[126.9785474,37.56853779],[126.97827515,37.56836069],[126.97796453,37.5682291],[126.9776275,37.56814806],[126.97727699,37.5681207],[126.97692649,37.56814806],[126.97658945,37.5682291],[126.97627884,37.56836069],[126.97600658,37.56853779],[126.97578315,37.56875359],[126.97561712,37.56899979],[126.97551488,37.56926693],[126.97548036,37.56954474],[126.97551488,37.56982256],[126.97561712,37.5700897],[126.97578315,37.57033589],[126.97600658,37.57055168],[126.97627884,37.57072878],[126.97658945,37.57086037],[126.97692649,37.5709414],[126.97727699,37.57096876],[126.9776275,37.5709414],[126.97796453,37.57086037],[126.97827515,37.57072878],[126.9785474,37.57055168],[126.97877084,37.57033589],[126.97893686,37.5700897],[126.9790391,37.56982256],[126.97907362,37.56954474]]]}', 'lo_crd': '126.97727699344', 'la_crd': '37.569544743596'}, {'afos_fid': 6687396, 'afos_id': '2021028', 'bjd_cd': '1111017400', 'spot_cd': '11110002', 'sido_sgg_nm': '서울특별시 종로구2', 'spot_nm': '서울특별시 종로구 창신동(흥인지문사거리 부근)', 'occrrnc_cnt': 3, 'caslt_cnt': 4, 'dth_dnv_cnt': 1, 'se_dnv_cnt': 0, 'sl_dnv_cnt': 2, 'wnd_dnv_cnt': 1, 'geom_json': '{\"type\":\"Polygon\",\"coordinates\":[[[127.01058642,37.57117419],[127.0105519,37.57089638],[127.01044966,37.57062924],[127.01028363,37.57038305],[127.0100602,37.57016726],[127.00978794,37.56999016],[127.00947733,37.56985857],[127.00914029,37.56977753],[127.00878979,37.56975017],[127.00843928,37.56977753],[127.00810225,37.56985857],[127.00779163,37.56999016],[127.00751938,37.57016726],[127.00729595,37.57038305],[127.00712992,37.57062924],[127.00702768,37.57089638],[127.00699316,37.57117419],[127.00702768,37.57145199],[127.00712992,37.57171913],[127.00729595,37.57196532],[127.00751938,37.5721811],[127.00779163,37.57235819],[127.00810225,37.57248978],[127.00843928,37.57257081],[127.00878979,37.57259818],[127.00914029,37.57257081],[127.00947733,37.57248978],[127.00978794,37.57235819],[127.0100602,37.5721811],[127.01028363,37.57196532],[127.01044966,37.57171913],[127.0105519,37.57145199],[127.01058642,37.57117419]]]}', 'lo_crd': '127.008789789218', 'la_crd': '37.571174185641'}]}, 'totalCount': 2, 'numOfRows': 2, 'pageNo': 1}\n"
          ]
        }
      ]
    }
  ]
}