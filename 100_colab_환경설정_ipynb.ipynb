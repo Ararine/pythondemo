{
  "nbformat": 4,
  "nbformat_minor": 0,
  "metadata": {
    "colab": {
      "provenance": [],
      "include_colab_link": true
    },
    "kernelspec": {
      "name": "python3",
      "display_name": "Python 3"
    },
    "language_info": {
      "name": "python"
    }
  },
  "cells": [
    {
      "cell_type": "markdown",
      "metadata": {
        "id": "view-in-github",
        "colab_type": "text"
      },
      "source": [
        "<a href=\"https://colab.research.google.com/github/Ararine/pythondemo/blob/main/100_colab_%ED%99%98%EA%B2%BD%EC%84%A4%EC%A0%95_ipynb.ipynb\" target=\"_parent\"><img src=\"https://colab.research.google.com/assets/colab-badge.svg\" alt=\"Open In Colab\"/></a>"
      ]
    },
    {
      "cell_type": "code",
      "execution_count": null,
      "metadata": {
        "colab": {
          "base_uri": "https://localhost:8080/"
        },
        "id": "lvvaGx46yhhG",
        "outputId": "1d0e63d3-bb4b-4de8-e524-1a0a27e7b267"
      },
      "outputs": [
        {
          "output_type": "stream",
          "name": "stdout",
          "text": [
            "/content\n"
          ]
        }
      ],
      "source": [
        "!pwd"
      ]
    },
    {
      "cell_type": "markdown",
      "source": [
        "### 1. 구글 코랩 환경"
      ],
      "metadata": {
        "id": "Qx6_wDtg0TmM"
      }
    },
    {
      "cell_type": "code",
      "source": [
        "#os\n",
        "!cat /etc/issue.net"
      ],
      "metadata": {
        "colab": {
          "base_uri": "https://localhost:8080/"
        },
        "id": "3uyXHR2Z0aN7",
        "outputId": "185b9202-432a-4097-8e5b-d80ddd035b4c"
      },
      "execution_count": null,
      "outputs": [
        {
          "output_type": "stream",
          "name": "stdout",
          "text": [
            "Ubuntu 18.04.6 LTS\n"
          ]
        }
      ]
    },
    {
      "cell_type": "code",
      "source": [
        "#cpu\n",
        "!head /proc/cpuinfo"
      ],
      "metadata": {
        "colab": {
          "base_uri": "https://localhost:8080/"
        },
        "id": "rPTXrPJ60o81",
        "outputId": "d583c360-e9bb-4412-ed89-79d49bf4b285"
      },
      "execution_count": null,
      "outputs": [
        {
          "output_type": "stream",
          "name": "stdout",
          "text": [
            "processor\t: 0\n",
            "vendor_id\t: AuthenticAMD\n",
            "cpu family\t: 23\n",
            "model\t\t: 49\n",
            "model name\t: AMD EPYC 7B12\n",
            "stepping\t: 0\n",
            "microcode\t: 0x1000065\n",
            "cpu MHz\t\t: 2249.998\n",
            "cache size\t: 512 KB\n",
            "physical id\t: 0\n"
          ]
        }
      ]
    },
    {
      "cell_type": "code",
      "source": [
        "#memory\n",
        "!head /proc/meminfo"
      ],
      "metadata": {
        "colab": {
          "base_uri": "https://localhost:8080/"
        },
        "id": "JIjkwiau0xz8",
        "outputId": "532912a6-6478-498f-ec39-9464c17103a9"
      },
      "execution_count": null,
      "outputs": [
        {
          "output_type": "stream",
          "name": "stdout",
          "text": [
            "MemTotal:       13297228 kB\n",
            "MemFree:         8072780 kB\n",
            "MemAvailable:   12313296 kB\n",
            "Buffers:          332248 kB\n",
            "Cached:          4006616 kB\n",
            "SwapCached:            0 kB\n",
            "Active:           648588 kB\n",
            "Inactive:        4343268 kB\n",
            "Active(anon):        928 kB\n",
            "Inactive(anon):   575348 kB\n"
          ]
        }
      ]
    },
    {
      "cell_type": "markdown",
      "source": [
        "### 2.  구글 코랩 드라이버 연동"
      ],
      "metadata": {
        "id": "rdHCzr1xzmfV"
      }
    },
    {
      "cell_type": "code",
      "source": [
        "!pwd"
      ],
      "metadata": {
        "colab": {
          "base_uri": "https://localhost:8080/"
        },
        "id": "oXQazIMh1JId",
        "outputId": "4d5b079d-4701-43d6-daf7-b0044fe1899f"
      },
      "execution_count": null,
      "outputs": [
        {
          "output_type": "stream",
          "name": "stdout",
          "text": [
            "/content\n"
          ]
        }
      ]
    },
    {
      "cell_type": "code",
      "source": [
        "# 구글 드라이브 연동\n",
        "from google.colab import drive\n",
        "drive.mount('/content/drive')"
      ],
      "metadata": {
        "colab": {
          "base_uri": "https://localhost:8080/"
        },
        "id": "ejXv_Yazyyj1",
        "outputId": "1e4b0444-75ed-49e5-b174-76798f73d661"
      },
      "execution_count": null,
      "outputs": [
        {
          "output_type": "stream",
          "name": "stdout",
          "text": [
            "Drive already mounted at /content/drive; to attempt to forcibly remount, call drive.mount(\"/content/drive\", force_remount=True).\n"
          ]
        }
      ]
    },
    {
      "cell_type": "code",
      "source": [
        "# 경로 변경\n",
        "%cd /content/drive/MyDrive/python_demo"
      ],
      "metadata": {
        "colab": {
          "base_uri": "https://localhost:8080/"
        },
        "id": "zqExr1yDz1dt",
        "outputId": "41b41760-336c-4e33-ce58-5903bec89eed"
      },
      "execution_count": null,
      "outputs": [
        {
          "output_type": "stream",
          "name": "stdout",
          "text": [
            "/content/drive/MyDrive/python_demo\n"
          ]
        }
      ]
    },
    {
      "cell_type": "code",
      "source": [
        "!pwd"
      ],
      "metadata": {
        "colab": {
          "base_uri": "https://localhost:8080/"
        },
        "id": "-pnxp2VI16xm",
        "outputId": "5a90e1e2-2fdc-4dca-855f-89cc702fb79e"
      },
      "execution_count": null,
      "outputs": [
        {
          "output_type": "stream",
          "name": "stdout",
          "text": [
            "/content/drive/MyDrive/python_demo\n"
          ]
        }
      ]
    },
    {
      "cell_type": "code",
      "source": [
        "!ls"
      ],
      "metadata": {
        "colab": {
          "base_uri": "https://localhost:8080/"
        },
        "id": "9zHZv6A81qZP",
        "outputId": "0edca196-1959-4108-8042-2fb4a183f773"
      },
      "execution_count": null,
      "outputs": [
        {
          "output_type": "stream",
          "name": "stdout",
          "text": [
            " 03_함수형프로그래밍_문제.ipynb   python_03_statement.ipynb\n",
            " 04_function.ipynb\t\t 'python_06_함수형 프로그래밍.ipynb'\n",
            " 04_함수형프로그래밍_풀이.ipynb   python_07_클래스.ipynb\n",
            "'100_colab 환경설정.ipynb'\t  python_08_파일입출력.ipynb\n",
            "'제목 없는 문서.gdoc'\t\t  python_10_정규표현식.ipynb\n",
            " images\t\t\t\t  python_11_numpy.ipynb\n",
            "'python _01_markdown.ipynb'\t  python_12_numpy.ipynb\n",
            " python_02_basic.ipynb\n"
          ]
        }
      ]
    },
    {
      "cell_type": "markdown",
      "source": [
        "### 3 구글 드라이브 이미지 colab markdown에 넣기\n",
        "\n",
        "https://velog.io/@countifs/%EC%BD%94%EB%9E%A9Colab-%EC%A3%BC%ED%94%BC%ED%84%B0Jupyter-%EB%85%B8%ED%8A%B8%EB%B6%81%EC%97%90-%EA%B5%AC%EA%B8%80-%EB%93%9C%EB%9D%BC%EC%9D%B4%EB%B8%8C-%EA%B3%B5%EC%9C%A0-%EC%9D%B4%EB%AF%B8%EC%A7%80-%EB%A7%81%ED%81%AC-%EC%97%85%EB%A1%9C%EB%93%9C"
      ],
      "metadata": {
        "id": "edKJCsnROOTk"
      }
    },
    {
      "cell_type": "code",
      "source": [],
      "metadata": {
        "id": "FzuFbNHfJxMV"
      },
      "execution_count": null,
      "outputs": []
    },
    {
      "cell_type": "code",
      "source": [
        "url=\"https://drive.google.com/file/d/1-2kr38EFVFvJKvyjxG3kJJDsz12B_LJF/view?usp=share_link\" \n",
        "path='https://drive.google.com/uc?export=download&id='+url.split('/')[-2]\n",
        "size=\"width=\\\"\\\" \"+\"height =\\\"\\\" \"\n",
        "tag=\"<img src='\"+path+\"' \"+size+\"/><br>\"\n",
        "print(\" ▶ Path : \", path)\n",
        "print('\\n',\"▶ Tag : \", tag)"
      ],
      "metadata": {
        "id": "W5to_d2Z1ric",
        "colab": {
          "base_uri": "https://localhost:8080/"
        },
        "outputId": "64a353b0-a8d3-4c0c-917c-e2bc58696dfd"
      },
      "execution_count": null,
      "outputs": [
        {
          "output_type": "stream",
          "name": "stdout",
          "text": [
            " ▶ Path :  https://drive.google.com/uc?export=download&id=1-2kr38EFVFvJKvyjxG3kJJDsz12B_LJF\n",
            "\n",
            " ▶ Tag :  <img src='https://drive.google.com/uc?export=download&id=1-2kr38EFVFvJKvyjxG3kJJDsz12B_LJF' width=\"\" height =\"\" /><br>\n"
          ]
        }
      ]
    },
    {
      "cell_type": "markdown",
      "source": [
        "# ![table](https://drive.google.com/uc?export=download&id=1g5Fhu-hzbPtiCsqAwE6FA1lz-xZw8eWO)"
      ],
      "metadata": {
        "id": "E53K1yAMO11o"
      }
    },
    {
      "cell_type": "markdown",
      "source": [
        "### 4. pip로 설치된 라이브러리 확인"
      ],
      "metadata": {
        "id": "p3dVSvapNvU3"
      }
    },
    {
      "cell_type": "markdown",
      "source": [
        "!pip freeze"
      ],
      "metadata": {
        "id": "aYuG8Jr1N2B2"
      }
    },
    {
      "cell_type": "markdown",
      "source": [
        "### 4.판다스 라이브러리 탑재\n",
        "import pandas as pd\n",
        "\n",
        "# 설치된 모든 라이브러리 버전 확인\n",
        "pd.show_versions()"
      ],
      "metadata": {
        "id": "ICDD1g0HR-h3"
      }
    },
    {
      "cell_type": "code",
      "source": [],
      "metadata": {
        "id": "gXFZ9a8gOgPr"
      },
      "execution_count": null,
      "outputs": []
    }
  ]
}