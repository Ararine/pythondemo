{
  "cells": [
    {
      "cell_type": "markdown",
      "metadata": {
        "id": "view-in-github",
        "colab_type": "text"
      },
      "source": [
        "<a href=\"https://colab.research.google.com/github/Ararine/pythondemo/blob/main/01_%EC%9E%90%EB%A3%8C%ED%98%95_%EB%AC%B8%EC%A0%9C.ipynb\" target=\"_parent\"><img src=\"https://colab.research.google.com/assets/colab-badge.svg\" alt=\"Open In Colab\"/></a>"
      ]
    },
    {
      "cell_type": "markdown",
      "metadata": {
        "id": "j_oANmW0VEG2"
      },
      "source": [
        "문제1)  \n",
        "S='Somewhere on the rainbow'를 'Somewhere over the rainbow'로 변환하세요."
      ]
    },
    {
      "cell_type": "code",
      "execution_count": null,
      "metadata": {
        "id": "K_BavqIJVBMD",
        "colab": {
          "base_uri": "https://localhost:8080/",
          "height": 35
        },
        "outputId": "27034eeb-64d8-497a-e834-173150a413bd"
      },
      "outputs": [
        {
          "output_type": "execute_result",
          "data": {
            "text/plain": [
              "'Somewhere over the rainbow'"
            ],
            "application/vnd.google.colaboratory.intrinsic+json": {
              "type": "string"
            }
          },
          "metadata": {},
          "execution_count": 1
        }
      ],
      "source": [
        "S='Somewhere on the rainbow'\n",
        "S.replace('on', 'over')"
      ]
    },
    {
      "cell_type": "markdown",
      "metadata": {
        "id": "5xzdD5LRVh7C"
      },
      "source": [
        "문제2)  \n",
        "s = '/usr/local/bin/python' 에서 각각의 디렉토리 경로명을 분리하여 출력하세요.\n",
        "\n",
        "[실행결과]\n",
        "['', 'usr', 'local', 'bin', 'python']"
      ]
    },
    {
      "cell_type": "code",
      "execution_count": null,
      "metadata": {
        "id": "tq0DDjO6Vkai",
        "colab": {
          "base_uri": "https://localhost:8080/"
        },
        "outputId": "5c6e11c3-45c7-498e-cdae-88fb6c6f7777"
      },
      "outputs": [
        {
          "output_type": "execute_result",
          "data": {
            "text/plain": [
              "['', 'usr', 'local', 'bin', 'python']"
            ]
          },
          "metadata": {},
          "execution_count": 2
        }
      ],
      "source": [
        "s = '/usr/local/bin/python' \n",
        "s.split('/')\n"
      ]
    },
    {
      "cell_type": "markdown",
      "metadata": {
        "id": "4b9VV0_2WzDL"
      },
      "source": [
        "문제3)   \n",
        "'spam ham'을 'ham spam'으로 치환하세요.   \n",
        "\n",
        "※문자열의 split( )과 join( )메서드 그리고 리스트의 reverse( )메서드를 사용"
      ]
    },
    {
      "cell_type": "code",
      "execution_count": null,
      "metadata": {
        "id": "MJgD9BR5Vm_1",
        "colab": {
          "base_uri": "https://localhost:8080/",
          "height": 35
        },
        "outputId": "6a167695-c670-4294-a1b3-aa2afc422862"
      },
      "outputs": [
        {
          "output_type": "execute_result",
          "data": {
            "text/plain": [
              "'ham spam'"
            ],
            "application/vnd.google.colaboratory.intrinsic+json": {
              "type": "string"
            }
          },
          "metadata": {},
          "execution_count": 5
        }
      ],
      "source": [
        "a= 'spam ham'\n",
        "b= a.split()\n",
        "b.reverse()\n",
        "c= \" \".join(b)\n",
        "c"
      ]
    },
    {
      "cell_type": "markdown",
      "metadata": {
        "id": "wlikK1oSXC8Q"
      },
      "source": [
        "문제4)   \n",
        "문자열이 주어져 있을 때 'spam' 이 몇 번 나타나는지 구하시오.   \n",
        "단, 대소문자 구분하지 않음\n",
        "\n",
        "s = 'spam Spam SpaM egg eGG Egg ham hAm'"
      ]
    },
    {
      "cell_type": "code",
      "execution_count": null,
      "metadata": {
        "id": "ILqIZqoZWo6L",
        "colab": {
          "base_uri": "https://localhost:8080/"
        },
        "outputId": "5287f6e6-236e-4867-d383-7640afc5beb9"
      },
      "outputs": [
        {
          "output_type": "execute_result",
          "data": {
            "text/plain": [
              "3"
            ]
          },
          "metadata": {},
          "execution_count": 7
        }
      ],
      "source": [
        "s = 'spam Spam SpaM egg eGG Egg ham hAm'\n",
        "(s.lower()).count('spam')"
      ]
    },
    {
      "cell_type": "markdown",
      "metadata": {
        "id": "OqPv1NpfXik8"
      },
      "source": [
        "문제5)  \n",
        "단어의 순서가 바뀐 문자열로 만들세요.  \n",
        "s = 'Sometimes I feel like a motherless child'\n",
        "\n",
        "[실행결과]    \n",
        "'child motherless a like feel I Sometimes'  \n",
        "'dlihc sselrehtom a ekil leef I semitemoS'  \n",
        "'SometimesIfeellikeamotherlesschild'\n",
        "\n",
        "\n"
      ]
    },
    {
      "cell_type": "code",
      "execution_count": 12,
      "metadata": {
        "id": "efZZR_wyXg9D",
        "colab": {
          "base_uri": "https://localhost:8080/"
        },
        "outputId": "9ba70c5c-8b43-434d-906f-955f272db6d9"
      },
      "outputs": [
        {
          "output_type": "stream",
          "name": "stdout",
          "text": [
            "['Sometimes', 'I', 'feel', 'like', 'a', 'motherless', 'child']\n",
            "['child', 'motherless', 'a', 'like', 'feel', 'I', 'Sometimes']\n",
            "child motherless a like feel I Sometimes\n"
          ]
        }
      ],
      "source": [
        "#단어의 순서 바꾸기\n",
        "s = 'Sometimes I feel like a motherless child'\n",
        "a = s.split()\n",
        "print(a)\n",
        "b = list(reversed(s.split()))\n",
        "print(b)\n",
        "print(' '.join(b))"
      ]
    },
    {
      "cell_type": "code",
      "execution_count": null,
      "metadata": {
        "id": "zuWj6xpyY3PD",
        "colab": {
          "base_uri": "https://localhost:8080/"
        },
        "outputId": "2b9b5f5d-dddf-4e0e-a112-5d9ff79c0eee"
      },
      "outputs": [
        {
          "output_type": "stream",
          "name": "stdout",
          "text": [
            "dlihc sselrehtom a ekil leef I semitemoS\n"
          ]
        }
      ],
      "source": [
        "# 문자열의 순서 뒤집기\n",
        "s = 'Sometimes I feel like a motherless child'\n",
        "print(s[::-1])"
      ]
    },
    {
      "cell_type": "code",
      "execution_count": null,
      "metadata": {
        "id": "rJFhQOUyZPLy",
        "colab": {
          "base_uri": "https://localhost:8080/"
        },
        "outputId": "8f3e34ad-963a-48d1-904a-c7010ca7387f"
      },
      "outputs": [
        {
          "output_type": "stream",
          "name": "stdout",
          "text": [
            "SometimesIfeellikeamotherlesschild\n"
          ]
        }
      ],
      "source": [
        "# 공백의 없애기\n",
        "s = 'Sometimes I feel like a motherless child'\n",
        "print(s.replace(' ',''))"
      ]
    },
    {
      "cell_type": "markdown",
      "metadata": {
        "id": "xb7tAWllaMj0"
      },
      "source": [
        "문제6)  \n",
        "100  이하의 자연수 중에서 2의 배수이거나 3의 배수인 수의 개수를 구하세요.\n",
        "\n",
        "[실행결과]  \n",
        "67"
      ]
    },
    {
      "cell_type": "code",
      "execution_count": 15,
      "metadata": {
        "id": "s9Ez9HkWZjRD",
        "colab": {
          "base_uri": "https://localhost:8080/"
        },
        "outputId": "421a4e13-6075-45e7-dd05-0ef0c6295356"
      },
      "outputs": [
        {
          "output_type": "stream",
          "name": "stdout",
          "text": [
            "67\n"
          ]
        },
        {
          "output_type": "execute_result",
          "data": {
            "text/plain": [
              "67"
            ]
          },
          "metadata": {},
          "execution_count": 15
        }
      ],
      "source": [
        "num = 0\n",
        "\n",
        "for v in range(1,101):\n",
        "  if v%2==0 or v%3==0 :\n",
        "    num += 1\n",
        "print(num)\n",
        "\n",
        "len(set(range(2,101,2)) | set(range(3, 101, 3)))"
      ]
    },
    {
      "cell_type": "markdown",
      "metadata": {
        "id": "KgG2twzKccH3"
      },
      "source": [
        "문제7)  \n",
        "전체집합을 U로 할때 U의 부분집합 A와 B에 대해서  연산의 결과를 구현하세요.\n",
        "\n",
        "U = {1, 2, 3, 4, 5, 6, 7, 8, 9, 10}  \n",
        "A = {1, 3, 5, 7, 9}  \n",
        "B = {1, 2, 3, 4, 5}  \n",
        "\n",
        "가) A∩Bc \n",
        "\n",
        "나) (A∪B)c \n",
        "\n",
        "[실행결과]  \n",
        "가) {7, 9}   \n",
        "나) {6, 8, 10}"
      ]
    },
    {
      "cell_type": "code",
      "execution_count": null,
      "metadata": {
        "id": "c-tan3YTcLKy",
        "colab": {
          "base_uri": "https://localhost:8080/"
        },
        "outputId": "08086346-4044-40eb-c806-d0de65f448b1"
      },
      "outputs": [
        {
          "output_type": "execute_result",
          "data": {
            "text/plain": [
              "{7, 9}"
            ]
          },
          "metadata": {},
          "execution_count": 50
        }
      ],
      "source": [
        "U = {1, 2, 3, 4, 5, 6, 7, 8, 9, 10}\n",
        "A = {1, 3, 5, 7, 9}\n",
        "B = {1, 2, 3, 4, 5}\n",
        "A.intersection(U.difference(B))\n",
        "A&(U-B)"
      ]
    },
    {
      "cell_type": "code",
      "execution_count": null,
      "metadata": {
        "id": "yNwNd1p2eDDw",
        "colab": {
          "base_uri": "https://localhost:8080/"
        },
        "outputId": "c981c6e6-2ced-4adf-e649-f37400d3e142"
      },
      "outputs": [
        {
          "output_type": "execute_result",
          "data": {
            "text/plain": [
              "{6, 8, 10}"
            ]
          },
          "metadata": {},
          "execution_count": 51
        }
      ],
      "source": [
        "U = {1, 2, 3, 4, 5, 6, 7, 8, 9, 10}\n",
        "A = {1, 3, 5, 7, 9}\n",
        "B = {1, 2, 3, 4, 5}\n",
        "U.difference(A.union(B))\n",
        "U-(A|B)"
      ]
    },
    {
      "cell_type": "markdown",
      "metadata": {
        "id": "Rf19AHjVgaeC"
      },
      "source": [
        "문제8)      \n",
        "주어진 문자열의 각 단어가 중복되지 않게 한 번씩만 출력이 되도록 구현하세요.      \n",
        "s = 'one two one two three four'  \n",
        "\n",
        "\n",
        "[실행결과]  \n",
        "['two', 'four', 'one', 'three']"
      ]
    },
    {
      "cell_type": "code",
      "execution_count": 18,
      "metadata": {
        "id": "FOzU66LMeHTz",
        "colab": {
          "base_uri": "https://localhost:8080/"
        },
        "outputId": "4da6c93e-58f6-4d11-e0a3-c6263d9f09a1"
      },
      "outputs": [
        {
          "output_type": "execute_result",
          "data": {
            "text/plain": [
              "['two', 'three', 'one', 'four']"
            ]
          },
          "metadata": {},
          "execution_count": 18
        }
      ],
      "source": [
        "s = 'one two one two three four'\n",
        "list(set(s.split()))\n",
        "\n"
      ]
    },
    {
      "cell_type": "markdown",
      "metadata": {
        "id": "ul9sg_NOgrEH"
      },
      "source": [
        "문제9)    \n",
        "튜플에 저장된 데이터에서 마지막 요소 5개를 삭제한뒤 나머지를 튜플로 출력하세요.  \n",
        "data =1,2,3,4,5,6,7,8,9,10\n",
        "\n",
        "[실행결과]   \n",
        "(1, 2, 3, 4, 5)\n"
      ]
    },
    {
      "cell_type": "code",
      "execution_count": 19,
      "metadata": {
        "id": "CRLUg17Ugj2l",
        "colab": {
          "base_uri": "https://localhost:8080/"
        },
        "outputId": "e9da7397-ea81-431b-d42e-a893ae30f5d7"
      },
      "outputs": [
        {
          "output_type": "stream",
          "name": "stdout",
          "text": [
            "(1, 2, 3, 4, 5)\n"
          ]
        }
      ],
      "source": [
        "data =1,2,3,4,5,6,7,8,9,10\n",
        "data = list(data)\n",
        "del data[-1:-6:-1]\n",
        "print(tuple(data))"
      ]
    },
    {
      "cell_type": "markdown",
      "metadata": {
        "id": "goMzKZeQkSAJ"
      },
      "source": [
        "문제10)  \n",
        "a변수에 저장된 문자열에서 인덱스 홀수, b변수에 저장된 문자열에서 인덱스 짝수만을 가져와 연결하는 프로그램을 구현하세요.  \n",
        "a='apple'  \n",
        "b='strawberry'  \n",
        "\n",
        "[실행결과]  \n",
        "plsrwer"
      ]
    },
    {
      "cell_type": "code",
      "execution_count": null,
      "metadata": {
        "id": "MgR7YZZskSAJ",
        "colab": {
          "base_uri": "https://localhost:8080/"
        },
        "outputId": "8e51b2a7-dbf3-4b7c-db28-7bab1dc2715a"
      },
      "outputs": [
        {
          "output_type": "stream",
          "name": "stdout",
          "text": [
            "plsrwer\n"
          ]
        }
      ],
      "source": [
        "a='apple'\n",
        "b='strawberry'\n",
        "print('{0}{1}'.format(a[1::2],b[::2]))"
      ]
    }
  ],
  "metadata": {
    "colab": {
      "provenance": [],
      "include_colab_link": true
    },
    "kernelspec": {
      "display_name": "Python 3",
      "language": "python",
      "name": "python3"
    },
    "language_info": {
      "codemirror_mode": {
        "name": "ipython",
        "version": 3
      },
      "file_extension": ".py",
      "mimetype": "text/x-python",
      "name": "python",
      "nbconvert_exporter": "python",
      "pygments_lexer": "ipython3",
      "version": "3.8.8"
    }
  },
  "nbformat": 4,
  "nbformat_minor": 0
}