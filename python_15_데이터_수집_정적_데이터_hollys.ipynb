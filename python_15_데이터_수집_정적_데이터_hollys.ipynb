{
  "cells": [
    {
      "cell_type": "markdown",
      "metadata": {
        "id": "view-in-github",
        "colab_type": "text"
      },
      "source": [
        "<a href=\"https://colab.research.google.com/github/Ararine/pythondemo/blob/main/python_15_%EB%8D%B0%EC%9D%B4%ED%84%B0_%EC%88%98%EC%A7%91_%EC%A0%95%EC%A0%81_%EB%8D%B0%EC%9D%B4%ED%84%B0_hollys.ipynb\" target=\"_parent\"><img src=\"https://colab.research.google.com/assets/colab-badge.svg\" alt=\"Open In Colab\"/></a>"
      ]
    },
    {
      "cell_type": "markdown",
      "metadata": {
        "id": "9cb4ccad"
      },
      "source": [
        "## hollys 크롤링하기"
      ],
      "id": "9cb4ccad"
    },
    {
      "cell_type": "markdown",
      "source": [
        "### 구글 드라이브 연결"
      ],
      "metadata": {
        "id": "-CN45M9RM92_"
      },
      "id": "-CN45M9RM92_"
    },
    {
      "cell_type": "code",
      "source": [
        "from google.colab import drive\n",
        "drive.mount('/content/drive')\n",
        "\n",
        "%cd /content/drive/MyDrive/python-demo"
      ],
      "metadata": {
        "colab": {
          "base_uri": "https://localhost:8080/"
        },
        "id": "NPJFEh0gM6TD",
        "outputId": "b183ed2d-c3d0-4927-d221-2ead4e1c60bb"
      },
      "id": "NPJFEh0gM6TD",
      "execution_count": null,
      "outputs": [
        {
          "output_type": "stream",
          "name": "stdout",
          "text": [
            "Mounted at /content/drive\n",
            "/content/drive/MyDrive/python-demo\n"
          ]
        }
      ]
    },
    {
      "cell_type": "markdown",
      "metadata": {
        "id": "4b314659"
      },
      "source": [
        "1. import"
      ],
      "id": "4b314659"
    },
    {
      "cell_type": "code",
      "execution_count": null,
      "metadata": {
        "id": "496ea9cd"
      },
      "outputs": [],
      "source": [
        "from bs4 import BeautifulSoup\n",
        "import requests"
      ],
      "id": "496ea9cd"
    },
    {
      "cell_type": "markdown",
      "metadata": {
        "id": "bd079845"
      },
      "source": [
        "2. 작업결과를 저장할 리스트 준비"
      ],
      "id": "bd079845"
    },
    {
      "cell_type": "code",
      "execution_count": null,
      "metadata": {
        "id": "fe1057f5"
      },
      "outputs": [],
      "source": [
        "result = []"
      ],
      "id": "fe1057f5"
    },
    {
      "cell_type": "markdown",
      "metadata": {
        "id": "c2b7decf"
      },
      "source": [
        "3. BeautifulSoup 객체 생성하여 파싱"
      ],
      "id": "c2b7decf"
    },
    {
      "cell_type": "code",
      "source": [
        "header = {\"User-Agent\":\"Mozilla/5.0 (Windows NT 10.0; Win64; x64) AppleWebKit/537.36 (KHTML, like Gecko) Chrome/91.0.4472.124 Safari/537.36\"}\n",
        "url = 'https://m.hollys.co.kr/store/korStore2.do'\n",
        "\n",
        "res = requests.get(url, headers = header)\n",
        "html = BeautifulSoup(res.text, 'html.parser')\n",
        "print(type(html))\n",
        "\n",
        "tag_tbody = html.find('tbody',{'class':'searchResult'})\n",
        "#print(tag_tbody)\n",
        "print(type(tag_tbody))\n",
        "\n",
        "#print(tag_tbody.find_all('tr'))\n",
        "print(type(tag_tbody.find_all('tr')))\n"
      ],
      "metadata": {
        "colab": {
          "base_uri": "https://localhost:8080/"
        },
        "id": "xWbgoopnb9vs",
        "outputId": "9a674a66-d129-4054-e092-d65062e2913b"
      },
      "id": "xWbgoopnb9vs",
      "execution_count": null,
      "outputs": [
        {
          "output_type": "stream",
          "name": "stdout",
          "text": [
            "<class 'bs4.BeautifulSoup'>\n",
            "<class 'bs4.element.Tag'>\n",
            "<class 'bs4.element.ResultSet'>\n"
          ]
        }
      ]
    },
    {
      "cell_type": "code",
      "execution_count": null,
      "metadata": {
        "id": "220e88fb"
      },
      "outputs": [],
      "source": [
        "for store in tag_tbody.find_all('tr'):          \n",
        "   if len(store)<=3 :\n",
        "                break\n",
        "\n",
        "   store_td = store.find_all('td')    \n",
        "   store_area = store_td[0].select('div.store_area > a > span.storeArea')[0].string  \n",
        "   store_name = store_td[1].select('span.storeName > img')\n",
        "   if(store_name): \n",
        "      store_name =  store_name[0]['alt']  \n",
        "   else:\n",
        "     store_name = ''\n",
        "   store_phone = store_td[2].string\n",
        "   result.append([store_area]+[store_name]+[store_phone])\n",
        "\n"
      ],
      "id": "220e88fb"
    },
    {
      "cell_type": "markdown",
      "metadata": {
        "id": "1719ec6b"
      },
      "source": [
        "4. 크롤링된 내용 확인"
      ],
      "id": "1719ec6b"
    },
    {
      "cell_type": "code",
      "execution_count": null,
      "metadata": {
        "colab": {
          "base_uri": "https://localhost:8080/"
        },
        "id": "705fd01c",
        "outputId": "88607786-37b9-4ad4-eb79-79cad4dd5084"
      },
      "outputs": [
        {
          "output_type": "stream",
          "name": "stdout",
          "text": [
            "5\n",
            "['강남우리라운지점', '주차', '02-566-1002']\n"
          ]
        }
      ],
      "source": [
        "print(len(result))\n",
        "print(result[0])"
      ],
      "id": "705fd01c"
    },
    {
      "cell_type": "markdown",
      "metadata": {
        "id": "297de881"
      },
      "source": [
        "5. 테이블을 csv파일로 저장"
      ],
      "id": "297de881"
    },
    {
      "cell_type": "code",
      "source": [
        "import csv \n",
        "# field names  \n",
        "fields = ['StoreArea', 'StoreName', 'StorePhone'] \n",
        "\n",
        "with open('./data_crowing/test.csv', 'w',newline='') as f: \n",
        "   write = csv.writer(f)       \n",
        "   write.writerow(fields) \n",
        "   write.writerows(result)"
      ],
      "metadata": {
        "id": "J_ERb1syoEcN"
      },
      "id": "J_ERb1syoEcN",
      "execution_count": null,
      "outputs": []
    },
    {
      "cell_type": "markdown",
      "metadata": {
        "id": "d8cb3fd9"
      },
      "source": [
        "6. 기타 : 저장할때 날짜 지정"
      ],
      "id": "d8cb3fd9"
    },
    {
      "cell_type": "code",
      "execution_count": null,
      "metadata": {
        "colab": {
          "base_uri": "https://localhost:8080/"
        },
        "id": "d0f79c44",
        "outputId": "50e969ca-e80f-4bab-97aa-b0beb3cc5bf5"
      },
      "outputs": [
        {
          "output_type": "stream",
          "name": "stdout",
          "text": [
            "2022-12-12 09:18:58.998609\n",
            "2022-12-12 09:18:58.999912\n",
            "2022 12 12 9 18\n",
            "2022-12-12\n",
            "09:18:58.998609\n"
          ]
        }
      ],
      "source": [
        "import datetime\n",
        "now = datetime.datetime.today()\n",
        "print(now)\n",
        "print(now.utcnow())\n",
        "print(now.year, now.month, now.day, now.hour, now.minute)\n",
        "print(now.date())\n",
        "print(now.time())\n"
      ],
      "id": "d0f79c44"
    },
    {
      "cell_type": "code",
      "execution_count": null,
      "metadata": {
        "colab": {
          "base_uri": "https://localhost:8080/",
          "height": 35
        },
        "id": "f1c10e55",
        "outputId": "ca49f5a3-86ba-40d6-bd2f-ec58c13357bb"
      },
      "outputs": [
        {
          "output_type": "execute_result",
          "data": {
            "text/plain": [
              "'2022-12-12'"
            ],
            "application/vnd.google.colaboratory.intrinsic+json": {
              "type": "string"
            }
          },
          "metadata": {},
          "execution_count": 9
        }
      ],
      "source": [
        "import time\n",
        "\n",
        "time.strftime('%Y-%m-%d', time.localtime(time.time()))"
      ],
      "id": "f1c10e55"
    },
    {
      "cell_type": "code",
      "execution_count": null,
      "metadata": {
        "id": "e7bd053e"
      },
      "outputs": [],
      "source": [],
      "id": "e7bd053e"
    },
    {
      "cell_type": "markdown",
      "metadata": {
        "id": "51cb0b0e"
      },
      "source": [
        "## 파이썬 파일 작성하여 크롤링하기"
      ],
      "id": "51cb0b0e"
    },
    {
      "cell_type": "code",
      "execution_count": null,
      "metadata": {
        "colab": {
          "base_uri": "https://localhost:8080/"
        },
        "id": "45ac50c4",
        "outputId": "6b84e5b6-5d4e-4ee5-cb83-614983a92e52"
      },
      "outputs": [
        {
          "output_type": "stream",
          "name": "stdout",
          "text": [
            "<class 'bs4.element.ResultSet'>\n",
            "result [['강남우리라운지점', '주차', '02-566-1002'], ['수원영통점', '주차', '031-202-3356'], ['원흥역점', '주차', '031.967.0302'], ['오목교역점', '주차', '02-2062-8405'], ['롯데시네마프리미엄만경관점', '주차', '070-7717-2192']]\n",
            "hollys 데이터 저장 완료\n"
          ]
        }
      ],
      "source": [
        "from bs4 import BeautifulSoup\n",
        "import requests\n",
        "\n",
        "import csv\n",
        "import datetime\n",
        "\n",
        "\n",
        "def hollys_store():\n",
        "  result = []\n",
        "  header = {\"User-Agent\":\"Mozilla/5.0 (Windows NT 10.0; Win64; x64) AppleWebKit/537.36 (KHTML, like Gecko) Chrome/91.0.4472.124 Safari/537.36\"}\n",
        "  url = 'https://m.hollys.co.kr/store/korStore2.do'\n",
        "\n",
        "  res = requests.get(url, headers = header)\n",
        "  html = BeautifulSoup(res.text, 'html.parser')\n",
        "  tag_tbody = html.find('tbody',{'class':'searchResult'})\n",
        "\n",
        "  print(type(tag_tbody.find_all('tr')))\n",
        "  for store in tag_tbody.find_all('tr'):          \n",
        "     if len(store)<=3 :\n",
        "        break\n",
        "\n",
        "     store_td = store.find_all('td')    \n",
        "     store_area = store_td[0].select('div.store_area > a > span.storeArea')[0].string  \n",
        "     store_name = store_td[1].select('span.storeName > img')\n",
        "     if(store_name): \n",
        "         store_name =  store_name[0]['alt']  \n",
        "     else:\n",
        "        store_name = ''\n",
        "     store_phone = store_td[2].string\n",
        "     result.append([store_area]+[store_name]+[store_phone])\n",
        "  return result\n",
        "\n",
        "def main():    \n",
        "    result = hollys_store()   \n",
        "    print('result',result) \n",
        "    # 2022-10-10-hollys.csv\n",
        "    to_now = datetime.datetime.today().date()\n",
        "    \n",
        "    # field names  \n",
        "    fields = ['StoreArea', 'StoreName', 'StorePhone'] \n",
        "\n",
        "    with open('./data_crowing/%s-hollys.csv' % to_now, 'w',newline='') as f: \n",
        "       write = csv.writer(f)       \n",
        "       write.writerow(fields) \n",
        "       write.writerows(result)     \n",
        "   \n",
        "    print('hollys 데이터 저장 완료')\n",
        "    del result[:]\n",
        "\n",
        "if __name__ =='__main__':\n",
        "    main()"
      ],
      "id": "45ac50c4"
    },
    {
      "cell_type": "code",
      "execution_count": null,
      "metadata": {
        "id": "c279c8b0",
        "colab": {
          "base_uri": "https://localhost:8080/"
        },
        "outputId": "7af05cb5-0f86-49ae-9692-1225de6dd5b5"
      },
      "outputs": [
        {
          "output_type": "stream",
          "name": "stdout",
          "text": [
            "StoreArea StoreName StorePhone\n",
            "\n",
            "강남우리라운지점 주차 02-566-1002\n",
            "\n",
            "수원영통점 주차 031-202-3356\n",
            "\n",
            "원흥역점 주차 031.967.0302\n",
            "\n",
            "오목교역점 주차 02-2062-8405\n",
            "\n",
            "롯데시네마프리미엄만경관점 주차 070-7717-2192\n",
            "\n"
          ]
        }
      ],
      "source": [
        "import json\n",
        "to_now = datetime.datetime.today().date()\n",
        "with open('./data_crowing/%s-hollys.csv' % to_now, 'r') as f:\n",
        "   #print(type(list(f.read())))  \n",
        "   #print(f.readline())\n",
        "   for element in f :\n",
        "     #print(element)\n",
        "     #print(type(element))\n",
        "     td_list = element.split(',')\n",
        "     print(td_list[0], td_list[1], td_list[2])\n",
        "    # break"
      ],
      "id": "c279c8b0"
    },
    {
      "cell_type": "code",
      "source": [],
      "metadata": {
        "id": "mxsmXJ9BLFkU"
      },
      "id": "mxsmXJ9BLFkU",
      "execution_count": null,
      "outputs": []
    }
  ],
  "metadata": {
    "colab": {
      "provenance": [],
      "include_colab_link": true
    },
    "kernelspec": {
      "display_name": "Python 3",
      "language": "python",
      "name": "python3"
    },
    "language_info": {
      "codemirror_mode": {
        "name": "ipython",
        "version": 3
      },
      "file_extension": ".py",
      "mimetype": "text/x-python",
      "name": "python",
      "nbconvert_exporter": "python",
      "pygments_lexer": "ipython3",
      "version": "3.8.8"
    }
  },
  "nbformat": 4,
  "nbformat_minor": 5
}