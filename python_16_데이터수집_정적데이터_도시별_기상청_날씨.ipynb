{
  "nbformat": 4,
  "nbformat_minor": 0,
  "metadata": {
    "colab": {
      "provenance": [],
      "include_colab_link": true
    },
    "kernelspec": {
      "name": "python3",
      "display_name": "Python 3"
    },
    "language_info": {
      "name": "python"
    }
  },
  "cells": [
    {
      "cell_type": "markdown",
      "metadata": {
        "id": "view-in-github",
        "colab_type": "text"
      },
      "source": [
        "<a href=\"https://colab.research.google.com/github/Ararine/pythondemo/blob/main/python_16_%EB%8D%B0%EC%9D%B4%ED%84%B0%EC%88%98%EC%A7%91_%EC%A0%95%EC%A0%81%EB%8D%B0%EC%9D%B4%ED%84%B0_%EB%8F%84%EC%8B%9C%EB%B3%84_%EA%B8%B0%EC%83%81%EC%B2%AD_%EB%82%A0%EC%94%A8.ipynb\" target=\"_parent\"><img src=\"https://colab.research.google.com/assets/colab-badge.svg\" alt=\"Open In Colab\"/></a>"
      ]
    },
    {
      "cell_type": "markdown",
      "source": [
        "## 도시별 기상청 날씨 크로링하기\n",
        "https://www.weather.go.kr/w/obs-climate/land/city-obs.do"
      ],
      "metadata": {
        "id": "hePSkcdjhveo"
      }
    },
    {
      "cell_type": "markdown",
      "source": [
        "### 구글 드라이브 연결\n"
      ],
      "metadata": {
        "id": "vcIufNLxh7ZN"
      }
    },
    {
      "cell_type": "code",
      "execution_count": null,
      "metadata": {
        "colab": {
          "base_uri": "https://localhost:8080/"
        },
        "id": "6fPRbhojhtWb",
        "outputId": "1143c126-30f4-46fd-ee29-2c4890e52f24"
      },
      "outputs": [
        {
          "output_type": "stream",
          "name": "stdout",
          "text": [
            "Mounted at /content/drive\n",
            "/content/drive/MyDrive/python_demo\n"
          ]
        }
      ],
      "source": [
        "from google.colab import drive\n",
        "drive.mount('/content/drive')\n",
        "\n",
        "%cd /content/drive/MyDrive/python_demo"
      ]
    },
    {
      "cell_type": "markdown",
      "source": [
        "### 1 import"
      ],
      "metadata": {
        "id": "3mx2Gn-_jZ7v"
      }
    },
    {
      "cell_type": "code",
      "source": [
        "from bs4 import BeautifulSoup\n",
        "import requests"
      ],
      "metadata": {
        "id": "ZEq0ZwxajJZ4"
      },
      "execution_count": null,
      "outputs": []
    },
    {
      "cell_type": "markdown",
      "source": [
        "### 2. 작업결과를 저장할 리스트 준비"
      ],
      "metadata": {
        "id": "j-V3ErB59Ao7"
      }
    },
    {
      "cell_type": "code",
      "source": [
        "result = [ ]"
      ],
      "metadata": {
        "id": "gjr3Uol29B8R"
      },
      "execution_count": null,
      "outputs": []
    },
    {
      "cell_type": "markdown",
      "source": [
        "### 3 BeautifulSoup 객체 생성하여 파싱\n"
      ],
      "metadata": {
        "id": "azGy5cGBjhkE"
      }
    },
    {
      "cell_type": "code",
      "source": [
        "header = {\"User-Agent\":\"Mozilla/5.0 (Windows NT 10.0; Win64; x64) AppleWebKit/537.36 (KHTML, like Gecko) Chrome/91.0.4472.124 Safari/537.36\"}\n",
        "url = 'https://www.weather.go.kr/w/obs-climate/land/city-obs.do'\n",
        "\n",
        "\n",
        "res = requests.get(url, headers = header)\n",
        "soup = BeautifulSoup(res.text, 'html.parser')\n",
        "print(type(soup))\n",
        "\n",
        "tbody_tag = soup.find('tbody')\n",
        "tr_rs_tag = tbody_tag.find_all('tr')\n",
        "print(type(tr_rs_tag))\n",
        "#print(tr_rs_tag[0])\n",
        "\n",
        "for tr_tag in tr_rs_tag :\n",
        "   td_rs_tag = tr_tag.find_all('td')   \n",
        "   city = td_rs_tag[0].string\n",
        "   cur_temp = td_rs_tag[5].string\n",
        "   sen_temp = td_rs_tag[7].string\n",
        "   result.append([city, cur_temp, sen_temp])"
      ],
      "metadata": {
        "colab": {
          "base_uri": "https://localhost:8080/"
        },
        "id": "C_ZcIzVFjmjJ",
        "outputId": "759d7ab6-ad94-48be-be66-6f7c9bb45721"
      },
      "execution_count": null,
      "outputs": [
        {
          "output_type": "stream",
          "name": "stdout",
          "text": [
            "<class 'bs4.BeautifulSoup'>\n",
            "<class 'bs4.element.ResultSet'>\n"
          ]
        }
      ]
    },
    {
      "cell_type": "markdown",
      "source": [
        "### 4 크롤링된 도시, 현재기온 , 체감온도 결과"
      ],
      "metadata": {
        "id": "Xs_GBe_m7WZm"
      }
    },
    {
      "cell_type": "code",
      "source": [
        "for element in result:\n",
        "  print(element)\n",
        "  break"
      ],
      "metadata": {
        "colab": {
          "base_uri": "https://localhost:8080/"
        },
        "id": "-zpfkMd07QUV",
        "outputId": "6b7d40cb-45fc-4939-b6f1-8362302831f1"
      },
      "execution_count": null,
      "outputs": [
        {
          "output_type": "stream",
          "name": "stdout",
          "text": [
            "['강릉', '6.7', '5.8']\n"
          ]
        }
      ]
    },
    {
      "cell_type": "markdown",
      "source": [
        "### 5. 테이블을 csv파일로 저장"
      ],
      "metadata": {
        "id": "o2tVFt-i82lw"
      }
    },
    {
      "cell_type": "code",
      "source": [
        "import csv \n",
        "# field names  \n",
        "fields = ['StoreArea', 'StoreName', 'StorePhone'] \n",
        "\n",
        "with open('./data_crawing/weather.csv', 'w',newline='') as f: \n",
        "   write = csv.writer(f)       \n",
        "   write.writerow(fields) \n",
        "   write.writerows(result)"
      ],
      "metadata": {
        "id": "G-lrJyLwkvqP",
        "colab": {
          "base_uri": "https://localhost:8080/",
          "height": 248
        },
        "outputId": "9a21072a-3b0f-4ddc-b342-0e97bbadcc55"
      },
      "execution_count": null,
      "outputs": [
        {
          "output_type": "error",
          "ename": "FileNotFoundError",
          "evalue": "ignored",
          "traceback": [
            "\u001b[0;31m---------------------------------------------------------------------------\u001b[0m",
            "\u001b[0;31mFileNotFoundError\u001b[0m                         Traceback (most recent call last)",
            "\u001b[0;32m<ipython-input-7-5df2460ff82d>\u001b[0m in \u001b[0;36m<module>\u001b[0;34m\u001b[0m\n\u001b[1;32m      3\u001b[0m \u001b[0mfields\u001b[0m \u001b[0;34m=\u001b[0m \u001b[0;34m[\u001b[0m\u001b[0;34m'StoreArea'\u001b[0m\u001b[0;34m,\u001b[0m \u001b[0;34m'StoreName'\u001b[0m\u001b[0;34m,\u001b[0m \u001b[0;34m'StorePhone'\u001b[0m\u001b[0;34m]\u001b[0m\u001b[0;34m\u001b[0m\u001b[0;34m\u001b[0m\u001b[0m\n\u001b[1;32m      4\u001b[0m \u001b[0;34m\u001b[0m\u001b[0m\n\u001b[0;32m----> 5\u001b[0;31m \u001b[0;32mwith\u001b[0m \u001b[0mopen\u001b[0m\u001b[0;34m(\u001b[0m\u001b[0;34m'./data_crawing/weather.csv'\u001b[0m\u001b[0;34m,\u001b[0m \u001b[0;34m'w'\u001b[0m\u001b[0;34m,\u001b[0m\u001b[0mnewline\u001b[0m\u001b[0;34m=\u001b[0m\u001b[0;34m''\u001b[0m\u001b[0;34m)\u001b[0m \u001b[0;32mas\u001b[0m \u001b[0mf\u001b[0m\u001b[0;34m:\u001b[0m\u001b[0;34m\u001b[0m\u001b[0;34m\u001b[0m\u001b[0m\n\u001b[0m\u001b[1;32m      6\u001b[0m    \u001b[0mwrite\u001b[0m \u001b[0;34m=\u001b[0m \u001b[0mcsv\u001b[0m\u001b[0;34m.\u001b[0m\u001b[0mwriter\u001b[0m\u001b[0;34m(\u001b[0m\u001b[0mf\u001b[0m\u001b[0;34m)\u001b[0m\u001b[0;34m\u001b[0m\u001b[0;34m\u001b[0m\u001b[0m\n\u001b[1;32m      7\u001b[0m    \u001b[0mwrite\u001b[0m\u001b[0;34m.\u001b[0m\u001b[0mwriterow\u001b[0m\u001b[0;34m(\u001b[0m\u001b[0mfields\u001b[0m\u001b[0;34m)\u001b[0m\u001b[0;34m\u001b[0m\u001b[0;34m\u001b[0m\u001b[0m\n",
            "\u001b[0;31mFileNotFoundError\u001b[0m: [Errno 2] No such file or directory: './data_crawing/weather.csv'"
          ]
        }
      ]
    },
    {
      "cell_type": "markdown",
      "source": [
        "### 6 기타 : 저장할때 날짜 지정"
      ],
      "metadata": {
        "id": "gzDBUGOl-DFn"
      }
    },
    {
      "cell_type": "code",
      "source": [
        "import datetime\n",
        "now = datetime.datetime.today()\n",
        "print(now)\n",
        "print(now.utcnow())\n",
        "print(now.year, now.month, now.day, now.hour, now.minute)\n",
        "print(now.date())\n",
        "print(now.time())\n"
      ],
      "metadata": {
        "id": "iZ9wnFG29kQF"
      },
      "execution_count": null,
      "outputs": []
    },
    {
      "cell_type": "code",
      "source": [
        "import time\n",
        "\n",
        "time.strftime('%Y-%m-%d', time.localtime(time.time()))"
      ],
      "metadata": {
        "id": "K83zTYjg-KOF",
        "colab": {
          "base_uri": "https://localhost:8080/",
          "height": 35
        },
        "outputId": "9e760573-1033-436c-d4e9-ba0627ade7e5"
      },
      "execution_count": null,
      "outputs": [
        {
          "output_type": "execute_result",
          "data": {
            "text/plain": [
              "'2022-12-11'"
            ],
            "application/vnd.google.colaboratory.intrinsic+json": {
              "type": "string"
            }
          },
          "metadata": {},
          "execution_count": 81
        }
      ]
    },
    {
      "cell_type": "markdown",
      "source": [
        "## 파이썬 파일 작성하여 크롤링하기"
      ],
      "metadata": {
        "id": "9vAyx6ei-RmD"
      }
    },
    {
      "cell_type": "code",
      "source": [
        "from bs4 import BeautifulSoup\n",
        "import requests\n",
        "\n",
        "import csv\n",
        "import datetime\n",
        "\n",
        "\n",
        "def weather_temp():\n",
        "  result = []\n",
        "  header = {\"User-Agent\":\"Mozilla/5.0 (Windows NT 10.0; Win64; x64) AppleWebKit/537.36 (KHTML, like Gecko) Chrome/91.0.4472.124 Safari/537.36\"}\n",
        "  url = 'https://www.weather.go.kr/w/obs-climate/land/city-obs.do'\n",
        "\n",
        "  res = requests.get(url, headers = header)\n",
        "  soup = BeautifulSoup(res.text, 'html.parser')\n",
        "\n",
        "  tbody_tag = soup.find('tbody')\n",
        "  tr_rs_tag = tbody_tag.find_all('tr')\n",
        "\n",
        "\n",
        "  for tr_tag in tr_rs_tag :\n",
        "      td_rs_tag = tr_tag.find_all('td')   \n",
        "      city = td_rs_tag[0].string\n",
        "      cur_temp = td_rs_tag[5].string\n",
        "      sen_temp = td_rs_tag[7].string\n",
        "      result.append([city, cur_temp, sen_temp])\n",
        "  return result\n",
        "\n",
        "def main():    \n",
        "    result = weather_temp()   \n",
        "    print('result',result) \n",
        "    # 2022-10-10-weathers.csv\n",
        "    to_now = datetime.datetime.today().date()\n",
        "    \n",
        "    # field names  \n",
        "    fields = ['도시', '현재기온', '체감온도'] \n",
        "\n",
        "    with open('./data_crawling/%s-weathers.csv' % to_now, 'w',newline='') as f: \n",
        "       write = csv.writer(f)       \n",
        "       write.writerow(fields) \n",
        "       write.writerows(result)     \n",
        "   \n",
        "    print('weather 데이터 저장 완료')\n",
        "    del result[:]\n",
        "\n",
        "if __name__ =='__main__':\n",
        "    main()"
      ],
      "metadata": {
        "colab": {
          "base_uri": "https://localhost:8080/"
        },
        "id": "wy76wiDB-K6W",
        "outputId": "bc51f5ec-a244-423a-fc3f-726e681876d2"
      },
      "execution_count": null,
      "outputs": [
        {
          "output_type": "stream",
          "name": "stdout",
          "text": [
            "result [['강릉', '6.7', '5.8'], ['강진군', '3.9', '3.9'], ['강화', '0.1', '0.1'], ['거제', '7.0', '7.0'], ['거창', '2.5', '2.5'], ['경주시', '4.6', '2.9'], ['고산', '9.9', '5.7'], ['고창', '4.9', '3.5'], ['고창군', '4.5', '4.5'], ['고흥', '5.9', '5.0'], ['광양시', '5.0', '3.9'], ['광주', '5.8', '5.8'], ['구미', '5.2', '5.2'], ['군산', '4.0', '0.9'], ['금산', '-0.1', '-0.1'], ['김해시', '5.4', '3.5'], ['남원', '1.2', '1.2'], ['남해', '5.2', '5.2'], ['대관령', '-1.0', '-7.1'], ['대구', '4.9', '3.1'], ['대전', '3.3', '3.3'], ['동두천', '0.6', '0.6'], ['동해', '7.0', '5.8'], ['목포', '6.9', '6.9'], ['문경', '1.7', '1.7'], ['밀양', '6.2', '6.2'], ['백령도', '5.8', '1.3'], ['보령', '5.6', '5.6'], ['보성군', '5.5', '4.3'], ['보은', '0.9', '0.9'], ['봉화', '2.3', '2.3'], ['부산', '6.6', '4.5'], ['부안', '5.4', '4.3'], ['부여', '4.4', '4.4'], ['북강릉', '7.0', '4.6'], ['북창원', '5.9', '5.9'], ['북춘천', '2.5', '-0.1'], ['산청', '4.4', '4.4'], ['상주', '3.7', '3.7'], ['서귀포', '10.1', '9.5'], ['서산', '4.6', '2.6'], ['서울', '3.0', '1.5'], ['성산', '8.7', '7.3'], ['세종', '4.1', '4.1'], ['속초', '5.9', '5.9'], ['수원', '2.3', '-0.3'], ['순창군', '1.0', '1.0'], ['순천', '3.5', '3.5'], ['안동', '5.0', '3.7'], ['양산시', '7.2', '5.7'], ['양평', '4.2', '4.2'], ['여수', '6.0', '3.3'], ['영광군', '5.4', '5.4'], ['영덕', '5.8', '2.3'], ['영월', '1.6', '1.6'], ['영주', '2.3', '2.3'], ['영천', '4.6', '3.3'], ['완도', '6.8', '5.5'], ['울릉도', '7.2', '3.0'], ['울산', '6.9', '4.2'], ['울진', '7.2', '4.8'], ['원주', '5.3', '3.5'], ['의령군', '4.9', '4.0'], ['의성', '5.1', '5.1'], ['이천', '5.2', '3.5'], ['인제', '4.1', '1.3'], ['인천', '3.6', '3.6'], ['임실', '0.0', '0.0'], ['장수', '-1.6', '-1.6'], ['장흥', '3.2', '3.2'], ['전주', '4.7', '4.7'], ['정선군', '1.2', '1.2'], ['정읍', '4.9', '2.7'], ['제주', '9.3', '7.0'], ['제천', '0.0', '0.0'], ['진도군', '4.7', '4.7'], ['진주', '4.5', '4.5'], ['창원', '5.2', '5.2'], ['천안', '5.1', '3.8'], ['철원', '0.7', '0.7'], ['청송군', '3.0', '0.3'], ['청주', '4.5', '4.5'], ['추풍령', '3.5', '0.3'], ['춘천', '3.7', '1.4'], ['충주', '2.5', '2.5'], ['태백', '0.5', '-2.2'], ['통영', '6.5', '5.2'], ['파주', '-0.4', '-0.4'], ['포항', '6.8', '5.1'], ['함양군', '1.8', '1.8'], ['합천', '6.0', '6.0'], ['해남', '2.9', '2.9'], ['홍성', '4.7', '2.7'], ['홍천', '3.4', '3.4'], ['흑산도', '7.8', '6.1']]\n",
            "weather 데이터 저장 완료\n"
          ]
        }
      ]
    },
    {
      "cell_type": "code",
      "source": [
        "!pwd"
      ],
      "metadata": {
        "colab": {
          "base_uri": "https://localhost:8080/"
        },
        "id": "t30gdE8asCw2",
        "outputId": "5c7b7914-e2e6-450b-bdef-c663ee94d9dd"
      },
      "execution_count": null,
      "outputs": [
        {
          "output_type": "stream",
          "name": "stdout",
          "text": [
            "/content/drive/MyDrive/python_demo\n"
          ]
        }
      ]
    },
    {
      "cell_type": "code",
      "source": [
        "\n",
        "to_now = datetime.datetime.today().date()\n",
        "with open('./data_crawing/%s-weathers.csv' % to_now, 'r') as f:\n",
        "   #print(type(list(f.read())))  \n",
        "   print(f.readline())\n",
        "   for element in f :\n",
        "     #print(element)\n",
        "     #print(type(element))\n",
        "     td_list = element.split(',')\n",
        "     print(td_list[0], td_list[1], td_list[2])\n",
        "    # break\n",
        "       \n",
        "    \n",
        "    \n",
        "     \n",
        "\n"
      ],
      "metadata": {
        "colab": {
          "base_uri": "https://localhost:8080/"
        },
        "id": "y0HcX7Iq_gK_",
        "outputId": "809aadcb-7b9a-43fe-a59d-919912809794"
      },
      "execution_count": null,
      "outputs": [
        {
          "output_type": "stream",
          "name": "stdout",
          "text": [
            "도시,현재기온,체감온도\n",
            "\n",
            "강릉 7.1 5.4\n",
            "\n",
            "강진군 6.2 6.2\n",
            "\n",
            "강화 1.3 1.3\n",
            "\n",
            "거제 7.7 6.9\n",
            "\n",
            "거창 4.9 4.9\n",
            "\n",
            "경주시 7.2 3.2\n",
            "\n",
            "고산 8.8 4.7\n",
            "\n",
            "고창 5.1 3.6\n",
            "\n",
            "고창군 3.5 3.5\n",
            "\n",
            "고흥 6.4 5.3\n",
            "\n",
            "광양시 5.4 5.4\n",
            "\n",
            "광주 5.8 5.8\n",
            "\n",
            "구미 6.7 6.7\n",
            "\n",
            "군산 4.9 2.2\n",
            "\n",
            "금산 1.7 1.7\n",
            "\n",
            "김해시 7.0 4.8\n",
            "\n",
            "남원 3.1 3.1\n",
            "\n",
            "남해 4.8 4.8\n",
            "\n",
            "대관령 -1.0 -7.5\n",
            "\n",
            "대구 5.7 4.2\n",
            "\n",
            "대전 3.8 2.6\n",
            "\n",
            "동두천 0.6 0.6\n",
            "\n",
            "동해 8.7 7.4\n",
            "\n",
            "목포 6.6 6.6\n",
            "\n",
            "문경 2.9 2.9\n",
            "\n",
            "밀양 7.0 7.0\n",
            "\n",
            "백령도 5.4 1.5\n",
            "\n",
            "보령 5.4 2.8\n",
            "\n",
            "보성군 7.0 4.8\n",
            "\n",
            "보은 3.0 3.0\n",
            "\n",
            "봉화 5.8 5.8\n",
            "\n",
            "부산 8.3 5.8\n",
            "\n",
            "부안 4.9 4.9\n",
            "\n",
            "부여 5.0 4.1\n",
            "\n",
            "북강릉 6.6 4.2\n",
            "\n",
            "북창원 6.5 5.0\n",
            "\n",
            "북춘천 4.1 2.2\n",
            "\n",
            "산청 5.1 3.4\n",
            "\n",
            "상주 5.0 5.0\n",
            "\n",
            "서귀포 10.0 8.0\n",
            "\n",
            "서산 4.8 1.8\n",
            "\n",
            "서울 3.5 0.9\n",
            "\n",
            "성산 8.9 6.6\n",
            "\n",
            "세종 4.2 4.2\n",
            "\n",
            "속초 5.4 3.9\n",
            "\n",
            "수원 3.6 3.6\n",
            "\n",
            "순창군 2.6 2.6\n",
            "\n",
            "순천 5.1 2.8\n",
            "\n",
            "안동 5.4 3.5\n",
            "\n",
            "양산시 9.0 8.1\n",
            "\n",
            "양평 5.0 5.0\n",
            "\n",
            "여수 6.1 3.6\n",
            "\n",
            "영광군 5.8 5.8\n",
            "\n",
            "영덕 5.7 3.1\n",
            "\n",
            "영월 3.4 3.4\n",
            "\n",
            "영주 4.4 3.4\n",
            "\n",
            "영천 4.7 4.7\n",
            "\n",
            "완도 7.5 5.6\n",
            "\n",
            "울릉도 8.6 6.9\n",
            "\n",
            "울산 10.6 8.8\n",
            "\n",
            "울진 7.8 5.9\n",
            "\n",
            "원주 4.9 4.9\n",
            "\n",
            "의령군 5.2 2.7\n",
            "\n",
            "의성 6.4 6.4\n",
            "\n",
            "이천 5.3 4.0\n",
            "\n",
            "인제 4.1 2.6\n",
            "\n",
            "인천 3.4 3.4\n",
            "\n",
            "임실 2.4 2.4\n",
            "\n",
            "장수 0.4 0.4\n",
            "\n",
            "장흥 6.4 4.7\n",
            "\n",
            "전주 4.8 3.6\n",
            "\n",
            "정선군 3.1 -0.3\n",
            "\n",
            "정읍 4.7 3.5\n",
            "\n",
            "제주 9.7 7.4\n",
            "\n",
            "제천 1.1 1.1\n",
            "\n",
            "진도군 6.4 5.0\n",
            "\n",
            "진주 5.3 5.3\n",
            "\n",
            "창원 6.0 6.0\n",
            "\n",
            "천안 5.4 4.3\n",
            "\n",
            "철원 0.7 -0.8\n",
            "\n",
            "청송군 3.2 1.3\n",
            "\n",
            "청주 5.0 5.0\n",
            "\n",
            "추풍령 3.5 0.8\n",
            "\n",
            "춘천 4.8 3.3\n",
            "\n",
            "충주 1.5 1.5\n",
            "\n",
            "태백 0.9 -2.3\n",
            "\n",
            "통영 6.9 4.6\n",
            "\n",
            "파주 0.3 0.3\n",
            "\n",
            "포항 8.8 6.8\n",
            "\n",
            "함양군 5.0 2.8\n",
            "\n",
            "합천 6.9 6.9\n",
            "\n",
            "해남 5.3 5.3\n",
            "\n",
            "홍성 4.6 1.8\n",
            "\n",
            "홍천 4.3 4.3\n",
            "\n",
            "흑산도 7.1 5.7\n",
            "\n"
          ]
        }
      ]
    },
    {
      "cell_type": "code",
      "source": [],
      "metadata": {
        "id": "CHWLBmrQ_ahO"
      },
      "execution_count": null,
      "outputs": []
    }
  ]
}