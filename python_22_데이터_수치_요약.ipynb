{
  "nbformat": 4,
  "nbformat_minor": 0,
  "metadata": {
    "colab": {
      "provenance": [],
      "authorship_tag": "ABX9TyMlpea8KZTxs86DxRtZrpzb",
      "include_colab_link": true
    },
    "kernelspec": {
      "name": "python3",
      "display_name": "Python 3"
    },
    "language_info": {
      "name": "python"
    }
  },
  "cells": [
    {
      "cell_type": "markdown",
      "metadata": {
        "id": "view-in-github",
        "colab_type": "text"
      },
      "source": [
        "<a href=\"https://colab.research.google.com/github/Ararine/pythondemo/blob/main/python_22_%EB%8D%B0%EC%9D%B4%ED%84%B0_%EC%88%98%EC%B9%98_%EC%9A%94%EC%95%BD.ipynb\" target=\"_parent\"><img src=\"https://colab.research.google.com/assets/colab-badge.svg\" alt=\"Open In Colab\"/></a>"
      ]
    },
    {
      "cell_type": "markdown",
      "source": [
        "## 4명의 키와 몸무게 계산(합계, 평균, 편차, 분산, 표준편차, 상관계수)\n",
        "1. python을 이용한 4명의 키와 몸무게\n",
        "2. numpy을 이용한 4명의 키와 몸무게"
      ],
      "metadata": {
        "id": "kLZOvlEaaeEG"
      }
    },
    {
      "cell_type": "markdown",
      "source": [
        "### python을 이용한 4명의 키와 몸무게"
      ],
      "metadata": {
        "id": "moTKKvyybCqC"
      }
    },
    {
      "cell_type": "code",
      "source": [
        "height = [175, 165, 180, 160]\n",
        "weight = [75, 70, 95, 72]"
      ],
      "metadata": {
        "id": "ZYbVPKifa3Rr"
      },
      "execution_count": 1,
      "outputs": []
    },
    {
      "cell_type": "markdown",
      "source": [
        "- 합계 - height, weight"
      ],
      "metadata": {
        "id": "B2K8jL7GbG_q"
      }
    },
    {
      "cell_type": "code",
      "source": [
        "h_sum = sum(height)\n",
        "w_sum = sum(weight)\n",
        "print('키 합계:', h_sum)\n",
        "print('몸무게 합계:', w_sum)"
      ],
      "metadata": {
        "colab": {
          "base_uri": "https://localhost:8080/"
        },
        "id": "82PFeSB2a-48",
        "outputId": "f8aaeaf9-ed0a-485b-9a4d-3427b16e97eb"
      },
      "execution_count": 4,
      "outputs": [
        {
          "output_type": "stream",
          "name": "stdout",
          "text": [
            "키 합계: 680\n",
            "몸무게 합계: 312\n"
          ]
        }
      ]
    },
    {
      "cell_type": "markdown",
      "source": [
        "- 평균 - height, weight"
      ],
      "metadata": {
        "id": "6jK98GuPbQKa"
      }
    },
    {
      "cell_type": "code",
      "source": [
        "length = len(height)"
      ],
      "metadata": {
        "id": "OnekdE0UbsFx"
      },
      "execution_count": 5,
      "outputs": []
    },
    {
      "cell_type": "code",
      "source": [
        "h_mean = h_sum/length\n",
        "w_mean = w_sum/length"
      ],
      "metadata": {
        "id": "vvUa7I0BbwaJ"
      },
      "execution_count": 6,
      "outputs": []
    },
    {
      "cell_type": "code",
      "source": [
        "print('키 평균:', h_mean)\n",
        "print('몸무게 평균', w_mean)"
      ],
      "metadata": {
        "colab": {
          "base_uri": "https://localhost:8080/"
        },
        "id": "wzemH-Csb0xp",
        "outputId": "1e2f8bc2-d242-4f20-c6b7-c9eff0f7d4a7"
      },
      "execution_count": 8,
      "outputs": [
        {
          "output_type": "stream",
          "name": "stdout",
          "text": [
            "키 평균: 170.0\n",
            "몸무게 평균 78.0\n"
          ]
        }
      ]
    },
    {
      "cell_type": "markdown",
      "source": [
        "- 편차 - height, weight"
      ],
      "metadata": {
        "id": "ys99empicC8j"
      }
    },
    {
      "cell_type": "code",
      "source": [
        "h_deviation = [i-h_mean for i in height]\n",
        "w_deviation = [i-w_mean for i in weight]"
      ],
      "metadata": {
        "id": "YaWvsxjzcSNi"
      },
      "execution_count": 10,
      "outputs": []
    },
    {
      "cell_type": "code",
      "source": [
        "print('키 편차:', h_deviation, sum(h_deviation))\n",
        "print('몸무게 편차:', w_deviation, sum(w_deviation))"
      ],
      "metadata": {
        "colab": {
          "base_uri": "https://localhost:8080/"
        },
        "id": "TF0qZFHkcmCT",
        "outputId": "03727194-f24b-4feb-b31a-6eea07c9f79c"
      },
      "execution_count": 13,
      "outputs": [
        {
          "output_type": "stream",
          "name": "stdout",
          "text": [
            "키 편차: [5.0, -5.0, 10.0, -10.0] 0.0\n",
            "몸무게 편차: [-3.0, -8.0, 17.0, -6.0] 0.0\n"
          ]
        }
      ]
    },
    {
      "cell_type": "markdown",
      "source": [
        "- 분산 - height, weight"
      ],
      "metadata": {
        "id": "N2oTvn1adNyC"
      }
    },
    {
      "cell_type": "code",
      "source": [
        "h_data = [(i-h_mean)**2 for i in height]\n",
        "w_data = [(i-w_mean)**2 for i in weight]\n",
        "h_variance = sum(h_data)/length\n",
        "w_variance = sum(w_data)/length"
      ],
      "metadata": {
        "id": "hQb8b9_JdCWb"
      },
      "execution_count": 16,
      "outputs": []
    },
    {
      "cell_type": "code",
      "source": [
        "print('키 분산:', h_variance)\n",
        "print('몸무게 분산:', w_variance)"
      ],
      "metadata": {
        "colab": {
          "base_uri": "https://localhost:8080/"
        },
        "id": "5oZr3h9ndh5S",
        "outputId": "579a2fc1-816c-4912-c838-9291a85853f3"
      },
      "execution_count": 18,
      "outputs": [
        {
          "output_type": "stream",
          "name": "stdout",
          "text": [
            "키 분산: 62.5\n",
            "몸무게 분산: 99.5\n"
          ]
        }
      ]
    },
    {
      "cell_type": "markdown",
      "source": [
        "- 표준편차 - height, weight"
      ],
      "metadata": {
        "id": "kJ6iOjg6eShk"
      }
    },
    {
      "cell_type": "code",
      "source": [
        "import math\n",
        "\n",
        "h_standard_deviation = math.sqrt(h_variance)\n",
        "w_standard_deviation = math.sqrt(w_variance)"
      ],
      "metadata": {
        "id": "tjSQ2j7neWVi"
      },
      "execution_count": 21,
      "outputs": []
    },
    {
      "cell_type": "code",
      "source": [
        "print('키 표준편차:', h_standard_deviation)\n",
        "print('몸무게 표준편차:', w_standard_deviation)"
      ],
      "metadata": {
        "colab": {
          "base_uri": "https://localhost:8080/"
        },
        "id": "J3VxQ-MgeiJa",
        "outputId": "13693263-237e-45c9-b863-aff9a844ccb5"
      },
      "execution_count": 22,
      "outputs": [
        {
          "output_type": "stream",
          "name": "stdout",
          "text": [
            "키 표준편차: 7.905694150420948\n",
            "몸무게 표준편차: 9.974968671630002\n"
          ]
        }
      ]
    },
    {
      "cell_type": "markdown",
      "source": [
        "- 공분산 - height, weight"
      ],
      "metadata": {
        "id": "VEvHcMm-e4-x"
      }
    },
    {
      "cell_type": "code",
      "source": [
        "h_w_covariance = [i*j for i,j in zip(h_deviation, w_deviation)]\n",
        "print(h_w_covariance)\n",
        "\n",
        "h_w_covariance = sum(h_w_covariance)/length\n",
        "print(h_w_covariance)"
      ],
      "metadata": {
        "colab": {
          "base_uri": "https://localhost:8080/"
        },
        "id": "XxTByrCTe8NK",
        "outputId": "90e2b557-a7d8-4313-f648-090fcf9ee95a"
      },
      "execution_count": 24,
      "outputs": [
        {
          "output_type": "stream",
          "name": "stdout",
          "text": [
            "[-15.0, 40.0, 170.0, 60.0]\n",
            "63.75\n"
          ]
        }
      ]
    },
    {
      "cell_type": "markdown",
      "source": [
        "- 상관계수 - height, weight"
      ],
      "metadata": {
        "id": "H-F1rXxyfWXz"
      }
    },
    {
      "cell_type": "code",
      "source": [
        "h_w_coef = h_w_covariance / (h_standard_deviation * w_standard_deviation)\n",
        "print(h_w_coef)"
      ],
      "metadata": {
        "colab": {
          "base_uri": "https://localhost:8080/"
        },
        "id": "B-XJZvZdfecp",
        "outputId": "741d183a-4ec7-48eb-bf3a-f8606b457ebe"
      },
      "execution_count": 26,
      "outputs": [
        {
          "output_type": "stream",
          "name": "stdout",
          "text": [
            "0.8084043468090077\n"
          ]
        }
      ]
    },
    {
      "cell_type": "markdown",
      "source": [
        "### numpy을 이용한 4명의 키와 몸무게\n",
        "- 통계량의 계산이나 기본적인 데이터 분석에 사용되는 함수는 scipy패키지에서도 제공되나 sum, mean, var, cov, corrcoef등은 Scipy 2.0부터 remove되고 numpy에서 사용하도록 권장하고 있다."
      ],
      "metadata": {
        "id": "F4V20dxZmeKL"
      }
    },
    {
      "cell_type": "code",
      "source": [
        "import numpy as np"
      ],
      "metadata": {
        "id": "5NIAHc5xmxBz"
      },
      "execution_count": 27,
      "outputs": []
    },
    {
      "cell_type": "code",
      "source": [
        "height = [175, 165, 180, 160]\n",
        "weight = [75, 70, 95, 72]"
      ],
      "metadata": {
        "id": "mAFcc8SXmzzz"
      },
      "execution_count": 28,
      "outputs": []
    },
    {
      "cell_type": "markdown",
      "source": [
        "- 합계 - height, weight"
      ],
      "metadata": {
        "id": "C2PPrerfm7dy"
      }
    },
    {
      "cell_type": "code",
      "source": [
        "h_sum = np.sum(height)\n",
        "w_sum = np.sum(weight)"
      ],
      "metadata": {
        "id": "qMO5uuj-nAEy"
      },
      "execution_count": 29,
      "outputs": []
    },
    {
      "cell_type": "code",
      "source": [
        "print('키 합계:', h_sum)\n",
        "print('몸무게 합계:', w_sum)"
      ],
      "metadata": {
        "colab": {
          "base_uri": "https://localhost:8080/"
        },
        "id": "pcStSNL2nFfZ",
        "outputId": "1a020154-2605-41b1-bceb-3850b174cbbe"
      },
      "execution_count": 30,
      "outputs": [
        {
          "output_type": "stream",
          "name": "stdout",
          "text": [
            "키 합계: 680\n",
            "몸무게 합계: 312\n"
          ]
        }
      ]
    },
    {
      "cell_type": "markdown",
      "source": [
        "- 평균 - height, weight"
      ],
      "metadata": {
        "id": "C-jNZ1i7nLo6"
      }
    },
    {
      "cell_type": "code",
      "source": [
        "h_mean = np.mean(height)\n",
        "w_mean = np.mean(weight)"
      ],
      "metadata": {
        "id": "gTgFXq1TnSAp"
      },
      "execution_count": 31,
      "outputs": []
    },
    {
      "cell_type": "code",
      "source": [
        "print('키 평균:', h_mean)\n",
        "print('몸무게 평균:', w_mean)"
      ],
      "metadata": {
        "colab": {
          "base_uri": "https://localhost:8080/"
        },
        "id": "izd_TdcGnXTy",
        "outputId": "ccdf9627-4ba2-457a-bb4a-427d3bd598a4"
      },
      "execution_count": 33,
      "outputs": [
        {
          "output_type": "stream",
          "name": "stdout",
          "text": [
            "키 평균: 170.0\n",
            "몸무게 평균: 78.0\n"
          ]
        }
      ]
    },
    {
      "cell_type": "markdown",
      "source": [
        "- 편차 - height, weight"
      ],
      "metadata": {
        "id": "fkbEnt_unkUD"
      }
    },
    {
      "cell_type": "code",
      "source": [
        "h_deviation = height - h_mean\n",
        "w_deviation = weight - w_mean"
      ],
      "metadata": {
        "id": "-Z5rZcB5nedq"
      },
      "execution_count": 34,
      "outputs": []
    },
    {
      "cell_type": "code",
      "source": [
        "print('키 편차:', h_deviation, np.sum(h_deviation))\n",
        "print('몸무게 편차:', w_deviation, np.sum(w_deviation))"
      ],
      "metadata": {
        "colab": {
          "base_uri": "https://localhost:8080/"
        },
        "id": "BeE2W1a6nvjt",
        "outputId": "ea220136-bb13-4376-8416-88c6280f888e"
      },
      "execution_count": 35,
      "outputs": [
        {
          "output_type": "stream",
          "name": "stdout",
          "text": [
            "키 편차: [  5.  -5.  10. -10.] 0.0\n",
            "몸무게 편차: [-3. -8. 17. -6.] 0.0\n"
          ]
        }
      ]
    },
    {
      "cell_type": "markdown",
      "source": [
        "- 분산 - height, weight"
      ],
      "metadata": {
        "id": "wjNhzcMwn5ZE"
      }
    },
    {
      "cell_type": "code",
      "source": [
        "h_variance = np.var(height)\n",
        "p_variance = np.var(weight)"
      ],
      "metadata": {
        "id": "Orv6inb1oIKS"
      },
      "execution_count": 36,
      "outputs": []
    },
    {
      "cell_type": "code",
      "source": [
        "print('키 분산:', h_variance)\n",
        "print('몸무게 분산:', w_variance)"
      ],
      "metadata": {
        "colab": {
          "base_uri": "https://localhost:8080/"
        },
        "id": "A73hYl2ooN5S",
        "outputId": "8209ccb0-dd95-4858-91bd-a20d1bddfa26"
      },
      "execution_count": 37,
      "outputs": [
        {
          "output_type": "stream",
          "name": "stdout",
          "text": [
            "키 분산: 62.5\n",
            "몸무게 분산: 99.5\n"
          ]
        }
      ]
    },
    {
      "cell_type": "markdown",
      "source": [
        "- 표준편차 - height, weight"
      ],
      "metadata": {
        "id": "T3lpt8ExoU7T"
      }
    },
    {
      "cell_type": "code",
      "source": [
        "h_standard_deviation = np.std(height)\n",
        "w_standard_deviation = np.std(weight)"
      ],
      "metadata": {
        "id": "X8SsC-RVoZXD"
      },
      "execution_count": 38,
      "outputs": []
    },
    {
      "cell_type": "code",
      "source": [
        "print(\"키 표준편차:\", h_standard_deviation)\n",
        "print(\"몸무케 표준편차:\", w_standard_deviation)"
      ],
      "metadata": {
        "colab": {
          "base_uri": "https://localhost:8080/"
        },
        "id": "j0WlhbHRolgk",
        "outputId": "f9cd857d-4d7f-4ab2-d651-5011372b3cf1"
      },
      "execution_count": 39,
      "outputs": [
        {
          "output_type": "stream",
          "name": "stdout",
          "text": [
            "키 표준편차: 7.905694150420948\n",
            "몸무케 표준편차: 9.974968671630002\n"
          ]
        }
      ]
    },
    {
      "cell_type": "markdown",
      "source": [
        "- 공분산 - height, weight"
      ],
      "metadata": {
        "id": "3VLzuj-rorgx"
      }
    },
    {
      "cell_type": "code",
      "source": [
        "# 공분산 매트릭스로 출력\n",
        "h_w_covariance = np.cov(height, weight, ddof=0) # default ddof=0, 표본집단 모집단\n",
        "h_w_covariance"
      ],
      "metadata": {
        "colab": {
          "base_uri": "https://localhost:8080/"
        },
        "id": "pZYoL6oNo7s6",
        "outputId": "1b60fb70-b324-43b9-b1c2-3dcd8e4c7051"
      },
      "execution_count": 41,
      "outputs": [
        {
          "output_type": "execute_result",
          "data": {
            "text/plain": [
              "array([[62.5 , 63.75],\n",
              "       [63.75, 99.5 ]])"
            ]
          },
          "metadata": {},
          "execution_count": 41
        }
      ]
    },
    {
      "cell_type": "markdown",
      "source": [
        "- 상관계수 - height, weight"
      ],
      "metadata": {
        "id": "z6dip3B5piEk"
      }
    },
    {
      "cell_type": "code",
      "source": [
        "# 상관계수 매트릭스로 출력\n",
        "np.corrcoef(height, weight)"
      ],
      "metadata": {
        "colab": {
          "base_uri": "https://localhost:8080/"
        },
        "id": "rxOT49zeplia",
        "outputId": "bcfb3d7d-317b-4328-a9f8-bc775076878b"
      },
      "execution_count": 42,
      "outputs": [
        {
          "output_type": "execute_result",
          "data": {
            "text/plain": [
              "array([[1.        , 0.80840435],\n",
              "       [0.80840435, 1.        ]])"
            ]
          },
          "metadata": {},
          "execution_count": 42
        }
      ]
    },
    {
      "cell_type": "markdown",
      "source": [
        "- 일반적인 계산은 numpy를 이용하고 전문적인 계산은 scipy를 이용한다."
      ],
      "metadata": {
        "id": "caBqD-ExpqhS"
      }
    }
  ]
}